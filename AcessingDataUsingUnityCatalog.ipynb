{
 "cells": [
  {
   "cell_type": "code",
   "execution_count": 0,
   "metadata": {
    "application/vnd.databricks.v1+cell": {
     "cellMetadata": {
      "byteLimit": 2048000,
      "implicitDf": true,
      "rowLimit": 10000
     },
     "inputWidgets": {},
     "nuid": "39172b8c-9981-47fa-a1e7-41b8dc422d69",
     "showTitle": false,
     "tableResultSettingsMap": {},
     "title": ""
    }
   },
   "outputs": [
    {
     "output_type": "display_data",
     "data": {
      "text/html": [
       "<style scoped>\n",
       "  .table-result-container {\n",
       "    max-height: 300px;\n",
       "    overflow: auto;\n",
       "  }\n",
       "  table, th, td {\n",
       "    border: 1px solid black;\n",
       "    border-collapse: collapse;\n",
       "  }\n",
       "  th, td {\n",
       "    padding: 5px;\n",
       "  }\n",
       "  th {\n",
       "    text-align: left;\n",
       "  }\n",
       "</style><div class='table-result-container'><table class='table-result'><thead style='background-color: white'><tr></tr></thead><tbody></tbody></table></div>"
      ]
     },
     "metadata": {
      "application/vnd.databricks.v1+output": {
       "addedWidgets": {},
       "aggData": [],
       "aggError": "",
       "aggOverflow": false,
       "aggSchema": [],
       "aggSeriesLimitReached": false,
       "aggType": "",
       "arguments": {},
       "columnCustomDisplayInfos": {},
       "data": [],
       "datasetInfos": [],
       "dbfsResultPath": null,
       "isJsonSchema": true,
       "metadata": {
        "dataframeName": null
       },
       "overflow": false,
       "plotOptions": {
        "customPlotOptions": {},
        "displayType": "table",
        "pivotAggregation": null,
        "pivotColumns": null,
        "xColumns": null,
        "yColumns": null
       },
       "removedWidgets": [],
       "schema": [],
       "type": "table"
      }
     },
     "output_type": "display_data"
    }
   ],
   "source": [
    "%sql\n",
    "CREATE CATALOG Sales_Catalog;"
   ]
  },
  {
   "cell_type": "code",
   "execution_count": 0,
   "metadata": {
    "application/vnd.databricks.v1+cell": {
     "cellMetadata": {
      "byteLimit": 2048000,
      "implicitDf": true,
      "rowLimit": 10000
     },
     "inputWidgets": {},
     "nuid": "f3def852-aeb2-4ea4-8d94-2020400de6f5",
     "showTitle": false,
     "tableResultSettingsMap": {},
     "title": ""
    }
   },
   "outputs": [
    {
     "output_type": "display_data",
     "data": {
      "text/html": [
       "<style scoped>\n",
       "  .table-result-container {\n",
       "    max-height: 300px;\n",
       "    overflow: auto;\n",
       "  }\n",
       "  table, th, td {\n",
       "    border: 1px solid black;\n",
       "    border-collapse: collapse;\n",
       "  }\n",
       "  th, td {\n",
       "    padding: 5px;\n",
       "  }\n",
       "  th {\n",
       "    text-align: left;\n",
       "  }\n",
       "</style><div class='table-result-container'><table class='table-result'><thead style='background-color: white'><tr></tr></thead><tbody></tbody></table></div>"
      ]
     },
     "metadata": {
      "application/vnd.databricks.v1+output": {
       "addedWidgets": {},
       "aggData": [],
       "aggError": "",
       "aggOverflow": false,
       "aggSchema": [],
       "aggSeriesLimitReached": false,
       "aggType": "",
       "arguments": {},
       "columnCustomDisplayInfos": {},
       "data": [],
       "datasetInfos": [],
       "dbfsResultPath": null,
       "isJsonSchema": true,
       "metadata": {
        "dataframeName": null
       },
       "overflow": false,
       "plotOptions": {
        "customPlotOptions": {},
        "displayType": "table",
        "pivotAggregation": null,
        "pivotColumns": null,
        "xColumns": null,
        "yColumns": null
       },
       "removedWidgets": [],
       "schema": [],
       "type": "table"
      }
     },
     "output_type": "display_data"
    }
   ],
   "source": [
    "%sql\n",
    "USE CATALOG Sales_Catalog;"
   ]
  },
  {
   "cell_type": "code",
   "execution_count": 0,
   "metadata": {
    "application/vnd.databricks.v1+cell": {
     "cellMetadata": {
      "byteLimit": 2048000,
      "implicitDf": true,
      "rowLimit": 10000
     },
     "inputWidgets": {},
     "nuid": "3c0a2238-2988-4326-a68b-ada336ada104",
     "showTitle": false,
     "tableResultSettingsMap": {},
     "title": ""
    }
   },
   "outputs": [
    {
     "output_type": "display_data",
     "data": {
      "text/html": [
       "<style scoped>\n",
       "  .table-result-container {\n",
       "    max-height: 300px;\n",
       "    overflow: auto;\n",
       "  }\n",
       "  table, th, td {\n",
       "    border: 1px solid black;\n",
       "    border-collapse: collapse;\n",
       "  }\n",
       "  th, td {\n",
       "    padding: 5px;\n",
       "  }\n",
       "  th {\n",
       "    text-align: left;\n",
       "  }\n",
       "</style><div class='table-result-container'><table class='table-result'><thead style='background-color: white'><tr></tr></thead><tbody></tbody></table></div>"
      ]
     },
     "metadata": {
      "application/vnd.databricks.v1+output": {
       "addedWidgets": {},
       "aggData": [],
       "aggError": "",
       "aggOverflow": false,
       "aggSchema": [],
       "aggSeriesLimitReached": false,
       "aggType": "",
       "arguments": {},
       "columnCustomDisplayInfos": {},
       "data": [],
       "datasetInfos": [],
       "dbfsResultPath": null,
       "isJsonSchema": true,
       "metadata": {
        "dataframeName": null
       },
       "overflow": false,
       "plotOptions": {
        "customPlotOptions": {},
        "displayType": "table",
        "pivotAggregation": null,
        "pivotColumns": null,
        "xColumns": null,
        "yColumns": null
       },
       "removedWidgets": [],
       "schema": [],
       "type": "table"
      }
     },
     "output_type": "display_data"
    }
   ],
   "source": [
    "%sql\n",
    "CREATE SCHEMA sales_catalog.sales_schema;"
   ]
  },
  {
   "cell_type": "code",
   "execution_count": 0,
   "metadata": {
    "application/vnd.databricks.v1+cell": {
     "cellMetadata": {
      "byteLimit": 2048000,
      "implicitDf": true,
      "rowLimit": 10000
     },
     "inputWidgets": {},
     "nuid": "f61b96f2-3129-4959-bd7c-ebb14ad63025",
     "showTitle": false,
     "tableResultSettingsMap": {},
     "title": ""
    }
   },
   "outputs": [
    {
     "output_type": "display_data",
     "data": {
      "text/html": [
       "<style scoped>\n",
       "  .table-result-container {\n",
       "    max-height: 300px;\n",
       "    overflow: auto;\n",
       "  }\n",
       "  table, th, td {\n",
       "    border: 1px solid black;\n",
       "    border-collapse: collapse;\n",
       "  }\n",
       "  th, td {\n",
       "    padding: 5px;\n",
       "  }\n",
       "  th {\n",
       "    text-align: left;\n",
       "  }\n",
       "</style><div class='table-result-container'><table class='table-result'><thead style='background-color: white'><tr></tr></thead><tbody></tbody></table></div>"
      ]
     },
     "metadata": {
      "application/vnd.databricks.v1+output": {
       "addedWidgets": {},
       "aggData": [],
       "aggError": "",
       "aggOverflow": false,
       "aggSchema": [],
       "aggSeriesLimitReached": false,
       "aggType": "",
       "arguments": {},
       "columnCustomDisplayInfos": {},
       "data": [],
       "datasetInfos": [],
       "dbfsResultPath": null,
       "isJsonSchema": true,
       "metadata": {
        "dataframeName": null
       },
       "overflow": false,
       "plotOptions": {
        "customPlotOptions": {},
        "displayType": "table",
        "pivotAggregation": null,
        "pivotColumns": null,
        "xColumns": null,
        "yColumns": null
       },
       "removedWidgets": [],
       "schema": [],
       "type": "table"
      }
     },
     "output_type": "display_data"
    }
   ],
   "source": [
    "%sql\n",
    "USE Sales_Catalog.sales_schema;"
   ]
  },
  {
   "cell_type": "code",
   "execution_count": 0,
   "metadata": {
    "application/vnd.databricks.v1+cell": {
     "cellMetadata": {},
     "inputWidgets": {},
     "nuid": "be01e46e-bac4-4f0a-be41-e86b0547f0db",
     "showTitle": false,
     "tableResultSettingsMap": {},
     "title": ""
    }
   },
   "outputs": [
    {
     "output_type": "display_data",
     "data": {
      "text/html": [
       "<style scoped>\n",
       "  .table-result-container {\n",
       "    max-height: 300px;\n",
       "    overflow: auto;\n",
       "  }\n",
       "  table, th, td {\n",
       "    border: 1px solid black;\n",
       "    border-collapse: collapse;\n",
       "  }\n",
       "  th, td {\n",
       "    padding: 5px;\n",
       "  }\n",
       "  th {\n",
       "    text-align: left;\n",
       "  }\n",
       "</style><div class='table-result-container'><table class='table-result'><thead style='background-color: white'><tr></tr></thead><tbody></tbody></table></div>"
      ]
     },
     "metadata": {
      "application/vnd.databricks.v1+output": {
       "addedWidgets": {},
       "aggData": [],
       "aggError": "",
       "aggOverflow": false,
       "aggSchema": [],
       "aggSeriesLimitReached": false,
       "aggType": "",
       "arguments": {},
       "columnCustomDisplayInfos": {},
       "data": [],
       "datasetInfos": [],
       "dbfsResultPath": null,
       "isJsonSchema": true,
       "metadata": {
        "dataframeName": null
       },
       "overflow": false,
       "plotOptions": {
        "customPlotOptions": {},
        "displayType": "table",
        "pivotAggregation": null,
        "pivotColumns": null,
        "xColumns": null,
        "yColumns": null
       },
       "removedWidgets": [],
       "schema": [],
       "type": "table"
      }
     },
     "output_type": "display_data"
    }
   ],
   "source": [
    "%sql\n",
    "drop volume Sales_Catalog.sales_schema.sales_volume"
   ]
  },
  {
   "cell_type": "code",
   "execution_count": 0,
   "metadata": {
    "application/vnd.databricks.v1+cell": {
     "cellMetadata": {
      "byteLimit": 2048000,
      "implicitDf": true,
      "rowLimit": 10000
     },
     "inputWidgets": {},
     "nuid": "15067350-bcb6-4153-9aa6-89f13cf7b344",
     "showTitle": false,
     "tableResultSettingsMap": {},
     "title": ""
    }
   },
   "outputs": [
    {
     "output_type": "display_data",
     "data": {
      "text/html": [
       "<style scoped>\n",
       "  .table-result-container {\n",
       "    max-height: 300px;\n",
       "    overflow: auto;\n",
       "  }\n",
       "  table, th, td {\n",
       "    border: 1px solid black;\n",
       "    border-collapse: collapse;\n",
       "  }\n",
       "  th, td {\n",
       "    padding: 5px;\n",
       "  }\n",
       "  th {\n",
       "    text-align: left;\n",
       "  }\n",
       "</style><div class='table-result-container'><table class='table-result'><thead style='background-color: white'><tr></tr></thead><tbody></tbody></table></div>"
      ]
     },
     "metadata": {
      "application/vnd.databricks.v1+output": {
       "addedWidgets": {},
       "aggData": [],
       "aggError": "",
       "aggOverflow": false,
       "aggSchema": [],
       "aggSeriesLimitReached": false,
       "aggType": "",
       "arguments": {},
       "columnCustomDisplayInfos": {},
       "data": [],
       "datasetInfos": [],
       "dbfsResultPath": null,
       "isJsonSchema": true,
       "metadata": {
        "dataframeName": null
       },
       "overflow": false,
       "plotOptions": {
        "customPlotOptions": {},
        "displayType": "table",
        "pivotAggregation": null,
        "pivotColumns": null,
        "xColumns": null,
        "yColumns": null
       },
       "removedWidgets": [],
       "schema": [],
       "type": "table"
      }
     },
     "output_type": "display_data"
    }
   ],
   "source": [
    "%sql\n",
    "CREATE EXTERNAL VOLUME Sales_Catalog.sales_schema.sales_volume\n",
    "LOCATION 'abfss://mychocloatesalescontainer@mychocolatesalessa.dfs.core.windows.net/mysales';"
   ]
  },
  {
   "cell_type": "code",
   "execution_count": 0,
   "metadata": {
    "application/vnd.databricks.v1+cell": {
     "cellMetadata": {
      "byteLimit": 2048000,
      "implicitDf": true,
      "rowLimit": 10000
     },
     "inputWidgets": {},
     "nuid": "47749102-af48-492f-82ab-d95f2d5a8a64",
     "showTitle": false,
     "tableResultSettingsMap": {},
     "title": ""
    }
   },
   "outputs": [
    {
     "output_type": "display_data",
     "data": {
      "text/html": [
       "<style scoped>\n",
       "  .table-result-container {\n",
       "    max-height: 300px;\n",
       "    overflow: auto;\n",
       "  }\n",
       "  table, th, td {\n",
       "    border: 1px solid black;\n",
       "    border-collapse: collapse;\n",
       "  }\n",
       "  th, td {\n",
       "    padding: 5px;\n",
       "  }\n",
       "  th {\n",
       "    text-align: left;\n",
       "  }\n",
       "</style><div class='table-result-container'><table class='table-result'><thead style='background-color: white'><tr><th>database</th><th>volume_name</th></tr></thead><tbody><tr><td>sales_schema</td><td>sales_volume</td></tr></tbody></table></div>"
      ]
     },
     "metadata": {
      "application/vnd.databricks.v1+output": {
       "addedWidgets": {},
       "aggData": [],
       "aggError": "",
       "aggOverflow": false,
       "aggSchema": [],
       "aggSeriesLimitReached": false,
       "aggType": "",
       "arguments": {},
       "columnCustomDisplayInfos": {},
       "data": [
        [
         "sales_schema",
         "sales_volume"
        ]
       ],
       "datasetInfos": [],
       "dbfsResultPath": null,
       "isJsonSchema": true,
       "metadata": {
        "createTempViewForImplicitDf": true,
        "dataframeName": "_sqldf",
        "executionCount": 4
       },
       "overflow": false,
       "plotOptions": {
        "customPlotOptions": {},
        "displayType": "table",
        "pivotAggregation": null,
        "pivotColumns": null,
        "xColumns": null,
        "yColumns": null
       },
       "removedWidgets": [],
       "schema": [
        {
         "metadata": "{}",
         "name": "database",
         "type": "\"string\""
        },
        {
         "metadata": "{}",
         "name": "volume_name",
         "type": "\"string\""
        }
       ],
       "type": "table"
      }
     },
     "output_type": "display_data"
    }
   ],
   "source": [
    "%sql\n",
    "show volumes"
   ]
  },
  {
   "cell_type": "code",
   "execution_count": 0,
   "metadata": {
    "application/vnd.databricks.v1+cell": {
     "cellMetadata": {
      "byteLimit": 2048000,
      "rowLimit": 10000
     },
     "inputWidgets": {},
     "nuid": "52c7473b-2238-462c-a09c-9dddef4895ab",
     "showTitle": false,
     "tableResultSettingsMap": {},
     "title": ""
    }
   },
   "outputs": [],
   "source": [
    "raw_df = spark.read.options(header=True, inferSchema=True).csv('/Volumes/sales_catalog/sales_schema/sales_volume/raw/sales.csv').cache()"
   ]
  },
  {
   "cell_type": "code",
   "execution_count": 0,
   "metadata": {
    "application/vnd.databricks.v1+cell": {
     "cellMetadata": {
      "byteLimit": 2048000,
      "rowLimit": 10000
     },
     "inputWidgets": {},
     "nuid": "5b49055f-2d37-4b3c-b3e4-268fb439e5d2",
     "showTitle": false,
     "tableResultSettingsMap": {},
     "title": ""
    }
   },
   "outputs": [
    {
     "output_type": "stream",
     "name": "stdout",
     "output_type": "stream",
     "text": [
      "+---------------+-----------+--------------------+--------+-----+\n|   Sales Person|  Geography|             Product|  Amount|Units|\n+---------------+-----------+--------------------+--------+-----+\n|     Ram Mahesh|New Zealand|      70% Dark Bites| $1,624 |  114|\n|    Brien Boise|        USA|Choco Coated Almonds| $6,706 |  459|\n|   Husein Augar|        USA|        Almond Choco|   $959 |  147|\n|   Carla Molina|     Canada|       Drinking Coco| $9,632 |  288|\n| Curtice Advani|         UK|          White Choc| $2,100 |  414|\n|     Ram Mahesh|        USA| Peanut Butter Cubes| $8,869 |  432|\n| Curtice Advani|  Australia|  Smooth Sliky Salty| $2,681 |   54|\n|    Brien Boise|        USA|         After Nines| $5,012 |  210|\n|   Ches Bonnell|  Australia|      50% Dark Bites| $1,281 |   75|\n|   Gigi Bohling|New Zealand|      50% Dark Bites| $4,991 |   12|\n|   Barr Faughny|         UK|          White Choc| $1,785 |  462|\n|Gunar Cockshoot|New Zealand|             Eclairs| $3,983 |  144|\n|   Husein Augar|  Australia|     Mint Chip Choco| $2,646 |  120|\n|   Barr Faughny|      India|           Milk Bars|   $252 |   54|\n|Gunar Cockshoot|        USA|          White Choc| $2,464 |  234|\n|Gunar Cockshoot|        USA|  Manuka Honey Choco| $2,114 |   66|\n| Curtice Advani|New Zealand|  Smooth Sliky Salty| $7,693 |   87|\n|   Gigi Bohling|      India|        Orange Choco|$15,610 |  339|\n|   Carla Molina|      India|         After Nines|   $336 |  144|\n|   Barr Faughny|         UK|        Orange Choco| $9,443 |  162|\n+---------------+-----------+--------------------+--------+-----+\nonly showing top 20 rows\n\n"
     ]
    }
   ],
   "source": [
    "raw_df.show()"
   ]
  },
  {
   "cell_type": "code",
   "execution_count": 0,
   "metadata": {
    "application/vnd.databricks.v1+cell": {
     "cellMetadata": {
      "byteLimit": 2048000,
      "rowLimit": 10000
     },
     "inputWidgets": {},
     "nuid": "b813c594-d1f0-4616-8cd6-0de610cd023b",
     "showTitle": false,
     "tableResultSettingsMap": {},
     "title": ""
    }
   },
   "outputs": [],
   "source": [
    "raw_df = raw_df.withColumnRenamed(\"Sales Person\", \"sales_person\") \\\n",
    "      .withColumnRenamed(\"Geography\", \"geography\") \\\n",
    "      .withColumnRenamed(\"Product\", \"product_name\") \\\n",
    "      .withColumnRenamed(\"Amount\", \"amount\") \\\n",
    "      .withColumnRenamed(\"Units\", \"units\") "
   ]
  },
  {
   "cell_type": "code",
   "execution_count": 0,
   "metadata": {
    "application/vnd.databricks.v1+cell": {
     "cellMetadata": {
      "byteLimit": 2048000,
      "rowLimit": 10000
     },
     "inputWidgets": {},
     "nuid": "9778b773-c570-4cf6-bf68-7c4e00114e39",
     "showTitle": false,
     "tableResultSettingsMap": {},
     "title": ""
    }
   },
   "outputs": [
    {
     "output_type": "stream",
     "name": "stdout",
     "output_type": "stream",
     "text": [
      "+---------------+-----------+--------------------+--------+-----+\n|   sales_person|  geography|        product_name|  amount|units|\n+---------------+-----------+--------------------+--------+-----+\n|     Ram Mahesh|New Zealand|      70% Dark Bites| $1,624 |  114|\n|    Brien Boise|        USA|Choco Coated Almonds| $6,706 |  459|\n|   Husein Augar|        USA|        Almond Choco|   $959 |  147|\n|   Carla Molina|     Canada|       Drinking Coco| $9,632 |  288|\n| Curtice Advani|         UK|          White Choc| $2,100 |  414|\n|     Ram Mahesh|        USA| Peanut Butter Cubes| $8,869 |  432|\n| Curtice Advani|  Australia|  Smooth Sliky Salty| $2,681 |   54|\n|    Brien Boise|        USA|         After Nines| $5,012 |  210|\n|   Ches Bonnell|  Australia|      50% Dark Bites| $1,281 |   75|\n|   Gigi Bohling|New Zealand|      50% Dark Bites| $4,991 |   12|\n|   Barr Faughny|         UK|          White Choc| $1,785 |  462|\n|Gunar Cockshoot|New Zealand|             Eclairs| $3,983 |  144|\n|   Husein Augar|  Australia|     Mint Chip Choco| $2,646 |  120|\n|   Barr Faughny|      India|           Milk Bars|   $252 |   54|\n|Gunar Cockshoot|        USA|          White Choc| $2,464 |  234|\n|Gunar Cockshoot|        USA|  Manuka Honey Choco| $2,114 |   66|\n| Curtice Advani|New Zealand|  Smooth Sliky Salty| $7,693 |   87|\n|   Gigi Bohling|      India|        Orange Choco|$15,610 |  339|\n|   Carla Molina|      India|         After Nines|   $336 |  144|\n|   Barr Faughny|         UK|        Orange Choco| $9,443 |  162|\n+---------------+-----------+--------------------+--------+-----+\nonly showing top 20 rows\n\n"
     ]
    }
   ],
   "source": [
    "raw_df.show()"
   ]
  },
  {
   "cell_type": "code",
   "execution_count": 0,
   "metadata": {
    "application/vnd.databricks.v1+cell": {
     "cellMetadata": {
      "byteLimit": 2048000,
      "rowLimit": 10000
     },
     "inputWidgets": {},
     "nuid": "de628c03-9540-4534-9fe5-07f7f1917fb7",
     "showTitle": false,
     "tableResultSettingsMap": {},
     "title": ""
    }
   },
   "outputs": [],
   "source": [
    "from pyspark.sql.types import *\n",
    "from pyspark.sql.functions import *"
   ]
  },
  {
   "cell_type": "code",
   "execution_count": 0,
   "metadata": {
    "application/vnd.databricks.v1+cell": {
     "cellMetadata": {
      "byteLimit": 2048000,
      "rowLimit": 10000
     },
     "inputWidgets": {},
     "nuid": "1edae73d-66e4-4ea7-9373-f09537e7d339",
     "showTitle": false,
     "tableResultSettingsMap": {},
     "title": ""
    }
   },
   "outputs": [],
   "source": [
    "raw_df = raw_df.withColumn(\"amount\", regexp_replace(\"amount\", \"^\\$\", \"\"))\\\n",
    "               .withColumn(\"amount\", regexp_replace(\"amount\", \",\", \"\"))"
   ]
  },
  {
   "cell_type": "code",
   "execution_count": 0,
   "metadata": {
    "application/vnd.databricks.v1+cell": {
     "cellMetadata": {
      "byteLimit": 2048000,
      "rowLimit": 10000
     },
     "inputWidgets": {},
     "nuid": "46c33d04-9724-43db-9ec6-d8f393f0feb7",
     "showTitle": false,
     "tableResultSettingsMap": {},
     "title": ""
    }
   },
   "outputs": [
    {
     "output_type": "display_data",
     "data": {
      "text/html": [
       "<style scoped>\n",
       "  .table-result-container {\n",
       "    max-height: 300px;\n",
       "    overflow: auto;\n",
       "  }\n",
       "  table, th, td {\n",
       "    border: 1px solid black;\n",
       "    border-collapse: collapse;\n",
       "  }\n",
       "  th, td {\n",
       "    padding: 5px;\n",
       "  }\n",
       "  th {\n",
       "    text-align: left;\n",
       "  }\n",
       "</style><div class='table-result-container'><table class='table-result'><thead style='background-color: white'><tr><th>sales_person</th><th>geography</th><th>product_name</th><th>amount</th><th>units</th></tr></thead><tbody><tr><td>Ram Mahesh</td><td>New Zealand</td><td>70% Dark Bites</td><td>1624 </td><td>114</td></tr><tr><td>Brien Boise</td><td>USA</td><td>Choco Coated Almonds</td><td>6706 </td><td>459</td></tr><tr><td>Husein Augar</td><td>USA</td><td>Almond Choco</td><td>959 </td><td>147</td></tr><tr><td>Carla Molina</td><td>Canada</td><td>Drinking Coco</td><td>9632 </td><td>288</td></tr><tr><td>Curtice Advani</td><td>UK</td><td>White Choc</td><td>2100 </td><td>414</td></tr><tr><td>Ram Mahesh</td><td>USA</td><td>Peanut Butter Cubes</td><td>8869 </td><td>432</td></tr><tr><td>Curtice Advani</td><td>Australia</td><td>Smooth Sliky Salty</td><td>2681 </td><td>54</td></tr><tr><td>Brien Boise</td><td>USA</td><td>After Nines</td><td>5012 </td><td>210</td></tr><tr><td>Ches Bonnell</td><td>Australia</td><td>50% Dark Bites</td><td>1281 </td><td>75</td></tr><tr><td>Gigi Bohling</td><td>New Zealand</td><td>50% Dark Bites</td><td>4991 </td><td>12</td></tr><tr><td>Barr Faughny</td><td>UK</td><td>White Choc</td><td>1785 </td><td>462</td></tr><tr><td>Gunar Cockshoot</td><td>New Zealand</td><td>Eclairs</td><td>3983 </td><td>144</td></tr><tr><td>Husein Augar</td><td>Australia</td><td>Mint Chip Choco</td><td>2646 </td><td>120</td></tr><tr><td>Barr Faughny</td><td>India</td><td>Milk Bars</td><td>252 </td><td>54</td></tr><tr><td>Gunar Cockshoot</td><td>USA</td><td>White Choc</td><td>2464 </td><td>234</td></tr><tr><td>Gunar Cockshoot</td><td>USA</td><td>Manuka Honey Choco</td><td>2114 </td><td>66</td></tr><tr><td>Curtice Advani</td><td>New Zealand</td><td>Smooth Sliky Salty</td><td>7693 </td><td>87</td></tr><tr><td>Gigi Bohling</td><td>India</td><td>Orange Choco</td><td>15610 </td><td>339</td></tr><tr><td>Carla Molina</td><td>India</td><td>After Nines</td><td>336 </td><td>144</td></tr><tr><td>Barr Faughny</td><td>UK</td><td>Orange Choco</td><td>9443 </td><td>162</td></tr><tr><td>Husein Augar</td><td>India</td><td>Fruit & Nut Bars</td><td>8155 </td><td>90</td></tr><tr><td>Brien Boise</td><td>Australia</td><td>Fruit & Nut Bars</td><td>1701 </td><td>234</td></tr><tr><td>Oby Sorrel</td><td>Australia</td><td>After Nines</td><td>2205 </td><td>141</td></tr><tr><td>Brien Boise</td><td>New Zealand</td><td>99% Dark & Pure</td><td>1771 </td><td>204</td></tr><tr><td>Carla Molina</td><td>USA</td><td>Raspberry Choco</td><td>2114 </td><td>186</td></tr><tr><td>Carla Molina</td><td>Canada</td><td>Milk Bars</td><td>10311 </td><td>231</td></tr><tr><td>Gunar Cockshoot</td><td>UK</td><td>Mint Chip Choco</td><td>21 </td><td>168</td></tr><tr><td>Oby Sorrel</td><td>USA</td><td>Orange Choco</td><td>1974 </td><td>195</td></tr><tr><td>Gigi Bohling</td><td>Canada</td><td>Fruit & Nut Bars</td><td>6314 </td><td>15</td></tr><tr><td>Oby Sorrel</td><td>New Zealand</td><td>Fruit & Nut Bars</td><td>4683 </td><td>30</td></tr><tr><td>Carla Molina</td><td>New Zealand</td><td>85% Dark Bars</td><td>6398 </td><td>102</td></tr><tr><td>Barr Faughny</td><td>USA</td><td>99% Dark & Pure</td><td>553 </td><td>15</td></tr><tr><td>Brien Boise</td><td>UK</td><td>70% Dark Bites</td><td>7021 </td><td>183</td></tr><tr><td>Ram Mahesh</td><td>UK</td><td>After Nines</td><td>5817 </td><td>12</td></tr><tr><td>Carla Molina</td><td>UK</td><td>50% Dark Bites</td><td>3976 </td><td>72</td></tr><tr><td>Curtice Advani</td><td>Australia</td><td>Organic Choco Syrup</td><td>1134 </td><td>282</td></tr><tr><td>Barr Faughny</td><td>UK</td><td>Caramel Stuffed Bars</td><td>6027 </td><td>144</td></tr><tr><td>Curtice Advani</td><td>New Zealand</td><td>Mint Chip Choco</td><td>1904 </td><td>405</td></tr><tr><td>Ches Bonnell</td><td>India</td><td>Choco Coated Almonds</td><td>3262 </td><td>75</td></tr><tr><td>Ram Mahesh</td><td>India</td><td>Organic Choco Syrup</td><td>2289 </td><td>135</td></tr><tr><td>Gigi Bohling</td><td>India</td><td>Organic Choco Syrup</td><td>6986 </td><td>21</td></tr><tr><td>Barr Faughny</td><td>Australia</td><td>Fruit & Nut Bars</td><td>4417 </td><td>153</td></tr><tr><td>Curtice Advani</td><td>India</td><td>Raspberry Choco</td><td>1442 </td><td>15</td></tr><tr><td>Gunar Cockshoot</td><td>USA</td><td>50% Dark Bites</td><td>2415 </td><td>255</td></tr><tr><td>Barr Faughny</td><td>New Zealand</td><td>99% Dark & Pure</td><td>238 </td><td>18</td></tr><tr><td>Curtice Advani</td><td>New Zealand</td><td>Fruit & Nut Bars</td><td>4949 </td><td>189</td></tr><tr><td>Gigi Bohling</td><td>Australia</td><td>Choco Coated Almonds</td><td>5075 </td><td>21</td></tr><tr><td>Gunar Cockshoot</td><td>Canada</td><td>Mint Chip Choco</td><td>9198 </td><td>36</td></tr><tr><td>Curtice Advani</td><td>India</td><td>Manuka Honey Choco</td><td>3339 </td><td>75</td></tr><tr><td>Ram Mahesh</td><td>India</td><td>Eclairs</td><td>5019 </td><td>156</td></tr><tr><td>Gigi Bohling</td><td>Canada</td><td>Mint Chip Choco</td><td>16184 </td><td>39</td></tr><tr><td>Curtice Advani</td><td>Canada</td><td>Spicy Special Slims</td><td>497 </td><td>63</td></tr><tr><td>Barr Faughny</td><td>Canada</td><td>Manuka Honey Choco</td><td>8211 </td><td>75</td></tr><tr><td>Barr Faughny</td><td>Australia</td><td>Caramel Stuffed Bars</td><td>6580 </td><td>183</td></tr><tr><td>Carla Molina</td><td>USA</td><td>Milk Bars</td><td>4760 </td><td>69</td></tr><tr><td>Ram Mahesh</td><td>Canada</td><td>White Choc</td><td>5439 </td><td>30</td></tr><tr><td>Carla Molina</td><td>India</td><td>Eclairs</td><td>1463 </td><td>39</td></tr><tr><td>Gunar Cockshoot</td><td>India</td><td>Choco Coated Almonds</td><td>7777 </td><td>504</td></tr><tr><td>Husein Augar</td><td>New Zealand</td><td>Manuka Honey Choco</td><td>1085 </td><td>273</td></tr><tr><td>Gigi Bohling</td><td>New Zealand</td><td>Smooth Sliky Salty</td><td>182 </td><td>48</td></tr><tr><td>Curtice Advani</td><td>India</td><td>Organic Choco Syrup</td><td>4242 </td><td>207</td></tr><tr><td>Curtice Advani</td><td>Canada</td><td>Choco Coated Almonds</td><td>6118 </td><td>9</td></tr><tr><td>Oby Sorrel</td><td>Canada</td><td>Fruit & Nut Bars</td><td>2317 </td><td>261</td></tr><tr><td>Curtice Advani</td><td>Australia</td><td>Mint Chip Choco</td><td>938 </td><td>6</td></tr><tr><td>Brien Boise</td><td>New Zealand</td><td>Raspberry Choco</td><td>9709 </td><td>30</td></tr><tr><td>Ches Bonnell</td><td>India</td><td>Orange Choco</td><td>2205 </td><td>138</td></tr><tr><td>Ches Bonnell</td><td>New Zealand</td><td>Eclairs</td><td>4487 </td><td>111</td></tr><tr><td>Gigi Bohling</td><td>USA</td><td>Drinking Coco</td><td>2415 </td><td>15</td></tr><tr><td>Ram Mahesh</td><td>India</td><td>99% Dark & Pure</td><td>4018 </td><td>162</td></tr><tr><td>Gigi Bohling</td><td>India</td><td>99% Dark & Pure</td><td>861 </td><td>195</td></tr><tr><td>Oby Sorrel</td><td>Australia</td><td>50% Dark Bites</td><td>5586 </td><td>525</td></tr><tr><td>Ches Bonnell</td><td>India</td><td>Peanut Butter Cubes</td><td>2226 </td><td>48</td></tr><tr><td>Husein Augar</td><td>India</td><td>Caramel Stuffed Bars</td><td>14329 </td><td>150</td></tr><tr><td>Husein Augar</td><td>India</td><td>Orange Choco</td><td>8463 </td><td>492</td></tr><tr><td>Gigi Bohling</td><td>India</td><td>Manuka Honey Choco</td><td>2891 </td><td>102</td></tr><tr><td>Gunar Cockshoot</td><td>Canada</td><td>Fruit & Nut Bars</td><td>3773 </td><td>165</td></tr><tr><td>Carla Molina</td><td>Canada</td><td>Caramel Stuffed Bars</td><td>854 </td><td>309</td></tr><tr><td>Curtice Advani</td><td>Canada</td><td>Eclairs</td><td>4970 </td><td>156</td></tr><tr><td>Husein Augar</td><td>USA</td><td>Baker's Choco Chips</td><td>98 </td><td>159</td></tr><tr><td>Gigi Bohling</td><td>USA</td><td>Raspberry Choco</td><td>13391 </td><td>201</td></tr><tr><td>Brien Boise</td><td>UK</td><td>Smooth Sliky Salty</td><td>8890 </td><td>210</td></tr><tr><td>Barr Faughny</td><td>Australia</td><td>Milk Bars</td><td>56 </td><td>51</td></tr><tr><td>Gunar Cockshoot</td><td>Canada</td><td>White Choc</td><td>3339 </td><td>39</td></tr><tr><td>Oby Sorrel</td><td>USA</td><td>Drinking Coco</td><td>3808 </td><td>279</td></tr><tr><td>Oby Sorrel</td><td>Australia</td><td>Milk Bars</td><td>63 </td><td>123</td></tr><tr><td>Barr Faughny</td><td>UK</td><td>Organic Choco Syrup</td><td>7812 </td><td>81</td></tr><tr><td>Ram Mahesh</td><td>New Zealand</td><td>99% Dark & Pure</td><td>7693 </td><td>21</td></tr><tr><td>Gunar Cockshoot</td><td>Canada</td><td>Caramel Stuffed Bars</td><td>973 </td><td>162</td></tr><tr><td>Oby Sorrel</td><td>USA</td><td>Spicy Special Slims</td><td>567 </td><td>228</td></tr><tr><td>Oby Sorrel</td><td>Canada</td><td>Manuka Honey Choco</td><td>2471 </td><td>342</td></tr><tr><td>Gigi Bohling</td><td>Australia</td><td>Milk Bars</td><td>7189 </td><td>54</td></tr><tr><td>Carla Molina</td><td>USA</td><td>Caramel Stuffed Bars</td><td>7455 </td><td>216</td></tr><tr><td>Gunar Cockshoot</td><td>India</td><td>Baker's Choco Chips</td><td>3108 </td><td>54</td></tr><tr><td>Curtice Advani</td><td>Australia</td><td>White Choc</td><td>469 </td><td>75</td></tr><tr><td>Husein Augar</td><td>New Zealand</td><td>Fruit & Nut Bars</td><td>2737 </td><td>93</td></tr><tr><td>Husein Augar</td><td>New Zealand</td><td>White Choc</td><td>4305 </td><td>156</td></tr><tr><td>Husein Augar</td><td>Australia</td><td>Eclairs</td><td>2408 </td><td>9</td></tr><tr><td>Gunar Cockshoot</td><td>Canada</td><td>99% Dark & Pure</td><td>1281 </td><td>18</td></tr><tr><td>Ram Mahesh</td><td>USA</td><td>Choco Coated Almonds</td><td>12348 </td><td>234</td></tr><tr><td>Gunar Cockshoot</td><td>India</td><td>Caramel Stuffed Bars</td><td>3689 </td><td>312</td></tr><tr><td>Ches Bonnell</td><td>Canada</td><td>99% Dark & Pure</td><td>2870 </td><td>300</td></tr><tr><td>Barr Faughny</td><td>Canada</td><td>Organic Choco Syrup</td><td>798 </td><td>519</td></tr><tr><td>Carla Molina</td><td>New Zealand</td><td>Spicy Special Slims</td><td>2933 </td><td>9</td></tr><tr><td>Gigi Bohling</td><td>USA</td><td>Almond Choco</td><td>2744 </td><td>9</td></tr><tr><td>Ram Mahesh</td><td>Canada</td><td>Peanut Butter Cubes</td><td>9772 </td><td>90</td></tr><tr><td>Ches Bonnell</td><td>India</td><td>White Choc</td><td>1568 </td><td>96</td></tr><tr><td>Barr Faughny</td><td>Canada</td><td>Mint Chip Choco</td><td>11417 </td><td>21</td></tr><tr><td>Ram Mahesh</td><td>India</td><td>Baker's Choco Chips</td><td>6748 </td><td>48</td></tr><tr><td>Oby Sorrel</td><td>Canada</td><td>Organic Choco Syrup</td><td>1407 </td><td>72</td></tr><tr><td>Brien Boise</td><td>USA</td><td>Manuka Honey Choco</td><td>2023 </td><td>168</td></tr><tr><td>Gigi Bohling</td><td>UK</td><td>Baker's Choco Chips</td><td>5236 </td><td>51</td></tr><tr><td>Carla Molina</td><td>Canada</td><td>99% Dark & Pure</td><td>1925 </td><td>192</td></tr><tr><td>Ches Bonnell</td><td>New Zealand</td><td>50% Dark Bites</td><td>6608 </td><td>225</td></tr><tr><td>Curtice Advani</td><td>India</td><td>Baker's Choco Chips</td><td>8008 </td><td>456</td></tr><tr><td>Oby Sorrel</td><td>India</td><td>White Choc</td><td>1428 </td><td>93</td></tr><tr><td>Curtice Advani</td><td>India</td><td>Almond Choco</td><td>525 </td><td>48</td></tr><tr><td>Curtice Advani</td><td>New Zealand</td><td>Drinking Coco</td><td>1505 </td><td>102</td></tr><tr><td>Ches Bonnell</td><td>USA</td><td>70% Dark Bites</td><td>6755 </td><td>252</td></tr><tr><td>Barr Faughny</td><td>New Zealand</td><td>Drinking Coco</td><td>11571 </td><td>138</td></tr><tr><td>Ram Mahesh</td><td>Australia</td><td>White Choc</td><td>2541 </td><td>90</td></tr><tr><td>Carla Molina</td><td>New Zealand</td><td>70% Dark Bites</td><td>1526 </td><td>240</td></tr><tr><td>Ram Mahesh</td><td>Australia</td><td>Almond Choco</td><td>6125 </td><td>102</td></tr><tr><td>Carla Molina</td><td>USA</td><td>Organic Choco Syrup</td><td>847 </td><td>129</td></tr><tr><td>Brien Boise</td><td>USA</td><td>Organic Choco Syrup</td><td>4753 </td><td>300</td></tr><tr><td>Curtice Advani</td><td>Australia</td><td>Peanut Butter Cubes</td><td>959 </td><td>135</td></tr><tr><td>Ches Bonnell</td><td>USA</td><td>85% Dark Bars</td><td>2793 </td><td>114</td></tr><tr><td>Ches Bonnell</td><td>USA</td><td>50% Dark Bites</td><td>4606 </td><td>63</td></tr><tr><td>Ches Bonnell</td><td>Canada</td><td>Manuka Honey Choco</td><td>5551 </td><td>252</td></tr><tr><td>Oby Sorrel</td><td>Canada</td><td>Choco Coated Almonds</td><td>6657 </td><td>303</td></tr><tr><td>Ches Bonnell</td><td>UK</td><td>Eclairs</td><td>4438 </td><td>246</td></tr><tr><td>Brien Boise</td><td>Australia</td><td>After Nines</td><td>168 </td><td>84</td></tr><tr><td>Ches Bonnell</td><td>India</td><td>Eclairs</td><td>7777 </td><td>39</td></tr><tr><td>Gigi Bohling</td><td>Canada</td><td>Eclairs</td><td>3339 </td><td>348</td></tr><tr><td>Ches Bonnell</td><td>New Zealand</td><td>Peanut Butter Cubes</td><td>6391 </td><td>48</td></tr><tr><td>Gigi Bohling</td><td>New Zealand</td><td>After Nines</td><td>518 </td><td>75</td></tr><tr><td>Ches Bonnell</td><td>Australia</td><td>Caramel Stuffed Bars</td><td>5677 </td><td>258</td></tr><tr><td>Curtice Advani</td><td>UK</td><td>Eclairs</td><td>6048 </td><td>27</td></tr><tr><td>Brien Boise</td><td>Australia</td><td>Choco Coated Almonds</td><td>3752 </td><td>213</td></tr><tr><td>Gigi Bohling</td><td>USA</td><td>Manuka Honey Choco</td><td>4480 </td><td>357</td></tr><tr><td>Husein Augar</td><td>New Zealand</td><td>Almond Choco</td><td>259 </td><td>207</td></tr><tr><td>Brien Boise</td><td>New Zealand</td><td>70% Dark Bites</td><td>42 </td><td>150</td></tr><tr><td>Carla Molina</td><td>Canada</td><td>Baker's Choco Chips</td><td>98 </td><td>204</td></tr><tr><td>Ches Bonnell</td><td>USA</td><td>Organic Choco Syrup</td><td>2478 </td><td>21</td></tr><tr><td>Carla Molina</td><td>India</td><td>Peanut Butter Cubes</td><td>7847 </td><td>174</td></tr><tr><td>Barr Faughny</td><td>New Zealand</td><td>Eclairs</td><td>9926 </td><td>201</td></tr><tr><td>Brien Boise</td><td>Australia</td><td>Milk Bars</td><td>819 </td><td>510</td></tr><tr><td>Curtice Advani</td><td>UK</td><td>Manuka Honey Choco</td><td>3052 </td><td>378</td></tr><tr><td>Husein Augar</td><td>India</td><td>Spicy Special Slims</td><td>6832 </td><td>27</td></tr><tr><td>Barr Faughny</td><td>UK</td><td>Mint Chip Choco</td><td>2016 </td><td>117</td></tr><tr><td>Curtice Advani</td><td>Australia</td><td>Spicy Special Slims</td><td>7322 </td><td>36</td></tr><tr><td>Brien Boise</td><td>USA</td><td>Peanut Butter Cubes</td><td>357 </td><td>126</td></tr><tr><td>Husein Augar</td><td>UK</td><td>White Choc</td><td>3192 </td><td>72</td></tr><tr><td>Ches Bonnell</td><td>Canada</td><td>After Nines</td><td>8435 </td><td>42</td></tr><tr><td>Ram Mahesh</td><td>UK</td><td>Manuka Honey Choco</td><td>0 </td><td>135</td></tr><tr><td>Ches Bonnell</td><td>India</td><td>85% Dark Bars</td><td>8862 </td><td>189</td></tr><tr><td>Curtice Advani</td><td>New Zealand</td><td>Caramel Stuffed Bars</td><td>3556 </td><td>459</td></tr><tr><td>Gigi Bohling</td><td>India</td><td>Raspberry Choco</td><td>7280 </td><td>201</td></tr><tr><td>Curtice Advani</td><td>India</td><td>70% Dark Bites</td><td>3402 </td><td>366</td></tr><tr><td>Gunar Cockshoot</td><td>New Zealand</td><td>Manuka Honey Choco</td><td>4592 </td><td>324</td></tr><tr><td>Husein Augar</td><td>USA</td><td>Raspberry Choco</td><td>7833 </td><td>243</td></tr><tr><td>Barr Faughny</td><td>UK</td><td>Spicy Special Slims</td><td>7651 </td><td>213</td></tr><tr><td>Ram Mahesh</td><td>USA</td><td>70% Dark Bites</td><td>2275 </td><td>447</td></tr><tr><td>Ram Mahesh</td><td>Australia</td><td>Milk Bars</td><td>5670 </td><td>297</td></tr><tr><td>Ches Bonnell</td><td>USA</td><td>Mint Chip Choco</td><td>2135 </td><td>27</td></tr><tr><td>Ram Mahesh</td><td>India</td><td>Fruit & Nut Bars</td><td>2779 </td><td>75</td></tr><tr><td>Oby Sorrel</td><td>UK</td><td>Peanut Butter Cubes</td><td>12950 </td><td>30</td></tr><tr><td>Ches Bonnell</td><td>Canada</td><td>Drinking Coco</td><td>2646 </td><td>177</td></tr><tr><td>Ram Mahesh</td><td>India</td><td>Peanut Butter Cubes</td><td>3794 </td><td>159</td></tr><tr><td>Gunar Cockshoot</td><td>USA</td><td>Peanut Butter Cubes</td><td>819 </td><td>306</td></tr><tr><td>Gunar Cockshoot</td><td>India</td><td>Orange Choco</td><td>2583 </td><td>18</td></tr><tr><td>Ches Bonnell</td><td>USA</td><td>99% Dark & Pure</td><td>4585 </td><td>240</td></tr><tr><td>Gigi Bohling</td><td>India</td><td>Peanut Butter Cubes</td><td>1652 </td><td>93</td></tr><tr><td>Oby Sorrel</td><td>India</td><td>Baker's Choco Chips</td><td>4991 </td><td>9</td></tr><tr><td>Brien Boise</td><td>India</td><td>Mint Chip Choco</td><td>2009 </td><td>219</td></tr><tr><td>Barr Faughny</td><td>UK</td><td>After Nines</td><td>1568 </td><td>141</td></tr><tr><td>Carla Molina</td><td>New Zealand</td><td>Orange Choco</td><td>3388 </td><td>123</td></tr><tr><td>Ram Mahesh</td><td>Australia</td><td>85% Dark Bars</td><td>623 </td><td>51</td></tr><tr><td>Curtice Advani</td><td>Canada</td><td>Almond Choco</td><td>10073 </td><td>120</td></tr><tr><td>Brien Boise</td><td>UK</td><td>Baker's Choco Chips</td><td>1561 </td><td>27</td></tr><tr><td>Husein Augar</td><td>Canada</td><td>Organic Choco Syrup</td><td>11522 </td><td>204</td></tr><tr><td>Curtice Advani</td><td>Australia</td><td>Milk Bars</td><td>2317 </td><td>123</td></tr><tr><td>Oby Sorrel</td><td>New Zealand</td><td>Caramel Stuffed Bars</td><td>3059 </td><td>27</td></tr><tr><td>Carla Molina</td><td>New Zealand</td><td>Baker's Choco Chips</td><td>2324 </td><td>177</td></tr><tr><td>Gunar Cockshoot</td><td>UK</td><td>Baker's Choco Chips</td><td>4956 </td><td>171</td></tr><tr><td>Oby Sorrel</td><td>India</td><td>99% Dark & Pure</td><td>5355 </td><td>204</td></tr><tr><td>Gunar Cockshoot</td><td>India</td><td>50% Dark Bites</td><td>7259 </td><td>276</td></tr><tr><td>Brien Boise</td><td>New Zealand</td><td>Baker's Choco Chips</td><td>6279 </td><td>45</td></tr><tr><td>Ram Mahesh</td><td>Australia</td><td>Manuka Honey Choco</td><td>2541 </td><td>45</td></tr><tr><td>Curtice Advani</td><td>USA</td><td>Organic Choco Syrup</td><td>3864 </td><td>177</td></tr><tr><td>Gigi Bohling</td><td>Canada</td><td>Milk Bars</td><td>6146 </td><td>63</td></tr><tr><td>Husein Augar</td><td>UK</td><td>Drinking Coco</td><td>2639 </td><td>204</td></tr><tr><td>Brien Boise</td><td>New Zealand</td><td>After Nines</td><td>1890 </td><td>195</td></tr><tr><td>Ches Bonnell</td><td>India</td><td>50% Dark Bites</td><td>1932 </td><td>369</td></tr><tr><td>Gunar Cockshoot</td><td>India</td><td>White Choc</td><td>6300 </td><td>42</td></tr><tr><td>Curtice Advani</td><td>New Zealand</td><td>70% Dark Bites</td><td>560 </td><td>81</td></tr><tr><td>Husein Augar</td><td>New Zealand</td><td>Baker's Choco Chips</td><td>2856 </td><td>246</td></tr><tr><td>Husein Augar</td><td>India</td><td>Eclairs</td><td>707 </td><td>174</td></tr><tr><td>Brien Boise</td><td>USA</td><td>70% Dark Bites</td><td>3598 </td><td>81</td></tr><tr><td>Ram Mahesh</td><td>USA</td><td>After Nines</td><td>6853 </td><td>372</td></tr><tr><td>Ram Mahesh</td><td>USA</td><td>Mint Chip Choco</td><td>4725 </td><td>174</td></tr><tr><td>Carla Molina</td><td>Canada</td><td>Choco Coated Almonds</td><td>10304 </td><td>84</td></tr><tr><td>Carla Molina</td><td>India</td><td>Mint Chip Choco</td><td>1274 </td><td>225</td></tr><tr><td>Gigi Bohling</td><td>Canada</td><td>70% Dark Bites</td><td>1526 </td><td>105</td></tr><tr><td>Ram Mahesh</td><td>UK</td><td>Caramel Stuffed Bars</td><td>3101 </td><td>225</td></tr><tr><td>Barr Faughny</td><td>New Zealand</td><td>50% Dark Bites</td><td>1057 </td><td>54</td></tr><tr><td>Ches Bonnell</td><td>New Zealand</td><td>Baker's Choco Chips</td><td>5306 </td><td>0</td></tr><tr><td>Gigi Bohling</td><td>UK</td><td>85% Dark Bars</td><td>4018 </td><td>171</td></tr><tr><td>Husein Augar</td><td>India</td><td>Mint Chip Choco</td><td>938 </td><td>189</td></tr><tr><td>Ches Bonnell</td><td>Australia</td><td>Drinking Coco</td><td>1778 </td><td>270</td></tr><tr><td>Curtice Advani</td><td>UK</td><td>70% Dark Bites</td><td>1638 </td><td>63</td></tr><tr><td>Carla Molina</td><td>Australia</td><td>White Choc</td><td>154 </td><td>21</td></tr><tr><td>Ches Bonnell</td><td>New Zealand</td><td>After Nines</td><td>9835 </td><td>207</td></tr><tr><td>Husein Augar</td><td>New Zealand</td><td>Orange Choco</td><td>7273 </td><td>96</td></tr><tr><td>Gigi Bohling</td><td>UK</td><td>After Nines</td><td>6909 </td><td>81</td></tr><tr><td>Husein Augar</td><td>UK</td><td>85% Dark Bars</td><td>3920 </td><td>306</td></tr><tr><td>Oby Sorrel</td><td>UK</td><td>Spicy Special Slims</td><td>4858 </td><td>279</td></tr><tr><td>Barr Faughny</td><td>Australia</td><td>Almond Choco</td><td>3549 </td><td>3</td></tr><tr><td>Ches Bonnell</td><td>UK</td><td>Organic Choco Syrup</td><td>966 </td><td>198</td></tr><tr><td>Gigi Bohling</td><td>UK</td><td>Drinking Coco</td><td>385 </td><td>249</td></tr><tr><td>Curtice Advani</td><td>India</td><td>Mint Chip Choco</td><td>2219 </td><td>75</td></tr><tr><td>Husein Augar</td><td>Canada</td><td>Choco Coated Almonds</td><td>2954 </td><td>189</td></tr><tr><td>Ches Bonnell</td><td>Canada</td><td>Choco Coated Almonds</td><td>280 </td><td>87</td></tr><tr><td>Carla Molina</td><td>Canada</td><td>70% Dark Bites</td><td>6118 </td><td>174</td></tr><tr><td>Barr Faughny</td><td>UK</td><td>Raspberry Choco</td><td>4802 </td><td>36</td></tr><tr><td>Husein Augar</td><td>Australia</td><td>85% Dark Bars</td><td>4137 </td><td>60</td></tr><tr><td>Gunar Cockshoot</td><td>USA</td><td>Fruit & Nut Bars</td><td>2023 </td><td>78</td></tr><tr><td>Husein Augar</td><td>Canada</td><td>70% Dark Bites</td><td>9051 </td><td>57</td></tr><tr><td>Husein Augar</td><td>New Zealand</td><td>Caramel Stuffed Bars</td><td>2919 </td><td>45</td></tr><tr><td>Carla Molina</td><td>Australia</td><td>After Nines</td><td>5915 </td><td>3</td></tr><tr><td>Oby Sorrel</td><td>USA</td><td>Raspberry Choco</td><td>2562 </td><td>6</td></tr><tr><td>Gigi Bohling</td><td>New Zealand</td><td>White Choc</td><td>8813 </td><td>21</td></tr><tr><td>Gigi Bohling</td><td>Canada</td><td>Drinking Coco</td><td>6111 </td><td>3</td></tr><tr><td>Brien Boise</td><td>India</td><td>Smooth Sliky Salty</td><td>3507 </td><td>288</td></tr><tr><td>Curtice Advani</td><td>Canada</td><td>Milk Bars</td><td>4319 </td><td>30</td></tr><tr><td>Ram Mahesh</td><td>Australia</td><td>Baker's Choco Chips</td><td>609 </td><td>87</td></tr><tr><td>Ram Mahesh</td><td>UK</td><td>Organic Choco Syrup</td><td>6370 </td><td>30</td></tr><tr><td>Gigi Bohling</td><td>Australia</td><td>99% Dark & Pure</td><td>5474 </td><td>168</td></tr><tr><td>Ram Mahesh</td><td>Canada</td><td>Organic Choco Syrup</td><td>3164 </td><td>306</td></tr><tr><td>Curtice Advani</td><td>USA</td><td>Almond Choco</td><td>1302 </td><td>402</td></tr><tr><td>Gunar Cockshoot</td><td>New Zealand</td><td>Caramel Stuffed Bars</td><td>7308 </td><td>327</td></tr><tr><td>Ram Mahesh</td><td>New Zealand</td><td>Organic Choco Syrup</td><td>6132 </td><td>93</td></tr><tr><td>Oby Sorrel</td><td>USA</td><td>50% Dark Bites</td><td>3472 </td><td>96</td></tr><tr><td>Brien Boise</td><td>UK</td><td>Drinking Coco</td><td>9660 </td><td>27</td></tr><tr><td>Husein Augar</td><td>Australia</td><td>Baker's Choco Chips</td><td>2436 </td><td>99</td></tr><tr><td>Husein Augar</td><td>Australia</td><td>Peanut Butter Cubes</td><td>9506 </td><td>87</td></tr><tr><td>Oby Sorrel</td><td>New Zealand</td><td>Spicy Special Slims</td><td>245 </td><td>288</td></tr><tr><td>Brien Boise</td><td>USA</td><td>Orange Choco</td><td>2702 </td><td>363</td></tr><tr><td>Oby Sorrel</td><td>India</td><td>Eclairs</td><td>700 </td><td>87</td></tr><tr><td>Curtice Advani</td><td>India</td><td>Eclairs</td><td>3759 </td><td>150</td></tr><tr><td>Barr Faughny</td><td>USA</td><td>Eclairs</td><td>1589 </td><td>303</td></tr><tr><td>Ches Bonnell</td><td>USA</td><td>Caramel Stuffed Bars</td><td>5194 </td><td>288</td></tr><tr><td>Oby Sorrel</td><td>Canada</td><td>Milk Bars</td><td>945 </td><td>75</td></tr><tr><td>Ram Mahesh</td><td>Australia</td><td>Smooth Sliky Salty</td><td>1988 </td><td>39</td></tr><tr><td>Curtice Advani</td><td>India</td><td>Choco Coated Almonds</td><td>6734 </td><td>123</td></tr><tr><td>Ram Mahesh</td><td>Canada</td><td>Almond Choco</td><td>217 </td><td>36</td></tr><tr><td>Gigi Bohling</td><td>India</td><td>After Nines</td><td>6279 </td><td>237</td></tr><tr><td>Ram Mahesh</td><td>Canada</td><td>Milk Bars</td><td>4424 </td><td>201</td></tr><tr><td>Barr Faughny</td><td>Canada</td><td>Eclairs</td><td>189 </td><td>48</td></tr><tr><td>Gigi Bohling</td><td>USA</td><td>After Nines</td><td>490 </td><td>84</td></tr><tr><td>Brien Boise</td><td>New Zealand</td><td>Spicy Special Slims</td><td>434 </td><td>87</td></tr><tr><td>Ches Bonnell</td><td>Australia</td><td>70% Dark Bites</td><td>10129 </td><td>312</td></tr><tr><td>Gunar Cockshoot</td><td>UK</td><td>Caramel Stuffed Bars</td><td>1652 </td><td>102</td></tr><tr><td>Brien Boise</td><td>Australia</td><td>Spicy Special Slims</td><td>6433 </td><td>78</td></tr><tr><td>Gunar Cockshoot</td><td>India</td><td>Fruit & Nut Bars</td><td>2212 </td><td>117</td></tr><tr><td>Carla Molina</td><td>USA</td><td>99% Dark & Pure</td><td>609 </td><td>99</td></tr><tr><td>Ram Mahesh</td><td>USA</td><td>85% Dark Bars</td><td>1638 </td><td>48</td></tr><tr><td>Ches Bonnell</td><td>India</td><td>Raspberry Choco</td><td>3829 </td><td>24</td></tr><tr><td>Ram Mahesh</td><td>UK</td><td>Raspberry Choco</td><td>5775 </td><td>42</td></tr><tr><td>Curtice Advani</td><td>USA</td><td>Orange Choco</td><td>1071 </td><td>270</td></tr><tr><td>Brien Boise</td><td>Canada</td><td>Fruit & Nut Bars</td><td>5019 </td><td>150</td></tr><tr><td>Barr Faughny</td><td>New Zealand</td><td>Raspberry Choco</td><td>2863 </td><td>42</td></tr><tr><td>Ram Mahesh</td><td>USA</td><td>Manuka Honey Choco</td><td>1617 </td><td>126</td></tr><tr><td>Curtice Advani</td><td>New Zealand</td><td>Baker's Choco Chips</td><td>6818 </td><td>6</td></tr><tr><td>Gunar Cockshoot</td><td>USA</td><td>Raspberry Choco</td><td>6657 </td><td>276</td></tr><tr><td>Gunar Cockshoot</td><td>India</td><td>Eclairs</td><td>2919 </td><td>93</td></tr><tr><td>Barr Faughny</td><td>Canada</td><td>Smooth Sliky Salty</td><td>3094 </td><td>246</td></tr><tr><td>Curtice Advani</td><td>UK</td><td>85% Dark Bars</td><td>2989 </td><td>3</td></tr><tr><td>Brien Boise</td><td>Australia</td><td>Organic Choco Syrup</td><td>2268 </td><td>63</td></tr><tr><td>Gigi Bohling</td><td>USA</td><td>Smooth Sliky Salty</td><td>4753 </td><td>246</td></tr><tr><td>Barr Faughny</td><td>India</td><td>99% Dark & Pure</td><td>7511 </td><td>120</td></tr><tr><td>Barr Faughny</td><td>Australia</td><td>Smooth Sliky Salty</td><td>4326 </td><td>348</td></tr><tr><td>Carla Molina</td><td>India</td><td>Fruit & Nut Bars</td><td>4935 </td><td>126</td></tr><tr><td>Curtice Advani</td><td>USA</td><td>70% Dark Bites</td><td>4781 </td><td>123</td></tr><tr><td>Gigi Bohling</td><td>Australia</td><td>White Choc</td><td>7483 </td><td>45</td></tr><tr><td>Oby Sorrel</td><td>Australia</td><td>Almond Choco</td><td>6860 </td><td>126</td></tr><tr><td>Ram Mahesh</td><td>New Zealand</td><td>Manuka Honey Choco</td><td>9002 </td><td>72</td></tr><tr><td>Curtice Advani</td><td>Canada</td><td>Manuka Honey Choco</td><td>1400 </td><td>135</td></tr><tr><td>Oby Sorrel</td><td>India</td><td>After Nines</td><td>4053 </td><td>24</td></tr><tr><td>Ches Bonnell</td><td>Canada</td><td>Smooth Sliky Salty</td><td>2149 </td><td>117</td></tr><tr><td>Gunar Cockshoot</td><td>UK</td><td>Manuka Honey Choco</td><td>3640 </td><td>51</td></tr><tr><td>Barr Faughny</td><td>UK</td><td>Fruit & Nut Bars</td><td>630 </td><td>36</td></tr><tr><td>Husein Augar</td><td>USA</td><td>Organic Choco Syrup</td><td>2429 </td><td>144</td></tr><tr><td>Husein Augar</td><td>Canada</td><td>White Choc</td><td>2142 </td><td>114</td></tr><tr><td>Ches Bonnell</td><td>New Zealand</td><td>70% Dark Bites</td><td>6454 </td><td>54</td></tr><tr><td>Ches Bonnell</td><td>New Zealand</td><td>Mint Chip Choco</td><td>4487 </td><td>333</td></tr><tr><td>Gunar Cockshoot</td><td>New Zealand</td><td>Almond Choco</td><td>938 </td><td>366</td></tr><tr><td>Gunar Cockshoot</td><td>Australia</td><td>Baker's Choco Chips</td><td>8841 </td><td>303</td></tr><tr><td>Barr Faughny</td><td>UK</td><td>Peanut Butter Cubes</td><td>4018 </td><td>126</td></tr><tr><td>Carla Molina</td><td>New Zealand</td><td>Raspberry Choco</td><td>714 </td><td>231</td></tr><tr><td>Husein Augar</td><td>Australia</td><td>White Choc</td><td>3850 </td><td>102</td></tr></tbody></table></div>"
      ]
     },
     "metadata": {
      "application/vnd.databricks.v1+output": {
       "addedWidgets": {},
       "aggData": [],
       "aggError": "",
       "aggOverflow": false,
       "aggSchema": [],
       "aggSeriesLimitReached": false,
       "aggType": "",
       "arguments": {},
       "columnCustomDisplayInfos": {},
       "data": [
        [
         "Ram Mahesh",
         "New Zealand",
         "70% Dark Bites",
         "1624 ",
         114
        ],
        [
         "Brien Boise",
         "USA",
         "Choco Coated Almonds",
         "6706 ",
         459
        ],
        [
         "Husein Augar",
         "USA",
         "Almond Choco",
         "959 ",
         147
        ],
        [
         "Carla Molina",
         "Canada",
         "Drinking Coco",
         "9632 ",
         288
        ],
        [
         "Curtice Advani",
         "UK",
         "White Choc",
         "2100 ",
         414
        ],
        [
         "Ram Mahesh",
         "USA",
         "Peanut Butter Cubes",
         "8869 ",
         432
        ],
        [
         "Curtice Advani",
         "Australia",
         "Smooth Sliky Salty",
         "2681 ",
         54
        ],
        [
         "Brien Boise",
         "USA",
         "After Nines",
         "5012 ",
         210
        ],
        [
         "Ches Bonnell",
         "Australia",
         "50% Dark Bites",
         "1281 ",
         75
        ],
        [
         "Gigi Bohling",
         "New Zealand",
         "50% Dark Bites",
         "4991 ",
         12
        ],
        [
         "Barr Faughny",
         "UK",
         "White Choc",
         "1785 ",
         462
        ],
        [
         "Gunar Cockshoot",
         "New Zealand",
         "Eclairs",
         "3983 ",
         144
        ],
        [
         "Husein Augar",
         "Australia",
         "Mint Chip Choco",
         "2646 ",
         120
        ],
        [
         "Barr Faughny",
         "India",
         "Milk Bars",
         "252 ",
         54
        ],
        [
         "Gunar Cockshoot",
         "USA",
         "White Choc",
         "2464 ",
         234
        ],
        [
         "Gunar Cockshoot",
         "USA",
         "Manuka Honey Choco",
         "2114 ",
         66
        ],
        [
         "Curtice Advani",
         "New Zealand",
         "Smooth Sliky Salty",
         "7693 ",
         87
        ],
        [
         "Gigi Bohling",
         "India",
         "Orange Choco",
         "15610 ",
         339
        ],
        [
         "Carla Molina",
         "India",
         "After Nines",
         "336 ",
         144
        ],
        [
         "Barr Faughny",
         "UK",
         "Orange Choco",
         "9443 ",
         162
        ],
        [
         "Husein Augar",
         "India",
         "Fruit & Nut Bars",
         "8155 ",
         90
        ],
        [
         "Brien Boise",
         "Australia",
         "Fruit & Nut Bars",
         "1701 ",
         234
        ],
        [
         "Oby Sorrel",
         "Australia",
         "After Nines",
         "2205 ",
         141
        ],
        [
         "Brien Boise",
         "New Zealand",
         "99% Dark & Pure",
         "1771 ",
         204
        ],
        [
         "Carla Molina",
         "USA",
         "Raspberry Choco",
         "2114 ",
         186
        ],
        [
         "Carla Molina",
         "Canada",
         "Milk Bars",
         "10311 ",
         231
        ],
        [
         "Gunar Cockshoot",
         "UK",
         "Mint Chip Choco",
         "21 ",
         168
        ],
        [
         "Oby Sorrel",
         "USA",
         "Orange Choco",
         "1974 ",
         195
        ],
        [
         "Gigi Bohling",
         "Canada",
         "Fruit & Nut Bars",
         "6314 ",
         15
        ],
        [
         "Oby Sorrel",
         "New Zealand",
         "Fruit & Nut Bars",
         "4683 ",
         30
        ],
        [
         "Carla Molina",
         "New Zealand",
         "85% Dark Bars",
         "6398 ",
         102
        ],
        [
         "Barr Faughny",
         "USA",
         "99% Dark & Pure",
         "553 ",
         15
        ],
        [
         "Brien Boise",
         "UK",
         "70% Dark Bites",
         "7021 ",
         183
        ],
        [
         "Ram Mahesh",
         "UK",
         "After Nines",
         "5817 ",
         12
        ],
        [
         "Carla Molina",
         "UK",
         "50% Dark Bites",
         "3976 ",
         72
        ],
        [
         "Curtice Advani",
         "Australia",
         "Organic Choco Syrup",
         "1134 ",
         282
        ],
        [
         "Barr Faughny",
         "UK",
         "Caramel Stuffed Bars",
         "6027 ",
         144
        ],
        [
         "Curtice Advani",
         "New Zealand",
         "Mint Chip Choco",
         "1904 ",
         405
        ],
        [
         "Ches Bonnell",
         "India",
         "Choco Coated Almonds",
         "3262 ",
         75
        ],
        [
         "Ram Mahesh",
         "India",
         "Organic Choco Syrup",
         "2289 ",
         135
        ],
        [
         "Gigi Bohling",
         "India",
         "Organic Choco Syrup",
         "6986 ",
         21
        ],
        [
         "Barr Faughny",
         "Australia",
         "Fruit & Nut Bars",
         "4417 ",
         153
        ],
        [
         "Curtice Advani",
         "India",
         "Raspberry Choco",
         "1442 ",
         15
        ],
        [
         "Gunar Cockshoot",
         "USA",
         "50% Dark Bites",
         "2415 ",
         255
        ],
        [
         "Barr Faughny",
         "New Zealand",
         "99% Dark & Pure",
         "238 ",
         18
        ],
        [
         "Curtice Advani",
         "New Zealand",
         "Fruit & Nut Bars",
         "4949 ",
         189
        ],
        [
         "Gigi Bohling",
         "Australia",
         "Choco Coated Almonds",
         "5075 ",
         21
        ],
        [
         "Gunar Cockshoot",
         "Canada",
         "Mint Chip Choco",
         "9198 ",
         36
        ],
        [
         "Curtice Advani",
         "India",
         "Manuka Honey Choco",
         "3339 ",
         75
        ],
        [
         "Ram Mahesh",
         "India",
         "Eclairs",
         "5019 ",
         156
        ],
        [
         "Gigi Bohling",
         "Canada",
         "Mint Chip Choco",
         "16184 ",
         39
        ],
        [
         "Curtice Advani",
         "Canada",
         "Spicy Special Slims",
         "497 ",
         63
        ],
        [
         "Barr Faughny",
         "Canada",
         "Manuka Honey Choco",
         "8211 ",
         75
        ],
        [
         "Barr Faughny",
         "Australia",
         "Caramel Stuffed Bars",
         "6580 ",
         183
        ],
        [
         "Carla Molina",
         "USA",
         "Milk Bars",
         "4760 ",
         69
        ],
        [
         "Ram Mahesh",
         "Canada",
         "White Choc",
         "5439 ",
         30
        ],
        [
         "Carla Molina",
         "India",
         "Eclairs",
         "1463 ",
         39
        ],
        [
         "Gunar Cockshoot",
         "India",
         "Choco Coated Almonds",
         "7777 ",
         504
        ],
        [
         "Husein Augar",
         "New Zealand",
         "Manuka Honey Choco",
         "1085 ",
         273
        ],
        [
         "Gigi Bohling",
         "New Zealand",
         "Smooth Sliky Salty",
         "182 ",
         48
        ],
        [
         "Curtice Advani",
         "India",
         "Organic Choco Syrup",
         "4242 ",
         207
        ],
        [
         "Curtice Advani",
         "Canada",
         "Choco Coated Almonds",
         "6118 ",
         9
        ],
        [
         "Oby Sorrel",
         "Canada",
         "Fruit & Nut Bars",
         "2317 ",
         261
        ],
        [
         "Curtice Advani",
         "Australia",
         "Mint Chip Choco",
         "938 ",
         6
        ],
        [
         "Brien Boise",
         "New Zealand",
         "Raspberry Choco",
         "9709 ",
         30
        ],
        [
         "Ches Bonnell",
         "India",
         "Orange Choco",
         "2205 ",
         138
        ],
        [
         "Ches Bonnell",
         "New Zealand",
         "Eclairs",
         "4487 ",
         111
        ],
        [
         "Gigi Bohling",
         "USA",
         "Drinking Coco",
         "2415 ",
         15
        ],
        [
         "Ram Mahesh",
         "India",
         "99% Dark & Pure",
         "4018 ",
         162
        ],
        [
         "Gigi Bohling",
         "India",
         "99% Dark & Pure",
         "861 ",
         195
        ],
        [
         "Oby Sorrel",
         "Australia",
         "50% Dark Bites",
         "5586 ",
         525
        ],
        [
         "Ches Bonnell",
         "India",
         "Peanut Butter Cubes",
         "2226 ",
         48
        ],
        [
         "Husein Augar",
         "India",
         "Caramel Stuffed Bars",
         "14329 ",
         150
        ],
        [
         "Husein Augar",
         "India",
         "Orange Choco",
         "8463 ",
         492
        ],
        [
         "Gigi Bohling",
         "India",
         "Manuka Honey Choco",
         "2891 ",
         102
        ],
        [
         "Gunar Cockshoot",
         "Canada",
         "Fruit & Nut Bars",
         "3773 ",
         165
        ],
        [
         "Carla Molina",
         "Canada",
         "Caramel Stuffed Bars",
         "854 ",
         309
        ],
        [
         "Curtice Advani",
         "Canada",
         "Eclairs",
         "4970 ",
         156
        ],
        [
         "Husein Augar",
         "USA",
         "Baker's Choco Chips",
         "98 ",
         159
        ],
        [
         "Gigi Bohling",
         "USA",
         "Raspberry Choco",
         "13391 ",
         201
        ],
        [
         "Brien Boise",
         "UK",
         "Smooth Sliky Salty",
         "8890 ",
         210
        ],
        [
         "Barr Faughny",
         "Australia",
         "Milk Bars",
         "56 ",
         51
        ],
        [
         "Gunar Cockshoot",
         "Canada",
         "White Choc",
         "3339 ",
         39
        ],
        [
         "Oby Sorrel",
         "USA",
         "Drinking Coco",
         "3808 ",
         279
        ],
        [
         "Oby Sorrel",
         "Australia",
         "Milk Bars",
         "63 ",
         123
        ],
        [
         "Barr Faughny",
         "UK",
         "Organic Choco Syrup",
         "7812 ",
         81
        ],
        [
         "Ram Mahesh",
         "New Zealand",
         "99% Dark & Pure",
         "7693 ",
         21
        ],
        [
         "Gunar Cockshoot",
         "Canada",
         "Caramel Stuffed Bars",
         "973 ",
         162
        ],
        [
         "Oby Sorrel",
         "USA",
         "Spicy Special Slims",
         "567 ",
         228
        ],
        [
         "Oby Sorrel",
         "Canada",
         "Manuka Honey Choco",
         "2471 ",
         342
        ],
        [
         "Gigi Bohling",
         "Australia",
         "Milk Bars",
         "7189 ",
         54
        ],
        [
         "Carla Molina",
         "USA",
         "Caramel Stuffed Bars",
         "7455 ",
         216
        ],
        [
         "Gunar Cockshoot",
         "India",
         "Baker's Choco Chips",
         "3108 ",
         54
        ],
        [
         "Curtice Advani",
         "Australia",
         "White Choc",
         "469 ",
         75
        ],
        [
         "Husein Augar",
         "New Zealand",
         "Fruit & Nut Bars",
         "2737 ",
         93
        ],
        [
         "Husein Augar",
         "New Zealand",
         "White Choc",
         "4305 ",
         156
        ],
        [
         "Husein Augar",
         "Australia",
         "Eclairs",
         "2408 ",
         9
        ],
        [
         "Gunar Cockshoot",
         "Canada",
         "99% Dark & Pure",
         "1281 ",
         18
        ],
        [
         "Ram Mahesh",
         "USA",
         "Choco Coated Almonds",
         "12348 ",
         234
        ],
        [
         "Gunar Cockshoot",
         "India",
         "Caramel Stuffed Bars",
         "3689 ",
         312
        ],
        [
         "Ches Bonnell",
         "Canada",
         "99% Dark & Pure",
         "2870 ",
         300
        ],
        [
         "Barr Faughny",
         "Canada",
         "Organic Choco Syrup",
         "798 ",
         519
        ],
        [
         "Carla Molina",
         "New Zealand",
         "Spicy Special Slims",
         "2933 ",
         9
        ],
        [
         "Gigi Bohling",
         "USA",
         "Almond Choco",
         "2744 ",
         9
        ],
        [
         "Ram Mahesh",
         "Canada",
         "Peanut Butter Cubes",
         "9772 ",
         90
        ],
        [
         "Ches Bonnell",
         "India",
         "White Choc",
         "1568 ",
         96
        ],
        [
         "Barr Faughny",
         "Canada",
         "Mint Chip Choco",
         "11417 ",
         21
        ],
        [
         "Ram Mahesh",
         "India",
         "Baker's Choco Chips",
         "6748 ",
         48
        ],
        [
         "Oby Sorrel",
         "Canada",
         "Organic Choco Syrup",
         "1407 ",
         72
        ],
        [
         "Brien Boise",
         "USA",
         "Manuka Honey Choco",
         "2023 ",
         168
        ],
        [
         "Gigi Bohling",
         "UK",
         "Baker's Choco Chips",
         "5236 ",
         51
        ],
        [
         "Carla Molina",
         "Canada",
         "99% Dark & Pure",
         "1925 ",
         192
        ],
        [
         "Ches Bonnell",
         "New Zealand",
         "50% Dark Bites",
         "6608 ",
         225
        ],
        [
         "Curtice Advani",
         "India",
         "Baker's Choco Chips",
         "8008 ",
         456
        ],
        [
         "Oby Sorrel",
         "India",
         "White Choc",
         "1428 ",
         93
        ],
        [
         "Curtice Advani",
         "India",
         "Almond Choco",
         "525 ",
         48
        ],
        [
         "Curtice Advani",
         "New Zealand",
         "Drinking Coco",
         "1505 ",
         102
        ],
        [
         "Ches Bonnell",
         "USA",
         "70% Dark Bites",
         "6755 ",
         252
        ],
        [
         "Barr Faughny",
         "New Zealand",
         "Drinking Coco",
         "11571 ",
         138
        ],
        [
         "Ram Mahesh",
         "Australia",
         "White Choc",
         "2541 ",
         90
        ],
        [
         "Carla Molina",
         "New Zealand",
         "70% Dark Bites",
         "1526 ",
         240
        ],
        [
         "Ram Mahesh",
         "Australia",
         "Almond Choco",
         "6125 ",
         102
        ],
        [
         "Carla Molina",
         "USA",
         "Organic Choco Syrup",
         "847 ",
         129
        ],
        [
         "Brien Boise",
         "USA",
         "Organic Choco Syrup",
         "4753 ",
         300
        ],
        [
         "Curtice Advani",
         "Australia",
         "Peanut Butter Cubes",
         "959 ",
         135
        ],
        [
         "Ches Bonnell",
         "USA",
         "85% Dark Bars",
         "2793 ",
         114
        ],
        [
         "Ches Bonnell",
         "USA",
         "50% Dark Bites",
         "4606 ",
         63
        ],
        [
         "Ches Bonnell",
         "Canada",
         "Manuka Honey Choco",
         "5551 ",
         252
        ],
        [
         "Oby Sorrel",
         "Canada",
         "Choco Coated Almonds",
         "6657 ",
         303
        ],
        [
         "Ches Bonnell",
         "UK",
         "Eclairs",
         "4438 ",
         246
        ],
        [
         "Brien Boise",
         "Australia",
         "After Nines",
         "168 ",
         84
        ],
        [
         "Ches Bonnell",
         "India",
         "Eclairs",
         "7777 ",
         39
        ],
        [
         "Gigi Bohling",
         "Canada",
         "Eclairs",
         "3339 ",
         348
        ],
        [
         "Ches Bonnell",
         "New Zealand",
         "Peanut Butter Cubes",
         "6391 ",
         48
        ],
        [
         "Gigi Bohling",
         "New Zealand",
         "After Nines",
         "518 ",
         75
        ],
        [
         "Ches Bonnell",
         "Australia",
         "Caramel Stuffed Bars",
         "5677 ",
         258
        ],
        [
         "Curtice Advani",
         "UK",
         "Eclairs",
         "6048 ",
         27
        ],
        [
         "Brien Boise",
         "Australia",
         "Choco Coated Almonds",
         "3752 ",
         213
        ],
        [
         "Gigi Bohling",
         "USA",
         "Manuka Honey Choco",
         "4480 ",
         357
        ],
        [
         "Husein Augar",
         "New Zealand",
         "Almond Choco",
         "259 ",
         207
        ],
        [
         "Brien Boise",
         "New Zealand",
         "70% Dark Bites",
         "42 ",
         150
        ],
        [
         "Carla Molina",
         "Canada",
         "Baker's Choco Chips",
         "98 ",
         204
        ],
        [
         "Ches Bonnell",
         "USA",
         "Organic Choco Syrup",
         "2478 ",
         21
        ],
        [
         "Carla Molina",
         "India",
         "Peanut Butter Cubes",
         "7847 ",
         174
        ],
        [
         "Barr Faughny",
         "New Zealand",
         "Eclairs",
         "9926 ",
         201
        ],
        [
         "Brien Boise",
         "Australia",
         "Milk Bars",
         "819 ",
         510
        ],
        [
         "Curtice Advani",
         "UK",
         "Manuka Honey Choco",
         "3052 ",
         378
        ],
        [
         "Husein Augar",
         "India",
         "Spicy Special Slims",
         "6832 ",
         27
        ],
        [
         "Barr Faughny",
         "UK",
         "Mint Chip Choco",
         "2016 ",
         117
        ],
        [
         "Curtice Advani",
         "Australia",
         "Spicy Special Slims",
         "7322 ",
         36
        ],
        [
         "Brien Boise",
         "USA",
         "Peanut Butter Cubes",
         "357 ",
         126
        ],
        [
         "Husein Augar",
         "UK",
         "White Choc",
         "3192 ",
         72
        ],
        [
         "Ches Bonnell",
         "Canada",
         "After Nines",
         "8435 ",
         42
        ],
        [
         "Ram Mahesh",
         "UK",
         "Manuka Honey Choco",
         "0 ",
         135
        ],
        [
         "Ches Bonnell",
         "India",
         "85% Dark Bars",
         "8862 ",
         189
        ],
        [
         "Curtice Advani",
         "New Zealand",
         "Caramel Stuffed Bars",
         "3556 ",
         459
        ],
        [
         "Gigi Bohling",
         "India",
         "Raspberry Choco",
         "7280 ",
         201
        ],
        [
         "Curtice Advani",
         "India",
         "70% Dark Bites",
         "3402 ",
         366
        ],
        [
         "Gunar Cockshoot",
         "New Zealand",
         "Manuka Honey Choco",
         "4592 ",
         324
        ],
        [
         "Husein Augar",
         "USA",
         "Raspberry Choco",
         "7833 ",
         243
        ],
        [
         "Barr Faughny",
         "UK",
         "Spicy Special Slims",
         "7651 ",
         213
        ],
        [
         "Ram Mahesh",
         "USA",
         "70% Dark Bites",
         "2275 ",
         447
        ],
        [
         "Ram Mahesh",
         "Australia",
         "Milk Bars",
         "5670 ",
         297
        ],
        [
         "Ches Bonnell",
         "USA",
         "Mint Chip Choco",
         "2135 ",
         27
        ],
        [
         "Ram Mahesh",
         "India",
         "Fruit & Nut Bars",
         "2779 ",
         75
        ],
        [
         "Oby Sorrel",
         "UK",
         "Peanut Butter Cubes",
         "12950 ",
         30
        ],
        [
         "Ches Bonnell",
         "Canada",
         "Drinking Coco",
         "2646 ",
         177
        ],
        [
         "Ram Mahesh",
         "India",
         "Peanut Butter Cubes",
         "3794 ",
         159
        ],
        [
         "Gunar Cockshoot",
         "USA",
         "Peanut Butter Cubes",
         "819 ",
         306
        ],
        [
         "Gunar Cockshoot",
         "India",
         "Orange Choco",
         "2583 ",
         18
        ],
        [
         "Ches Bonnell",
         "USA",
         "99% Dark & Pure",
         "4585 ",
         240
        ],
        [
         "Gigi Bohling",
         "India",
         "Peanut Butter Cubes",
         "1652 ",
         93
        ],
        [
         "Oby Sorrel",
         "India",
         "Baker's Choco Chips",
         "4991 ",
         9
        ],
        [
         "Brien Boise",
         "India",
         "Mint Chip Choco",
         "2009 ",
         219
        ],
        [
         "Barr Faughny",
         "UK",
         "After Nines",
         "1568 ",
         141
        ],
        [
         "Carla Molina",
         "New Zealand",
         "Orange Choco",
         "3388 ",
         123
        ],
        [
         "Ram Mahesh",
         "Australia",
         "85% Dark Bars",
         "623 ",
         51
        ],
        [
         "Curtice Advani",
         "Canada",
         "Almond Choco",
         "10073 ",
         120
        ],
        [
         "Brien Boise",
         "UK",
         "Baker's Choco Chips",
         "1561 ",
         27
        ],
        [
         "Husein Augar",
         "Canada",
         "Organic Choco Syrup",
         "11522 ",
         204
        ],
        [
         "Curtice Advani",
         "Australia",
         "Milk Bars",
         "2317 ",
         123
        ],
        [
         "Oby Sorrel",
         "New Zealand",
         "Caramel Stuffed Bars",
         "3059 ",
         27
        ],
        [
         "Carla Molina",
         "New Zealand",
         "Baker's Choco Chips",
         "2324 ",
         177
        ],
        [
         "Gunar Cockshoot",
         "UK",
         "Baker's Choco Chips",
         "4956 ",
         171
        ],
        [
         "Oby Sorrel",
         "India",
         "99% Dark & Pure",
         "5355 ",
         204
        ],
        [
         "Gunar Cockshoot",
         "India",
         "50% Dark Bites",
         "7259 ",
         276
        ],
        [
         "Brien Boise",
         "New Zealand",
         "Baker's Choco Chips",
         "6279 ",
         45
        ],
        [
         "Ram Mahesh",
         "Australia",
         "Manuka Honey Choco",
         "2541 ",
         45
        ],
        [
         "Curtice Advani",
         "USA",
         "Organic Choco Syrup",
         "3864 ",
         177
        ],
        [
         "Gigi Bohling",
         "Canada",
         "Milk Bars",
         "6146 ",
         63
        ],
        [
         "Husein Augar",
         "UK",
         "Drinking Coco",
         "2639 ",
         204
        ],
        [
         "Brien Boise",
         "New Zealand",
         "After Nines",
         "1890 ",
         195
        ],
        [
         "Ches Bonnell",
         "India",
         "50% Dark Bites",
         "1932 ",
         369
        ],
        [
         "Gunar Cockshoot",
         "India",
         "White Choc",
         "6300 ",
         42
        ],
        [
         "Curtice Advani",
         "New Zealand",
         "70% Dark Bites",
         "560 ",
         81
        ],
        [
         "Husein Augar",
         "New Zealand",
         "Baker's Choco Chips",
         "2856 ",
         246
        ],
        [
         "Husein Augar",
         "India",
         "Eclairs",
         "707 ",
         174
        ],
        [
         "Brien Boise",
         "USA",
         "70% Dark Bites",
         "3598 ",
         81
        ],
        [
         "Ram Mahesh",
         "USA",
         "After Nines",
         "6853 ",
         372
        ],
        [
         "Ram Mahesh",
         "USA",
         "Mint Chip Choco",
         "4725 ",
         174
        ],
        [
         "Carla Molina",
         "Canada",
         "Choco Coated Almonds",
         "10304 ",
         84
        ],
        [
         "Carla Molina",
         "India",
         "Mint Chip Choco",
         "1274 ",
         225
        ],
        [
         "Gigi Bohling",
         "Canada",
         "70% Dark Bites",
         "1526 ",
         105
        ],
        [
         "Ram Mahesh",
         "UK",
         "Caramel Stuffed Bars",
         "3101 ",
         225
        ],
        [
         "Barr Faughny",
         "New Zealand",
         "50% Dark Bites",
         "1057 ",
         54
        ],
        [
         "Ches Bonnell",
         "New Zealand",
         "Baker's Choco Chips",
         "5306 ",
         0
        ],
        [
         "Gigi Bohling",
         "UK",
         "85% Dark Bars",
         "4018 ",
         171
        ],
        [
         "Husein Augar",
         "India",
         "Mint Chip Choco",
         "938 ",
         189
        ],
        [
         "Ches Bonnell",
         "Australia",
         "Drinking Coco",
         "1778 ",
         270
        ],
        [
         "Curtice Advani",
         "UK",
         "70% Dark Bites",
         "1638 ",
         63
        ],
        [
         "Carla Molina",
         "Australia",
         "White Choc",
         "154 ",
         21
        ],
        [
         "Ches Bonnell",
         "New Zealand",
         "After Nines",
         "9835 ",
         207
        ],
        [
         "Husein Augar",
         "New Zealand",
         "Orange Choco",
         "7273 ",
         96
        ],
        [
         "Gigi Bohling",
         "UK",
         "After Nines",
         "6909 ",
         81
        ],
        [
         "Husein Augar",
         "UK",
         "85% Dark Bars",
         "3920 ",
         306
        ],
        [
         "Oby Sorrel",
         "UK",
         "Spicy Special Slims",
         "4858 ",
         279
        ],
        [
         "Barr Faughny",
         "Australia",
         "Almond Choco",
         "3549 ",
         3
        ],
        [
         "Ches Bonnell",
         "UK",
         "Organic Choco Syrup",
         "966 ",
         198
        ],
        [
         "Gigi Bohling",
         "UK",
         "Drinking Coco",
         "385 ",
         249
        ],
        [
         "Curtice Advani",
         "India",
         "Mint Chip Choco",
         "2219 ",
         75
        ],
        [
         "Husein Augar",
         "Canada",
         "Choco Coated Almonds",
         "2954 ",
         189
        ],
        [
         "Ches Bonnell",
         "Canada",
         "Choco Coated Almonds",
         "280 ",
         87
        ],
        [
         "Carla Molina",
         "Canada",
         "70% Dark Bites",
         "6118 ",
         174
        ],
        [
         "Barr Faughny",
         "UK",
         "Raspberry Choco",
         "4802 ",
         36
        ],
        [
         "Husein Augar",
         "Australia",
         "85% Dark Bars",
         "4137 ",
         60
        ],
        [
         "Gunar Cockshoot",
         "USA",
         "Fruit & Nut Bars",
         "2023 ",
         78
        ],
        [
         "Husein Augar",
         "Canada",
         "70% Dark Bites",
         "9051 ",
         57
        ],
        [
         "Husein Augar",
         "New Zealand",
         "Caramel Stuffed Bars",
         "2919 ",
         45
        ],
        [
         "Carla Molina",
         "Australia",
         "After Nines",
         "5915 ",
         3
        ],
        [
         "Oby Sorrel",
         "USA",
         "Raspberry Choco",
         "2562 ",
         6
        ],
        [
         "Gigi Bohling",
         "New Zealand",
         "White Choc",
         "8813 ",
         21
        ],
        [
         "Gigi Bohling",
         "Canada",
         "Drinking Coco",
         "6111 ",
         3
        ],
        [
         "Brien Boise",
         "India",
         "Smooth Sliky Salty",
         "3507 ",
         288
        ],
        [
         "Curtice Advani",
         "Canada",
         "Milk Bars",
         "4319 ",
         30
        ],
        [
         "Ram Mahesh",
         "Australia",
         "Baker's Choco Chips",
         "609 ",
         87
        ],
        [
         "Ram Mahesh",
         "UK",
         "Organic Choco Syrup",
         "6370 ",
         30
        ],
        [
         "Gigi Bohling",
         "Australia",
         "99% Dark & Pure",
         "5474 ",
         168
        ],
        [
         "Ram Mahesh",
         "Canada",
         "Organic Choco Syrup",
         "3164 ",
         306
        ],
        [
         "Curtice Advani",
         "USA",
         "Almond Choco",
         "1302 ",
         402
        ],
        [
         "Gunar Cockshoot",
         "New Zealand",
         "Caramel Stuffed Bars",
         "7308 ",
         327
        ],
        [
         "Ram Mahesh",
         "New Zealand",
         "Organic Choco Syrup",
         "6132 ",
         93
        ],
        [
         "Oby Sorrel",
         "USA",
         "50% Dark Bites",
         "3472 ",
         96
        ],
        [
         "Brien Boise",
         "UK",
         "Drinking Coco",
         "9660 ",
         27
        ],
        [
         "Husein Augar",
         "Australia",
         "Baker's Choco Chips",
         "2436 ",
         99
        ],
        [
         "Husein Augar",
         "Australia",
         "Peanut Butter Cubes",
         "9506 ",
         87
        ],
        [
         "Oby Sorrel",
         "New Zealand",
         "Spicy Special Slims",
         "245 ",
         288
        ],
        [
         "Brien Boise",
         "USA",
         "Orange Choco",
         "2702 ",
         363
        ],
        [
         "Oby Sorrel",
         "India",
         "Eclairs",
         "700 ",
         87
        ],
        [
         "Curtice Advani",
         "India",
         "Eclairs",
         "3759 ",
         150
        ],
        [
         "Barr Faughny",
         "USA",
         "Eclairs",
         "1589 ",
         303
        ],
        [
         "Ches Bonnell",
         "USA",
         "Caramel Stuffed Bars",
         "5194 ",
         288
        ],
        [
         "Oby Sorrel",
         "Canada",
         "Milk Bars",
         "945 ",
         75
        ],
        [
         "Ram Mahesh",
         "Australia",
         "Smooth Sliky Salty",
         "1988 ",
         39
        ],
        [
         "Curtice Advani",
         "India",
         "Choco Coated Almonds",
         "6734 ",
         123
        ],
        [
         "Ram Mahesh",
         "Canada",
         "Almond Choco",
         "217 ",
         36
        ],
        [
         "Gigi Bohling",
         "India",
         "After Nines",
         "6279 ",
         237
        ],
        [
         "Ram Mahesh",
         "Canada",
         "Milk Bars",
         "4424 ",
         201
        ],
        [
         "Barr Faughny",
         "Canada",
         "Eclairs",
         "189 ",
         48
        ],
        [
         "Gigi Bohling",
         "USA",
         "After Nines",
         "490 ",
         84
        ],
        [
         "Brien Boise",
         "New Zealand",
         "Spicy Special Slims",
         "434 ",
         87
        ],
        [
         "Ches Bonnell",
         "Australia",
         "70% Dark Bites",
         "10129 ",
         312
        ],
        [
         "Gunar Cockshoot",
         "UK",
         "Caramel Stuffed Bars",
         "1652 ",
         102
        ],
        [
         "Brien Boise",
         "Australia",
         "Spicy Special Slims",
         "6433 ",
         78
        ],
        [
         "Gunar Cockshoot",
         "India",
         "Fruit & Nut Bars",
         "2212 ",
         117
        ],
        [
         "Carla Molina",
         "USA",
         "99% Dark & Pure",
         "609 ",
         99
        ],
        [
         "Ram Mahesh",
         "USA",
         "85% Dark Bars",
         "1638 ",
         48
        ],
        [
         "Ches Bonnell",
         "India",
         "Raspberry Choco",
         "3829 ",
         24
        ],
        [
         "Ram Mahesh",
         "UK",
         "Raspberry Choco",
         "5775 ",
         42
        ],
        [
         "Curtice Advani",
         "USA",
         "Orange Choco",
         "1071 ",
         270
        ],
        [
         "Brien Boise",
         "Canada",
         "Fruit & Nut Bars",
         "5019 ",
         150
        ],
        [
         "Barr Faughny",
         "New Zealand",
         "Raspberry Choco",
         "2863 ",
         42
        ],
        [
         "Ram Mahesh",
         "USA",
         "Manuka Honey Choco",
         "1617 ",
         126
        ],
        [
         "Curtice Advani",
         "New Zealand",
         "Baker's Choco Chips",
         "6818 ",
         6
        ],
        [
         "Gunar Cockshoot",
         "USA",
         "Raspberry Choco",
         "6657 ",
         276
        ],
        [
         "Gunar Cockshoot",
         "India",
         "Eclairs",
         "2919 ",
         93
        ],
        [
         "Barr Faughny",
         "Canada",
         "Smooth Sliky Salty",
         "3094 ",
         246
        ],
        [
         "Curtice Advani",
         "UK",
         "85% Dark Bars",
         "2989 ",
         3
        ],
        [
         "Brien Boise",
         "Australia",
         "Organic Choco Syrup",
         "2268 ",
         63
        ],
        [
         "Gigi Bohling",
         "USA",
         "Smooth Sliky Salty",
         "4753 ",
         246
        ],
        [
         "Barr Faughny",
         "India",
         "99% Dark & Pure",
         "7511 ",
         120
        ],
        [
         "Barr Faughny",
         "Australia",
         "Smooth Sliky Salty",
         "4326 ",
         348
        ],
        [
         "Carla Molina",
         "India",
         "Fruit & Nut Bars",
         "4935 ",
         126
        ],
        [
         "Curtice Advani",
         "USA",
         "70% Dark Bites",
         "4781 ",
         123
        ],
        [
         "Gigi Bohling",
         "Australia",
         "White Choc",
         "7483 ",
         45
        ],
        [
         "Oby Sorrel",
         "Australia",
         "Almond Choco",
         "6860 ",
         126
        ],
        [
         "Ram Mahesh",
         "New Zealand",
         "Manuka Honey Choco",
         "9002 ",
         72
        ],
        [
         "Curtice Advani",
         "Canada",
         "Manuka Honey Choco",
         "1400 ",
         135
        ],
        [
         "Oby Sorrel",
         "India",
         "After Nines",
         "4053 ",
         24
        ],
        [
         "Ches Bonnell",
         "Canada",
         "Smooth Sliky Salty",
         "2149 ",
         117
        ],
        [
         "Gunar Cockshoot",
         "UK",
         "Manuka Honey Choco",
         "3640 ",
         51
        ],
        [
         "Barr Faughny",
         "UK",
         "Fruit & Nut Bars",
         "630 ",
         36
        ],
        [
         "Husein Augar",
         "USA",
         "Organic Choco Syrup",
         "2429 ",
         144
        ],
        [
         "Husein Augar",
         "Canada",
         "White Choc",
         "2142 ",
         114
        ],
        [
         "Ches Bonnell",
         "New Zealand",
         "70% Dark Bites",
         "6454 ",
         54
        ],
        [
         "Ches Bonnell",
         "New Zealand",
         "Mint Chip Choco",
         "4487 ",
         333
        ],
        [
         "Gunar Cockshoot",
         "New Zealand",
         "Almond Choco",
         "938 ",
         366
        ],
        [
         "Gunar Cockshoot",
         "Australia",
         "Baker's Choco Chips",
         "8841 ",
         303
        ],
        [
         "Barr Faughny",
         "UK",
         "Peanut Butter Cubes",
         "4018 ",
         126
        ],
        [
         "Carla Molina",
         "New Zealand",
         "Raspberry Choco",
         "714 ",
         231
        ],
        [
         "Husein Augar",
         "Australia",
         "White Choc",
         "3850 ",
         102
        ]
       ],
       "datasetInfos": [],
       "dbfsResultPath": null,
       "isJsonSchema": true,
       "metadata": {},
       "overflow": false,
       "plotOptions": {
        "customPlotOptions": {},
        "displayType": "table",
        "pivotAggregation": null,
        "pivotColumns": null,
        "xColumns": null,
        "yColumns": null
       },
       "removedWidgets": [],
       "schema": [
        {
         "metadata": "{}",
         "name": "sales_person",
         "type": "\"string\""
        },
        {
         "metadata": "{}",
         "name": "geography",
         "type": "\"string\""
        },
        {
         "metadata": "{}",
         "name": "product_name",
         "type": "\"string\""
        },
        {
         "metadata": "{}",
         "name": "amount",
         "type": "\"string\""
        },
        {
         "metadata": "{}",
         "name": "units",
         "type": "\"integer\""
        }
       ],
       "type": "table"
      }
     },
     "output_type": "display_data"
    }
   ],
   "source": [
    "raw_df.display()"
   ]
  },
  {
   "cell_type": "markdown",
   "metadata": {
    "application/vnd.databricks.v1+cell": {
     "cellMetadata": {},
     "inputWidgets": {},
     "nuid": "b54334ea-0add-4568-8ff7-db2cc7370198",
     "showTitle": false,
     "tableResultSettingsMap": {},
     "title": ""
    }
   },
   "source": [
    "# Bronze"
   ]
  },
  {
   "cell_type": "markdown",
   "metadata": {
    "application/vnd.databricks.v1+cell": {
     "cellMetadata": {},
     "inputWidgets": {},
     "nuid": "df0de6e2-41ba-4a75-89c4-4fb5bfae113d",
     "showTitle": false,
     "tableResultSettingsMap": {},
     "title": ""
    }
   },
   "source": [
    "## Schema Changing \n",
    "changing the amount and units columns to integer"
   ]
  },
  {
   "cell_type": "code",
   "execution_count": 0,
   "metadata": {
    "application/vnd.databricks.v1+cell": {
     "cellMetadata": {
      "byteLimit": 2048000,
      "rowLimit": 10000
     },
     "inputWidgets": {},
     "nuid": "31c9a6c7-0010-4cc4-8b4f-b58c74351be1",
     "showTitle": false,
     "tableResultSettingsMap": {},
     "title": ""
    }
   },
   "outputs": [],
   "source": [
    "bronze_df = raw_df.withColumn(\"amount\", col(\"amount\").cast(IntegerType()))\\\n",
    "               .withColumn(\"units\", col(\"units\").cast(IntegerType()))"
   ]
  },
  {
   "cell_type": "code",
   "execution_count": 0,
   "metadata": {
    "application/vnd.databricks.v1+cell": {
     "cellMetadata": {
      "byteLimit": 2048000,
      "rowLimit": 10000
     },
     "inputWidgets": {},
     "nuid": "83b973bb-ebd6-4630-9bff-f5d2ad52ba23",
     "showTitle": false,
     "tableResultSettingsMap": {},
     "title": ""
    }
   },
   "outputs": [
    {
     "output_type": "display_data",
     "data": {
      "text/html": [
       "<style scoped>\n",
       "  .table-result-container {\n",
       "    max-height: 300px;\n",
       "    overflow: auto;\n",
       "  }\n",
       "  table, th, td {\n",
       "    border: 1px solid black;\n",
       "    border-collapse: collapse;\n",
       "  }\n",
       "  th, td {\n",
       "    padding: 5px;\n",
       "  }\n",
       "  th {\n",
       "    text-align: left;\n",
       "  }\n",
       "</style><div class='table-result-container'><table class='table-result'><thead style='background-color: white'><tr><th>sales_person</th><th>geography</th><th>product_name</th><th>amount</th><th>units</th></tr></thead><tbody><tr><td>Ram Mahesh</td><td>New Zealand</td><td>70% Dark Bites</td><td>1624</td><td>114</td></tr><tr><td>Brien Boise</td><td>USA</td><td>Choco Coated Almonds</td><td>6706</td><td>459</td></tr><tr><td>Husein Augar</td><td>USA</td><td>Almond Choco</td><td>959</td><td>147</td></tr><tr><td>Carla Molina</td><td>Canada</td><td>Drinking Coco</td><td>9632</td><td>288</td></tr><tr><td>Curtice Advani</td><td>UK</td><td>White Choc</td><td>2100</td><td>414</td></tr><tr><td>Ram Mahesh</td><td>USA</td><td>Peanut Butter Cubes</td><td>8869</td><td>432</td></tr><tr><td>Curtice Advani</td><td>Australia</td><td>Smooth Sliky Salty</td><td>2681</td><td>54</td></tr><tr><td>Brien Boise</td><td>USA</td><td>After Nines</td><td>5012</td><td>210</td></tr><tr><td>Ches Bonnell</td><td>Australia</td><td>50% Dark Bites</td><td>1281</td><td>75</td></tr><tr><td>Gigi Bohling</td><td>New Zealand</td><td>50% Dark Bites</td><td>4991</td><td>12</td></tr><tr><td>Barr Faughny</td><td>UK</td><td>White Choc</td><td>1785</td><td>462</td></tr><tr><td>Gunar Cockshoot</td><td>New Zealand</td><td>Eclairs</td><td>3983</td><td>144</td></tr><tr><td>Husein Augar</td><td>Australia</td><td>Mint Chip Choco</td><td>2646</td><td>120</td></tr><tr><td>Barr Faughny</td><td>India</td><td>Milk Bars</td><td>252</td><td>54</td></tr><tr><td>Gunar Cockshoot</td><td>USA</td><td>White Choc</td><td>2464</td><td>234</td></tr><tr><td>Gunar Cockshoot</td><td>USA</td><td>Manuka Honey Choco</td><td>2114</td><td>66</td></tr><tr><td>Curtice Advani</td><td>New Zealand</td><td>Smooth Sliky Salty</td><td>7693</td><td>87</td></tr><tr><td>Gigi Bohling</td><td>India</td><td>Orange Choco</td><td>15610</td><td>339</td></tr><tr><td>Carla Molina</td><td>India</td><td>After Nines</td><td>336</td><td>144</td></tr><tr><td>Barr Faughny</td><td>UK</td><td>Orange Choco</td><td>9443</td><td>162</td></tr><tr><td>Husein Augar</td><td>India</td><td>Fruit & Nut Bars</td><td>8155</td><td>90</td></tr><tr><td>Brien Boise</td><td>Australia</td><td>Fruit & Nut Bars</td><td>1701</td><td>234</td></tr><tr><td>Oby Sorrel</td><td>Australia</td><td>After Nines</td><td>2205</td><td>141</td></tr><tr><td>Brien Boise</td><td>New Zealand</td><td>99% Dark & Pure</td><td>1771</td><td>204</td></tr><tr><td>Carla Molina</td><td>USA</td><td>Raspberry Choco</td><td>2114</td><td>186</td></tr><tr><td>Carla Molina</td><td>Canada</td><td>Milk Bars</td><td>10311</td><td>231</td></tr><tr><td>Gunar Cockshoot</td><td>UK</td><td>Mint Chip Choco</td><td>21</td><td>168</td></tr><tr><td>Oby Sorrel</td><td>USA</td><td>Orange Choco</td><td>1974</td><td>195</td></tr><tr><td>Gigi Bohling</td><td>Canada</td><td>Fruit & Nut Bars</td><td>6314</td><td>15</td></tr><tr><td>Oby Sorrel</td><td>New Zealand</td><td>Fruit & Nut Bars</td><td>4683</td><td>30</td></tr><tr><td>Carla Molina</td><td>New Zealand</td><td>85% Dark Bars</td><td>6398</td><td>102</td></tr><tr><td>Barr Faughny</td><td>USA</td><td>99% Dark & Pure</td><td>553</td><td>15</td></tr><tr><td>Brien Boise</td><td>UK</td><td>70% Dark Bites</td><td>7021</td><td>183</td></tr><tr><td>Ram Mahesh</td><td>UK</td><td>After Nines</td><td>5817</td><td>12</td></tr><tr><td>Carla Molina</td><td>UK</td><td>50% Dark Bites</td><td>3976</td><td>72</td></tr><tr><td>Curtice Advani</td><td>Australia</td><td>Organic Choco Syrup</td><td>1134</td><td>282</td></tr><tr><td>Barr Faughny</td><td>UK</td><td>Caramel Stuffed Bars</td><td>6027</td><td>144</td></tr><tr><td>Curtice Advani</td><td>New Zealand</td><td>Mint Chip Choco</td><td>1904</td><td>405</td></tr><tr><td>Ches Bonnell</td><td>India</td><td>Choco Coated Almonds</td><td>3262</td><td>75</td></tr><tr><td>Ram Mahesh</td><td>India</td><td>Organic Choco Syrup</td><td>2289</td><td>135</td></tr><tr><td>Gigi Bohling</td><td>India</td><td>Organic Choco Syrup</td><td>6986</td><td>21</td></tr><tr><td>Barr Faughny</td><td>Australia</td><td>Fruit & Nut Bars</td><td>4417</td><td>153</td></tr><tr><td>Curtice Advani</td><td>India</td><td>Raspberry Choco</td><td>1442</td><td>15</td></tr><tr><td>Gunar Cockshoot</td><td>USA</td><td>50% Dark Bites</td><td>2415</td><td>255</td></tr><tr><td>Barr Faughny</td><td>New Zealand</td><td>99% Dark & Pure</td><td>238</td><td>18</td></tr><tr><td>Curtice Advani</td><td>New Zealand</td><td>Fruit & Nut Bars</td><td>4949</td><td>189</td></tr><tr><td>Gigi Bohling</td><td>Australia</td><td>Choco Coated Almonds</td><td>5075</td><td>21</td></tr><tr><td>Gunar Cockshoot</td><td>Canada</td><td>Mint Chip Choco</td><td>9198</td><td>36</td></tr><tr><td>Curtice Advani</td><td>India</td><td>Manuka Honey Choco</td><td>3339</td><td>75</td></tr><tr><td>Ram Mahesh</td><td>India</td><td>Eclairs</td><td>5019</td><td>156</td></tr><tr><td>Gigi Bohling</td><td>Canada</td><td>Mint Chip Choco</td><td>16184</td><td>39</td></tr><tr><td>Curtice Advani</td><td>Canada</td><td>Spicy Special Slims</td><td>497</td><td>63</td></tr><tr><td>Barr Faughny</td><td>Canada</td><td>Manuka Honey Choco</td><td>8211</td><td>75</td></tr><tr><td>Barr Faughny</td><td>Australia</td><td>Caramel Stuffed Bars</td><td>6580</td><td>183</td></tr><tr><td>Carla Molina</td><td>USA</td><td>Milk Bars</td><td>4760</td><td>69</td></tr><tr><td>Ram Mahesh</td><td>Canada</td><td>White Choc</td><td>5439</td><td>30</td></tr><tr><td>Carla Molina</td><td>India</td><td>Eclairs</td><td>1463</td><td>39</td></tr><tr><td>Gunar Cockshoot</td><td>India</td><td>Choco Coated Almonds</td><td>7777</td><td>504</td></tr><tr><td>Husein Augar</td><td>New Zealand</td><td>Manuka Honey Choco</td><td>1085</td><td>273</td></tr><tr><td>Gigi Bohling</td><td>New Zealand</td><td>Smooth Sliky Salty</td><td>182</td><td>48</td></tr><tr><td>Curtice Advani</td><td>India</td><td>Organic Choco Syrup</td><td>4242</td><td>207</td></tr><tr><td>Curtice Advani</td><td>Canada</td><td>Choco Coated Almonds</td><td>6118</td><td>9</td></tr><tr><td>Oby Sorrel</td><td>Canada</td><td>Fruit & Nut Bars</td><td>2317</td><td>261</td></tr><tr><td>Curtice Advani</td><td>Australia</td><td>Mint Chip Choco</td><td>938</td><td>6</td></tr><tr><td>Brien Boise</td><td>New Zealand</td><td>Raspberry Choco</td><td>9709</td><td>30</td></tr><tr><td>Ches Bonnell</td><td>India</td><td>Orange Choco</td><td>2205</td><td>138</td></tr><tr><td>Ches Bonnell</td><td>New Zealand</td><td>Eclairs</td><td>4487</td><td>111</td></tr><tr><td>Gigi Bohling</td><td>USA</td><td>Drinking Coco</td><td>2415</td><td>15</td></tr><tr><td>Ram Mahesh</td><td>India</td><td>99% Dark & Pure</td><td>4018</td><td>162</td></tr><tr><td>Gigi Bohling</td><td>India</td><td>99% Dark & Pure</td><td>861</td><td>195</td></tr><tr><td>Oby Sorrel</td><td>Australia</td><td>50% Dark Bites</td><td>5586</td><td>525</td></tr><tr><td>Ches Bonnell</td><td>India</td><td>Peanut Butter Cubes</td><td>2226</td><td>48</td></tr><tr><td>Husein Augar</td><td>India</td><td>Caramel Stuffed Bars</td><td>14329</td><td>150</td></tr><tr><td>Husein Augar</td><td>India</td><td>Orange Choco</td><td>8463</td><td>492</td></tr><tr><td>Gigi Bohling</td><td>India</td><td>Manuka Honey Choco</td><td>2891</td><td>102</td></tr><tr><td>Gunar Cockshoot</td><td>Canada</td><td>Fruit & Nut Bars</td><td>3773</td><td>165</td></tr><tr><td>Carla Molina</td><td>Canada</td><td>Caramel Stuffed Bars</td><td>854</td><td>309</td></tr><tr><td>Curtice Advani</td><td>Canada</td><td>Eclairs</td><td>4970</td><td>156</td></tr><tr><td>Husein Augar</td><td>USA</td><td>Baker's Choco Chips</td><td>98</td><td>159</td></tr><tr><td>Gigi Bohling</td><td>USA</td><td>Raspberry Choco</td><td>13391</td><td>201</td></tr><tr><td>Brien Boise</td><td>UK</td><td>Smooth Sliky Salty</td><td>8890</td><td>210</td></tr><tr><td>Barr Faughny</td><td>Australia</td><td>Milk Bars</td><td>56</td><td>51</td></tr><tr><td>Gunar Cockshoot</td><td>Canada</td><td>White Choc</td><td>3339</td><td>39</td></tr><tr><td>Oby Sorrel</td><td>USA</td><td>Drinking Coco</td><td>3808</td><td>279</td></tr><tr><td>Oby Sorrel</td><td>Australia</td><td>Milk Bars</td><td>63</td><td>123</td></tr><tr><td>Barr Faughny</td><td>UK</td><td>Organic Choco Syrup</td><td>7812</td><td>81</td></tr><tr><td>Ram Mahesh</td><td>New Zealand</td><td>99% Dark & Pure</td><td>7693</td><td>21</td></tr><tr><td>Gunar Cockshoot</td><td>Canada</td><td>Caramel Stuffed Bars</td><td>973</td><td>162</td></tr><tr><td>Oby Sorrel</td><td>USA</td><td>Spicy Special Slims</td><td>567</td><td>228</td></tr><tr><td>Oby Sorrel</td><td>Canada</td><td>Manuka Honey Choco</td><td>2471</td><td>342</td></tr><tr><td>Gigi Bohling</td><td>Australia</td><td>Milk Bars</td><td>7189</td><td>54</td></tr><tr><td>Carla Molina</td><td>USA</td><td>Caramel Stuffed Bars</td><td>7455</td><td>216</td></tr><tr><td>Gunar Cockshoot</td><td>India</td><td>Baker's Choco Chips</td><td>3108</td><td>54</td></tr><tr><td>Curtice Advani</td><td>Australia</td><td>White Choc</td><td>469</td><td>75</td></tr><tr><td>Husein Augar</td><td>New Zealand</td><td>Fruit & Nut Bars</td><td>2737</td><td>93</td></tr><tr><td>Husein Augar</td><td>New Zealand</td><td>White Choc</td><td>4305</td><td>156</td></tr><tr><td>Husein Augar</td><td>Australia</td><td>Eclairs</td><td>2408</td><td>9</td></tr><tr><td>Gunar Cockshoot</td><td>Canada</td><td>99% Dark & Pure</td><td>1281</td><td>18</td></tr><tr><td>Ram Mahesh</td><td>USA</td><td>Choco Coated Almonds</td><td>12348</td><td>234</td></tr><tr><td>Gunar Cockshoot</td><td>India</td><td>Caramel Stuffed Bars</td><td>3689</td><td>312</td></tr><tr><td>Ches Bonnell</td><td>Canada</td><td>99% Dark & Pure</td><td>2870</td><td>300</td></tr><tr><td>Barr Faughny</td><td>Canada</td><td>Organic Choco Syrup</td><td>798</td><td>519</td></tr><tr><td>Carla Molina</td><td>New Zealand</td><td>Spicy Special Slims</td><td>2933</td><td>9</td></tr><tr><td>Gigi Bohling</td><td>USA</td><td>Almond Choco</td><td>2744</td><td>9</td></tr><tr><td>Ram Mahesh</td><td>Canada</td><td>Peanut Butter Cubes</td><td>9772</td><td>90</td></tr><tr><td>Ches Bonnell</td><td>India</td><td>White Choc</td><td>1568</td><td>96</td></tr><tr><td>Barr Faughny</td><td>Canada</td><td>Mint Chip Choco</td><td>11417</td><td>21</td></tr><tr><td>Ram Mahesh</td><td>India</td><td>Baker's Choco Chips</td><td>6748</td><td>48</td></tr><tr><td>Oby Sorrel</td><td>Canada</td><td>Organic Choco Syrup</td><td>1407</td><td>72</td></tr><tr><td>Brien Boise</td><td>USA</td><td>Manuka Honey Choco</td><td>2023</td><td>168</td></tr><tr><td>Gigi Bohling</td><td>UK</td><td>Baker's Choco Chips</td><td>5236</td><td>51</td></tr><tr><td>Carla Molina</td><td>Canada</td><td>99% Dark & Pure</td><td>1925</td><td>192</td></tr><tr><td>Ches Bonnell</td><td>New Zealand</td><td>50% Dark Bites</td><td>6608</td><td>225</td></tr><tr><td>Curtice Advani</td><td>India</td><td>Baker's Choco Chips</td><td>8008</td><td>456</td></tr><tr><td>Oby Sorrel</td><td>India</td><td>White Choc</td><td>1428</td><td>93</td></tr><tr><td>Curtice Advani</td><td>India</td><td>Almond Choco</td><td>525</td><td>48</td></tr><tr><td>Curtice Advani</td><td>New Zealand</td><td>Drinking Coco</td><td>1505</td><td>102</td></tr><tr><td>Ches Bonnell</td><td>USA</td><td>70% Dark Bites</td><td>6755</td><td>252</td></tr><tr><td>Barr Faughny</td><td>New Zealand</td><td>Drinking Coco</td><td>11571</td><td>138</td></tr><tr><td>Ram Mahesh</td><td>Australia</td><td>White Choc</td><td>2541</td><td>90</td></tr><tr><td>Carla Molina</td><td>New Zealand</td><td>70% Dark Bites</td><td>1526</td><td>240</td></tr><tr><td>Ram Mahesh</td><td>Australia</td><td>Almond Choco</td><td>6125</td><td>102</td></tr><tr><td>Carla Molina</td><td>USA</td><td>Organic Choco Syrup</td><td>847</td><td>129</td></tr><tr><td>Brien Boise</td><td>USA</td><td>Organic Choco Syrup</td><td>4753</td><td>300</td></tr><tr><td>Curtice Advani</td><td>Australia</td><td>Peanut Butter Cubes</td><td>959</td><td>135</td></tr><tr><td>Ches Bonnell</td><td>USA</td><td>85% Dark Bars</td><td>2793</td><td>114</td></tr><tr><td>Ches Bonnell</td><td>USA</td><td>50% Dark Bites</td><td>4606</td><td>63</td></tr><tr><td>Ches Bonnell</td><td>Canada</td><td>Manuka Honey Choco</td><td>5551</td><td>252</td></tr><tr><td>Oby Sorrel</td><td>Canada</td><td>Choco Coated Almonds</td><td>6657</td><td>303</td></tr><tr><td>Ches Bonnell</td><td>UK</td><td>Eclairs</td><td>4438</td><td>246</td></tr><tr><td>Brien Boise</td><td>Australia</td><td>After Nines</td><td>168</td><td>84</td></tr><tr><td>Ches Bonnell</td><td>India</td><td>Eclairs</td><td>7777</td><td>39</td></tr><tr><td>Gigi Bohling</td><td>Canada</td><td>Eclairs</td><td>3339</td><td>348</td></tr><tr><td>Ches Bonnell</td><td>New Zealand</td><td>Peanut Butter Cubes</td><td>6391</td><td>48</td></tr><tr><td>Gigi Bohling</td><td>New Zealand</td><td>After Nines</td><td>518</td><td>75</td></tr><tr><td>Ches Bonnell</td><td>Australia</td><td>Caramel Stuffed Bars</td><td>5677</td><td>258</td></tr><tr><td>Curtice Advani</td><td>UK</td><td>Eclairs</td><td>6048</td><td>27</td></tr><tr><td>Brien Boise</td><td>Australia</td><td>Choco Coated Almonds</td><td>3752</td><td>213</td></tr><tr><td>Gigi Bohling</td><td>USA</td><td>Manuka Honey Choco</td><td>4480</td><td>357</td></tr><tr><td>Husein Augar</td><td>New Zealand</td><td>Almond Choco</td><td>259</td><td>207</td></tr><tr><td>Brien Boise</td><td>New Zealand</td><td>70% Dark Bites</td><td>42</td><td>150</td></tr><tr><td>Carla Molina</td><td>Canada</td><td>Baker's Choco Chips</td><td>98</td><td>204</td></tr><tr><td>Ches Bonnell</td><td>USA</td><td>Organic Choco Syrup</td><td>2478</td><td>21</td></tr><tr><td>Carla Molina</td><td>India</td><td>Peanut Butter Cubes</td><td>7847</td><td>174</td></tr><tr><td>Barr Faughny</td><td>New Zealand</td><td>Eclairs</td><td>9926</td><td>201</td></tr><tr><td>Brien Boise</td><td>Australia</td><td>Milk Bars</td><td>819</td><td>510</td></tr><tr><td>Curtice Advani</td><td>UK</td><td>Manuka Honey Choco</td><td>3052</td><td>378</td></tr><tr><td>Husein Augar</td><td>India</td><td>Spicy Special Slims</td><td>6832</td><td>27</td></tr><tr><td>Barr Faughny</td><td>UK</td><td>Mint Chip Choco</td><td>2016</td><td>117</td></tr><tr><td>Curtice Advani</td><td>Australia</td><td>Spicy Special Slims</td><td>7322</td><td>36</td></tr><tr><td>Brien Boise</td><td>USA</td><td>Peanut Butter Cubes</td><td>357</td><td>126</td></tr><tr><td>Husein Augar</td><td>UK</td><td>White Choc</td><td>3192</td><td>72</td></tr><tr><td>Ches Bonnell</td><td>Canada</td><td>After Nines</td><td>8435</td><td>42</td></tr><tr><td>Ram Mahesh</td><td>UK</td><td>Manuka Honey Choco</td><td>0</td><td>135</td></tr><tr><td>Ches Bonnell</td><td>India</td><td>85% Dark Bars</td><td>8862</td><td>189</td></tr><tr><td>Curtice Advani</td><td>New Zealand</td><td>Caramel Stuffed Bars</td><td>3556</td><td>459</td></tr><tr><td>Gigi Bohling</td><td>India</td><td>Raspberry Choco</td><td>7280</td><td>201</td></tr><tr><td>Curtice Advani</td><td>India</td><td>70% Dark Bites</td><td>3402</td><td>366</td></tr><tr><td>Gunar Cockshoot</td><td>New Zealand</td><td>Manuka Honey Choco</td><td>4592</td><td>324</td></tr><tr><td>Husein Augar</td><td>USA</td><td>Raspberry Choco</td><td>7833</td><td>243</td></tr><tr><td>Barr Faughny</td><td>UK</td><td>Spicy Special Slims</td><td>7651</td><td>213</td></tr><tr><td>Ram Mahesh</td><td>USA</td><td>70% Dark Bites</td><td>2275</td><td>447</td></tr><tr><td>Ram Mahesh</td><td>Australia</td><td>Milk Bars</td><td>5670</td><td>297</td></tr><tr><td>Ches Bonnell</td><td>USA</td><td>Mint Chip Choco</td><td>2135</td><td>27</td></tr><tr><td>Ram Mahesh</td><td>India</td><td>Fruit & Nut Bars</td><td>2779</td><td>75</td></tr><tr><td>Oby Sorrel</td><td>UK</td><td>Peanut Butter Cubes</td><td>12950</td><td>30</td></tr><tr><td>Ches Bonnell</td><td>Canada</td><td>Drinking Coco</td><td>2646</td><td>177</td></tr><tr><td>Ram Mahesh</td><td>India</td><td>Peanut Butter Cubes</td><td>3794</td><td>159</td></tr><tr><td>Gunar Cockshoot</td><td>USA</td><td>Peanut Butter Cubes</td><td>819</td><td>306</td></tr><tr><td>Gunar Cockshoot</td><td>India</td><td>Orange Choco</td><td>2583</td><td>18</td></tr><tr><td>Ches Bonnell</td><td>USA</td><td>99% Dark & Pure</td><td>4585</td><td>240</td></tr><tr><td>Gigi Bohling</td><td>India</td><td>Peanut Butter Cubes</td><td>1652</td><td>93</td></tr><tr><td>Oby Sorrel</td><td>India</td><td>Baker's Choco Chips</td><td>4991</td><td>9</td></tr><tr><td>Brien Boise</td><td>India</td><td>Mint Chip Choco</td><td>2009</td><td>219</td></tr><tr><td>Barr Faughny</td><td>UK</td><td>After Nines</td><td>1568</td><td>141</td></tr><tr><td>Carla Molina</td><td>New Zealand</td><td>Orange Choco</td><td>3388</td><td>123</td></tr><tr><td>Ram Mahesh</td><td>Australia</td><td>85% Dark Bars</td><td>623</td><td>51</td></tr><tr><td>Curtice Advani</td><td>Canada</td><td>Almond Choco</td><td>10073</td><td>120</td></tr><tr><td>Brien Boise</td><td>UK</td><td>Baker's Choco Chips</td><td>1561</td><td>27</td></tr><tr><td>Husein Augar</td><td>Canada</td><td>Organic Choco Syrup</td><td>11522</td><td>204</td></tr><tr><td>Curtice Advani</td><td>Australia</td><td>Milk Bars</td><td>2317</td><td>123</td></tr><tr><td>Oby Sorrel</td><td>New Zealand</td><td>Caramel Stuffed Bars</td><td>3059</td><td>27</td></tr><tr><td>Carla Molina</td><td>New Zealand</td><td>Baker's Choco Chips</td><td>2324</td><td>177</td></tr><tr><td>Gunar Cockshoot</td><td>UK</td><td>Baker's Choco Chips</td><td>4956</td><td>171</td></tr><tr><td>Oby Sorrel</td><td>India</td><td>99% Dark & Pure</td><td>5355</td><td>204</td></tr><tr><td>Gunar Cockshoot</td><td>India</td><td>50% Dark Bites</td><td>7259</td><td>276</td></tr><tr><td>Brien Boise</td><td>New Zealand</td><td>Baker's Choco Chips</td><td>6279</td><td>45</td></tr><tr><td>Ram Mahesh</td><td>Australia</td><td>Manuka Honey Choco</td><td>2541</td><td>45</td></tr><tr><td>Curtice Advani</td><td>USA</td><td>Organic Choco Syrup</td><td>3864</td><td>177</td></tr><tr><td>Gigi Bohling</td><td>Canada</td><td>Milk Bars</td><td>6146</td><td>63</td></tr><tr><td>Husein Augar</td><td>UK</td><td>Drinking Coco</td><td>2639</td><td>204</td></tr><tr><td>Brien Boise</td><td>New Zealand</td><td>After Nines</td><td>1890</td><td>195</td></tr><tr><td>Ches Bonnell</td><td>India</td><td>50% Dark Bites</td><td>1932</td><td>369</td></tr><tr><td>Gunar Cockshoot</td><td>India</td><td>White Choc</td><td>6300</td><td>42</td></tr><tr><td>Curtice Advani</td><td>New Zealand</td><td>70% Dark Bites</td><td>560</td><td>81</td></tr><tr><td>Husein Augar</td><td>New Zealand</td><td>Baker's Choco Chips</td><td>2856</td><td>246</td></tr><tr><td>Husein Augar</td><td>India</td><td>Eclairs</td><td>707</td><td>174</td></tr><tr><td>Brien Boise</td><td>USA</td><td>70% Dark Bites</td><td>3598</td><td>81</td></tr><tr><td>Ram Mahesh</td><td>USA</td><td>After Nines</td><td>6853</td><td>372</td></tr><tr><td>Ram Mahesh</td><td>USA</td><td>Mint Chip Choco</td><td>4725</td><td>174</td></tr><tr><td>Carla Molina</td><td>Canada</td><td>Choco Coated Almonds</td><td>10304</td><td>84</td></tr><tr><td>Carla Molina</td><td>India</td><td>Mint Chip Choco</td><td>1274</td><td>225</td></tr><tr><td>Gigi Bohling</td><td>Canada</td><td>70% Dark Bites</td><td>1526</td><td>105</td></tr><tr><td>Ram Mahesh</td><td>UK</td><td>Caramel Stuffed Bars</td><td>3101</td><td>225</td></tr><tr><td>Barr Faughny</td><td>New Zealand</td><td>50% Dark Bites</td><td>1057</td><td>54</td></tr><tr><td>Ches Bonnell</td><td>New Zealand</td><td>Baker's Choco Chips</td><td>5306</td><td>0</td></tr><tr><td>Gigi Bohling</td><td>UK</td><td>85% Dark Bars</td><td>4018</td><td>171</td></tr><tr><td>Husein Augar</td><td>India</td><td>Mint Chip Choco</td><td>938</td><td>189</td></tr><tr><td>Ches Bonnell</td><td>Australia</td><td>Drinking Coco</td><td>1778</td><td>270</td></tr><tr><td>Curtice Advani</td><td>UK</td><td>70% Dark Bites</td><td>1638</td><td>63</td></tr><tr><td>Carla Molina</td><td>Australia</td><td>White Choc</td><td>154</td><td>21</td></tr><tr><td>Ches Bonnell</td><td>New Zealand</td><td>After Nines</td><td>9835</td><td>207</td></tr><tr><td>Husein Augar</td><td>New Zealand</td><td>Orange Choco</td><td>7273</td><td>96</td></tr><tr><td>Gigi Bohling</td><td>UK</td><td>After Nines</td><td>6909</td><td>81</td></tr><tr><td>Husein Augar</td><td>UK</td><td>85% Dark Bars</td><td>3920</td><td>306</td></tr><tr><td>Oby Sorrel</td><td>UK</td><td>Spicy Special Slims</td><td>4858</td><td>279</td></tr><tr><td>Barr Faughny</td><td>Australia</td><td>Almond Choco</td><td>3549</td><td>3</td></tr><tr><td>Ches Bonnell</td><td>UK</td><td>Organic Choco Syrup</td><td>966</td><td>198</td></tr><tr><td>Gigi Bohling</td><td>UK</td><td>Drinking Coco</td><td>385</td><td>249</td></tr><tr><td>Curtice Advani</td><td>India</td><td>Mint Chip Choco</td><td>2219</td><td>75</td></tr><tr><td>Husein Augar</td><td>Canada</td><td>Choco Coated Almonds</td><td>2954</td><td>189</td></tr><tr><td>Ches Bonnell</td><td>Canada</td><td>Choco Coated Almonds</td><td>280</td><td>87</td></tr><tr><td>Carla Molina</td><td>Canada</td><td>70% Dark Bites</td><td>6118</td><td>174</td></tr><tr><td>Barr Faughny</td><td>UK</td><td>Raspberry Choco</td><td>4802</td><td>36</td></tr><tr><td>Husein Augar</td><td>Australia</td><td>85% Dark Bars</td><td>4137</td><td>60</td></tr><tr><td>Gunar Cockshoot</td><td>USA</td><td>Fruit & Nut Bars</td><td>2023</td><td>78</td></tr><tr><td>Husein Augar</td><td>Canada</td><td>70% Dark Bites</td><td>9051</td><td>57</td></tr><tr><td>Husein Augar</td><td>New Zealand</td><td>Caramel Stuffed Bars</td><td>2919</td><td>45</td></tr><tr><td>Carla Molina</td><td>Australia</td><td>After Nines</td><td>5915</td><td>3</td></tr><tr><td>Oby Sorrel</td><td>USA</td><td>Raspberry Choco</td><td>2562</td><td>6</td></tr><tr><td>Gigi Bohling</td><td>New Zealand</td><td>White Choc</td><td>8813</td><td>21</td></tr><tr><td>Gigi Bohling</td><td>Canada</td><td>Drinking Coco</td><td>6111</td><td>3</td></tr><tr><td>Brien Boise</td><td>India</td><td>Smooth Sliky Salty</td><td>3507</td><td>288</td></tr><tr><td>Curtice Advani</td><td>Canada</td><td>Milk Bars</td><td>4319</td><td>30</td></tr><tr><td>Ram Mahesh</td><td>Australia</td><td>Baker's Choco Chips</td><td>609</td><td>87</td></tr><tr><td>Ram Mahesh</td><td>UK</td><td>Organic Choco Syrup</td><td>6370</td><td>30</td></tr><tr><td>Gigi Bohling</td><td>Australia</td><td>99% Dark & Pure</td><td>5474</td><td>168</td></tr><tr><td>Ram Mahesh</td><td>Canada</td><td>Organic Choco Syrup</td><td>3164</td><td>306</td></tr><tr><td>Curtice Advani</td><td>USA</td><td>Almond Choco</td><td>1302</td><td>402</td></tr><tr><td>Gunar Cockshoot</td><td>New Zealand</td><td>Caramel Stuffed Bars</td><td>7308</td><td>327</td></tr><tr><td>Ram Mahesh</td><td>New Zealand</td><td>Organic Choco Syrup</td><td>6132</td><td>93</td></tr><tr><td>Oby Sorrel</td><td>USA</td><td>50% Dark Bites</td><td>3472</td><td>96</td></tr><tr><td>Brien Boise</td><td>UK</td><td>Drinking Coco</td><td>9660</td><td>27</td></tr><tr><td>Husein Augar</td><td>Australia</td><td>Baker's Choco Chips</td><td>2436</td><td>99</td></tr><tr><td>Husein Augar</td><td>Australia</td><td>Peanut Butter Cubes</td><td>9506</td><td>87</td></tr><tr><td>Oby Sorrel</td><td>New Zealand</td><td>Spicy Special Slims</td><td>245</td><td>288</td></tr><tr><td>Brien Boise</td><td>USA</td><td>Orange Choco</td><td>2702</td><td>363</td></tr><tr><td>Oby Sorrel</td><td>India</td><td>Eclairs</td><td>700</td><td>87</td></tr><tr><td>Curtice Advani</td><td>India</td><td>Eclairs</td><td>3759</td><td>150</td></tr><tr><td>Barr Faughny</td><td>USA</td><td>Eclairs</td><td>1589</td><td>303</td></tr><tr><td>Ches Bonnell</td><td>USA</td><td>Caramel Stuffed Bars</td><td>5194</td><td>288</td></tr><tr><td>Oby Sorrel</td><td>Canada</td><td>Milk Bars</td><td>945</td><td>75</td></tr><tr><td>Ram Mahesh</td><td>Australia</td><td>Smooth Sliky Salty</td><td>1988</td><td>39</td></tr><tr><td>Curtice Advani</td><td>India</td><td>Choco Coated Almonds</td><td>6734</td><td>123</td></tr><tr><td>Ram Mahesh</td><td>Canada</td><td>Almond Choco</td><td>217</td><td>36</td></tr><tr><td>Gigi Bohling</td><td>India</td><td>After Nines</td><td>6279</td><td>237</td></tr><tr><td>Ram Mahesh</td><td>Canada</td><td>Milk Bars</td><td>4424</td><td>201</td></tr><tr><td>Barr Faughny</td><td>Canada</td><td>Eclairs</td><td>189</td><td>48</td></tr><tr><td>Gigi Bohling</td><td>USA</td><td>After Nines</td><td>490</td><td>84</td></tr><tr><td>Brien Boise</td><td>New Zealand</td><td>Spicy Special Slims</td><td>434</td><td>87</td></tr><tr><td>Ches Bonnell</td><td>Australia</td><td>70% Dark Bites</td><td>10129</td><td>312</td></tr><tr><td>Gunar Cockshoot</td><td>UK</td><td>Caramel Stuffed Bars</td><td>1652</td><td>102</td></tr><tr><td>Brien Boise</td><td>Australia</td><td>Spicy Special Slims</td><td>6433</td><td>78</td></tr><tr><td>Gunar Cockshoot</td><td>India</td><td>Fruit & Nut Bars</td><td>2212</td><td>117</td></tr><tr><td>Carla Molina</td><td>USA</td><td>99% Dark & Pure</td><td>609</td><td>99</td></tr><tr><td>Ram Mahesh</td><td>USA</td><td>85% Dark Bars</td><td>1638</td><td>48</td></tr><tr><td>Ches Bonnell</td><td>India</td><td>Raspberry Choco</td><td>3829</td><td>24</td></tr><tr><td>Ram Mahesh</td><td>UK</td><td>Raspberry Choco</td><td>5775</td><td>42</td></tr><tr><td>Curtice Advani</td><td>USA</td><td>Orange Choco</td><td>1071</td><td>270</td></tr><tr><td>Brien Boise</td><td>Canada</td><td>Fruit & Nut Bars</td><td>5019</td><td>150</td></tr><tr><td>Barr Faughny</td><td>New Zealand</td><td>Raspberry Choco</td><td>2863</td><td>42</td></tr><tr><td>Ram Mahesh</td><td>USA</td><td>Manuka Honey Choco</td><td>1617</td><td>126</td></tr><tr><td>Curtice Advani</td><td>New Zealand</td><td>Baker's Choco Chips</td><td>6818</td><td>6</td></tr><tr><td>Gunar Cockshoot</td><td>USA</td><td>Raspberry Choco</td><td>6657</td><td>276</td></tr><tr><td>Gunar Cockshoot</td><td>India</td><td>Eclairs</td><td>2919</td><td>93</td></tr><tr><td>Barr Faughny</td><td>Canada</td><td>Smooth Sliky Salty</td><td>3094</td><td>246</td></tr><tr><td>Curtice Advani</td><td>UK</td><td>85% Dark Bars</td><td>2989</td><td>3</td></tr><tr><td>Brien Boise</td><td>Australia</td><td>Organic Choco Syrup</td><td>2268</td><td>63</td></tr><tr><td>Gigi Bohling</td><td>USA</td><td>Smooth Sliky Salty</td><td>4753</td><td>246</td></tr><tr><td>Barr Faughny</td><td>India</td><td>99% Dark & Pure</td><td>7511</td><td>120</td></tr><tr><td>Barr Faughny</td><td>Australia</td><td>Smooth Sliky Salty</td><td>4326</td><td>348</td></tr><tr><td>Carla Molina</td><td>India</td><td>Fruit & Nut Bars</td><td>4935</td><td>126</td></tr><tr><td>Curtice Advani</td><td>USA</td><td>70% Dark Bites</td><td>4781</td><td>123</td></tr><tr><td>Gigi Bohling</td><td>Australia</td><td>White Choc</td><td>7483</td><td>45</td></tr><tr><td>Oby Sorrel</td><td>Australia</td><td>Almond Choco</td><td>6860</td><td>126</td></tr><tr><td>Ram Mahesh</td><td>New Zealand</td><td>Manuka Honey Choco</td><td>9002</td><td>72</td></tr><tr><td>Curtice Advani</td><td>Canada</td><td>Manuka Honey Choco</td><td>1400</td><td>135</td></tr><tr><td>Oby Sorrel</td><td>India</td><td>After Nines</td><td>4053</td><td>24</td></tr><tr><td>Ches Bonnell</td><td>Canada</td><td>Smooth Sliky Salty</td><td>2149</td><td>117</td></tr><tr><td>Gunar Cockshoot</td><td>UK</td><td>Manuka Honey Choco</td><td>3640</td><td>51</td></tr><tr><td>Barr Faughny</td><td>UK</td><td>Fruit & Nut Bars</td><td>630</td><td>36</td></tr><tr><td>Husein Augar</td><td>USA</td><td>Organic Choco Syrup</td><td>2429</td><td>144</td></tr><tr><td>Husein Augar</td><td>Canada</td><td>White Choc</td><td>2142</td><td>114</td></tr><tr><td>Ches Bonnell</td><td>New Zealand</td><td>70% Dark Bites</td><td>6454</td><td>54</td></tr><tr><td>Ches Bonnell</td><td>New Zealand</td><td>Mint Chip Choco</td><td>4487</td><td>333</td></tr><tr><td>Gunar Cockshoot</td><td>New Zealand</td><td>Almond Choco</td><td>938</td><td>366</td></tr><tr><td>Gunar Cockshoot</td><td>Australia</td><td>Baker's Choco Chips</td><td>8841</td><td>303</td></tr><tr><td>Barr Faughny</td><td>UK</td><td>Peanut Butter Cubes</td><td>4018</td><td>126</td></tr><tr><td>Carla Molina</td><td>New Zealand</td><td>Raspberry Choco</td><td>714</td><td>231</td></tr><tr><td>Husein Augar</td><td>Australia</td><td>White Choc</td><td>3850</td><td>102</td></tr></tbody></table></div>"
      ]
     },
     "metadata": {
      "application/vnd.databricks.v1+output": {
       "addedWidgets": {},
       "aggData": [],
       "aggError": "",
       "aggOverflow": false,
       "aggSchema": [],
       "aggSeriesLimitReached": false,
       "aggType": "",
       "arguments": {},
       "columnCustomDisplayInfos": {},
       "data": [
        [
         "Ram Mahesh",
         "New Zealand",
         "70% Dark Bites",
         1624,
         114
        ],
        [
         "Brien Boise",
         "USA",
         "Choco Coated Almonds",
         6706,
         459
        ],
        [
         "Husein Augar",
         "USA",
         "Almond Choco",
         959,
         147
        ],
        [
         "Carla Molina",
         "Canada",
         "Drinking Coco",
         9632,
         288
        ],
        [
         "Curtice Advani",
         "UK",
         "White Choc",
         2100,
         414
        ],
        [
         "Ram Mahesh",
         "USA",
         "Peanut Butter Cubes",
         8869,
         432
        ],
        [
         "Curtice Advani",
         "Australia",
         "Smooth Sliky Salty",
         2681,
         54
        ],
        [
         "Brien Boise",
         "USA",
         "After Nines",
         5012,
         210
        ],
        [
         "Ches Bonnell",
         "Australia",
         "50% Dark Bites",
         1281,
         75
        ],
        [
         "Gigi Bohling",
         "New Zealand",
         "50% Dark Bites",
         4991,
         12
        ],
        [
         "Barr Faughny",
         "UK",
         "White Choc",
         1785,
         462
        ],
        [
         "Gunar Cockshoot",
         "New Zealand",
         "Eclairs",
         3983,
         144
        ],
        [
         "Husein Augar",
         "Australia",
         "Mint Chip Choco",
         2646,
         120
        ],
        [
         "Barr Faughny",
         "India",
         "Milk Bars",
         252,
         54
        ],
        [
         "Gunar Cockshoot",
         "USA",
         "White Choc",
         2464,
         234
        ],
        [
         "Gunar Cockshoot",
         "USA",
         "Manuka Honey Choco",
         2114,
         66
        ],
        [
         "Curtice Advani",
         "New Zealand",
         "Smooth Sliky Salty",
         7693,
         87
        ],
        [
         "Gigi Bohling",
         "India",
         "Orange Choco",
         15610,
         339
        ],
        [
         "Carla Molina",
         "India",
         "After Nines",
         336,
         144
        ],
        [
         "Barr Faughny",
         "UK",
         "Orange Choco",
         9443,
         162
        ],
        [
         "Husein Augar",
         "India",
         "Fruit & Nut Bars",
         8155,
         90
        ],
        [
         "Brien Boise",
         "Australia",
         "Fruit & Nut Bars",
         1701,
         234
        ],
        [
         "Oby Sorrel",
         "Australia",
         "After Nines",
         2205,
         141
        ],
        [
         "Brien Boise",
         "New Zealand",
         "99% Dark & Pure",
         1771,
         204
        ],
        [
         "Carla Molina",
         "USA",
         "Raspberry Choco",
         2114,
         186
        ],
        [
         "Carla Molina",
         "Canada",
         "Milk Bars",
         10311,
         231
        ],
        [
         "Gunar Cockshoot",
         "UK",
         "Mint Chip Choco",
         21,
         168
        ],
        [
         "Oby Sorrel",
         "USA",
         "Orange Choco",
         1974,
         195
        ],
        [
         "Gigi Bohling",
         "Canada",
         "Fruit & Nut Bars",
         6314,
         15
        ],
        [
         "Oby Sorrel",
         "New Zealand",
         "Fruit & Nut Bars",
         4683,
         30
        ],
        [
         "Carla Molina",
         "New Zealand",
         "85% Dark Bars",
         6398,
         102
        ],
        [
         "Barr Faughny",
         "USA",
         "99% Dark & Pure",
         553,
         15
        ],
        [
         "Brien Boise",
         "UK",
         "70% Dark Bites",
         7021,
         183
        ],
        [
         "Ram Mahesh",
         "UK",
         "After Nines",
         5817,
         12
        ],
        [
         "Carla Molina",
         "UK",
         "50% Dark Bites",
         3976,
         72
        ],
        [
         "Curtice Advani",
         "Australia",
         "Organic Choco Syrup",
         1134,
         282
        ],
        [
         "Barr Faughny",
         "UK",
         "Caramel Stuffed Bars",
         6027,
         144
        ],
        [
         "Curtice Advani",
         "New Zealand",
         "Mint Chip Choco",
         1904,
         405
        ],
        [
         "Ches Bonnell",
         "India",
         "Choco Coated Almonds",
         3262,
         75
        ],
        [
         "Ram Mahesh",
         "India",
         "Organic Choco Syrup",
         2289,
         135
        ],
        [
         "Gigi Bohling",
         "India",
         "Organic Choco Syrup",
         6986,
         21
        ],
        [
         "Barr Faughny",
         "Australia",
         "Fruit & Nut Bars",
         4417,
         153
        ],
        [
         "Curtice Advani",
         "India",
         "Raspberry Choco",
         1442,
         15
        ],
        [
         "Gunar Cockshoot",
         "USA",
         "50% Dark Bites",
         2415,
         255
        ],
        [
         "Barr Faughny",
         "New Zealand",
         "99% Dark & Pure",
         238,
         18
        ],
        [
         "Curtice Advani",
         "New Zealand",
         "Fruit & Nut Bars",
         4949,
         189
        ],
        [
         "Gigi Bohling",
         "Australia",
         "Choco Coated Almonds",
         5075,
         21
        ],
        [
         "Gunar Cockshoot",
         "Canada",
         "Mint Chip Choco",
         9198,
         36
        ],
        [
         "Curtice Advani",
         "India",
         "Manuka Honey Choco",
         3339,
         75
        ],
        [
         "Ram Mahesh",
         "India",
         "Eclairs",
         5019,
         156
        ],
        [
         "Gigi Bohling",
         "Canada",
         "Mint Chip Choco",
         16184,
         39
        ],
        [
         "Curtice Advani",
         "Canada",
         "Spicy Special Slims",
         497,
         63
        ],
        [
         "Barr Faughny",
         "Canada",
         "Manuka Honey Choco",
         8211,
         75
        ],
        [
         "Barr Faughny",
         "Australia",
         "Caramel Stuffed Bars",
         6580,
         183
        ],
        [
         "Carla Molina",
         "USA",
         "Milk Bars",
         4760,
         69
        ],
        [
         "Ram Mahesh",
         "Canada",
         "White Choc",
         5439,
         30
        ],
        [
         "Carla Molina",
         "India",
         "Eclairs",
         1463,
         39
        ],
        [
         "Gunar Cockshoot",
         "India",
         "Choco Coated Almonds",
         7777,
         504
        ],
        [
         "Husein Augar",
         "New Zealand",
         "Manuka Honey Choco",
         1085,
         273
        ],
        [
         "Gigi Bohling",
         "New Zealand",
         "Smooth Sliky Salty",
         182,
         48
        ],
        [
         "Curtice Advani",
         "India",
         "Organic Choco Syrup",
         4242,
         207
        ],
        [
         "Curtice Advani",
         "Canada",
         "Choco Coated Almonds",
         6118,
         9
        ],
        [
         "Oby Sorrel",
         "Canada",
         "Fruit & Nut Bars",
         2317,
         261
        ],
        [
         "Curtice Advani",
         "Australia",
         "Mint Chip Choco",
         938,
         6
        ],
        [
         "Brien Boise",
         "New Zealand",
         "Raspberry Choco",
         9709,
         30
        ],
        [
         "Ches Bonnell",
         "India",
         "Orange Choco",
         2205,
         138
        ],
        [
         "Ches Bonnell",
         "New Zealand",
         "Eclairs",
         4487,
         111
        ],
        [
         "Gigi Bohling",
         "USA",
         "Drinking Coco",
         2415,
         15
        ],
        [
         "Ram Mahesh",
         "India",
         "99% Dark & Pure",
         4018,
         162
        ],
        [
         "Gigi Bohling",
         "India",
         "99% Dark & Pure",
         861,
         195
        ],
        [
         "Oby Sorrel",
         "Australia",
         "50% Dark Bites",
         5586,
         525
        ],
        [
         "Ches Bonnell",
         "India",
         "Peanut Butter Cubes",
         2226,
         48
        ],
        [
         "Husein Augar",
         "India",
         "Caramel Stuffed Bars",
         14329,
         150
        ],
        [
         "Husein Augar",
         "India",
         "Orange Choco",
         8463,
         492
        ],
        [
         "Gigi Bohling",
         "India",
         "Manuka Honey Choco",
         2891,
         102
        ],
        [
         "Gunar Cockshoot",
         "Canada",
         "Fruit & Nut Bars",
         3773,
         165
        ],
        [
         "Carla Molina",
         "Canada",
         "Caramel Stuffed Bars",
         854,
         309
        ],
        [
         "Curtice Advani",
         "Canada",
         "Eclairs",
         4970,
         156
        ],
        [
         "Husein Augar",
         "USA",
         "Baker's Choco Chips",
         98,
         159
        ],
        [
         "Gigi Bohling",
         "USA",
         "Raspberry Choco",
         13391,
         201
        ],
        [
         "Brien Boise",
         "UK",
         "Smooth Sliky Salty",
         8890,
         210
        ],
        [
         "Barr Faughny",
         "Australia",
         "Milk Bars",
         56,
         51
        ],
        [
         "Gunar Cockshoot",
         "Canada",
         "White Choc",
         3339,
         39
        ],
        [
         "Oby Sorrel",
         "USA",
         "Drinking Coco",
         3808,
         279
        ],
        [
         "Oby Sorrel",
         "Australia",
         "Milk Bars",
         63,
         123
        ],
        [
         "Barr Faughny",
         "UK",
         "Organic Choco Syrup",
         7812,
         81
        ],
        [
         "Ram Mahesh",
         "New Zealand",
         "99% Dark & Pure",
         7693,
         21
        ],
        [
         "Gunar Cockshoot",
         "Canada",
         "Caramel Stuffed Bars",
         973,
         162
        ],
        [
         "Oby Sorrel",
         "USA",
         "Spicy Special Slims",
         567,
         228
        ],
        [
         "Oby Sorrel",
         "Canada",
         "Manuka Honey Choco",
         2471,
         342
        ],
        [
         "Gigi Bohling",
         "Australia",
         "Milk Bars",
         7189,
         54
        ],
        [
         "Carla Molina",
         "USA",
         "Caramel Stuffed Bars",
         7455,
         216
        ],
        [
         "Gunar Cockshoot",
         "India",
         "Baker's Choco Chips",
         3108,
         54
        ],
        [
         "Curtice Advani",
         "Australia",
         "White Choc",
         469,
         75
        ],
        [
         "Husein Augar",
         "New Zealand",
         "Fruit & Nut Bars",
         2737,
         93
        ],
        [
         "Husein Augar",
         "New Zealand",
         "White Choc",
         4305,
         156
        ],
        [
         "Husein Augar",
         "Australia",
         "Eclairs",
         2408,
         9
        ],
        [
         "Gunar Cockshoot",
         "Canada",
         "99% Dark & Pure",
         1281,
         18
        ],
        [
         "Ram Mahesh",
         "USA",
         "Choco Coated Almonds",
         12348,
         234
        ],
        [
         "Gunar Cockshoot",
         "India",
         "Caramel Stuffed Bars",
         3689,
         312
        ],
        [
         "Ches Bonnell",
         "Canada",
         "99% Dark & Pure",
         2870,
         300
        ],
        [
         "Barr Faughny",
         "Canada",
         "Organic Choco Syrup",
         798,
         519
        ],
        [
         "Carla Molina",
         "New Zealand",
         "Spicy Special Slims",
         2933,
         9
        ],
        [
         "Gigi Bohling",
         "USA",
         "Almond Choco",
         2744,
         9
        ],
        [
         "Ram Mahesh",
         "Canada",
         "Peanut Butter Cubes",
         9772,
         90
        ],
        [
         "Ches Bonnell",
         "India",
         "White Choc",
         1568,
         96
        ],
        [
         "Barr Faughny",
         "Canada",
         "Mint Chip Choco",
         11417,
         21
        ],
        [
         "Ram Mahesh",
         "India",
         "Baker's Choco Chips",
         6748,
         48
        ],
        [
         "Oby Sorrel",
         "Canada",
         "Organic Choco Syrup",
         1407,
         72
        ],
        [
         "Brien Boise",
         "USA",
         "Manuka Honey Choco",
         2023,
         168
        ],
        [
         "Gigi Bohling",
         "UK",
         "Baker's Choco Chips",
         5236,
         51
        ],
        [
         "Carla Molina",
         "Canada",
         "99% Dark & Pure",
         1925,
         192
        ],
        [
         "Ches Bonnell",
         "New Zealand",
         "50% Dark Bites",
         6608,
         225
        ],
        [
         "Curtice Advani",
         "India",
         "Baker's Choco Chips",
         8008,
         456
        ],
        [
         "Oby Sorrel",
         "India",
         "White Choc",
         1428,
         93
        ],
        [
         "Curtice Advani",
         "India",
         "Almond Choco",
         525,
         48
        ],
        [
         "Curtice Advani",
         "New Zealand",
         "Drinking Coco",
         1505,
         102
        ],
        [
         "Ches Bonnell",
         "USA",
         "70% Dark Bites",
         6755,
         252
        ],
        [
         "Barr Faughny",
         "New Zealand",
         "Drinking Coco",
         11571,
         138
        ],
        [
         "Ram Mahesh",
         "Australia",
         "White Choc",
         2541,
         90
        ],
        [
         "Carla Molina",
         "New Zealand",
         "70% Dark Bites",
         1526,
         240
        ],
        [
         "Ram Mahesh",
         "Australia",
         "Almond Choco",
         6125,
         102
        ],
        [
         "Carla Molina",
         "USA",
         "Organic Choco Syrup",
         847,
         129
        ],
        [
         "Brien Boise",
         "USA",
         "Organic Choco Syrup",
         4753,
         300
        ],
        [
         "Curtice Advani",
         "Australia",
         "Peanut Butter Cubes",
         959,
         135
        ],
        [
         "Ches Bonnell",
         "USA",
         "85% Dark Bars",
         2793,
         114
        ],
        [
         "Ches Bonnell",
         "USA",
         "50% Dark Bites",
         4606,
         63
        ],
        [
         "Ches Bonnell",
         "Canada",
         "Manuka Honey Choco",
         5551,
         252
        ],
        [
         "Oby Sorrel",
         "Canada",
         "Choco Coated Almonds",
         6657,
         303
        ],
        [
         "Ches Bonnell",
         "UK",
         "Eclairs",
         4438,
         246
        ],
        [
         "Brien Boise",
         "Australia",
         "After Nines",
         168,
         84
        ],
        [
         "Ches Bonnell",
         "India",
         "Eclairs",
         7777,
         39
        ],
        [
         "Gigi Bohling",
         "Canada",
         "Eclairs",
         3339,
         348
        ],
        [
         "Ches Bonnell",
         "New Zealand",
         "Peanut Butter Cubes",
         6391,
         48
        ],
        [
         "Gigi Bohling",
         "New Zealand",
         "After Nines",
         518,
         75
        ],
        [
         "Ches Bonnell",
         "Australia",
         "Caramel Stuffed Bars",
         5677,
         258
        ],
        [
         "Curtice Advani",
         "UK",
         "Eclairs",
         6048,
         27
        ],
        [
         "Brien Boise",
         "Australia",
         "Choco Coated Almonds",
         3752,
         213
        ],
        [
         "Gigi Bohling",
         "USA",
         "Manuka Honey Choco",
         4480,
         357
        ],
        [
         "Husein Augar",
         "New Zealand",
         "Almond Choco",
         259,
         207
        ],
        [
         "Brien Boise",
         "New Zealand",
         "70% Dark Bites",
         42,
         150
        ],
        [
         "Carla Molina",
         "Canada",
         "Baker's Choco Chips",
         98,
         204
        ],
        [
         "Ches Bonnell",
         "USA",
         "Organic Choco Syrup",
         2478,
         21
        ],
        [
         "Carla Molina",
         "India",
         "Peanut Butter Cubes",
         7847,
         174
        ],
        [
         "Barr Faughny",
         "New Zealand",
         "Eclairs",
         9926,
         201
        ],
        [
         "Brien Boise",
         "Australia",
         "Milk Bars",
         819,
         510
        ],
        [
         "Curtice Advani",
         "UK",
         "Manuka Honey Choco",
         3052,
         378
        ],
        [
         "Husein Augar",
         "India",
         "Spicy Special Slims",
         6832,
         27
        ],
        [
         "Barr Faughny",
         "UK",
         "Mint Chip Choco",
         2016,
         117
        ],
        [
         "Curtice Advani",
         "Australia",
         "Spicy Special Slims",
         7322,
         36
        ],
        [
         "Brien Boise",
         "USA",
         "Peanut Butter Cubes",
         357,
         126
        ],
        [
         "Husein Augar",
         "UK",
         "White Choc",
         3192,
         72
        ],
        [
         "Ches Bonnell",
         "Canada",
         "After Nines",
         8435,
         42
        ],
        [
         "Ram Mahesh",
         "UK",
         "Manuka Honey Choco",
         0,
         135
        ],
        [
         "Ches Bonnell",
         "India",
         "85% Dark Bars",
         8862,
         189
        ],
        [
         "Curtice Advani",
         "New Zealand",
         "Caramel Stuffed Bars",
         3556,
         459
        ],
        [
         "Gigi Bohling",
         "India",
         "Raspberry Choco",
         7280,
         201
        ],
        [
         "Curtice Advani",
         "India",
         "70% Dark Bites",
         3402,
         366
        ],
        [
         "Gunar Cockshoot",
         "New Zealand",
         "Manuka Honey Choco",
         4592,
         324
        ],
        [
         "Husein Augar",
         "USA",
         "Raspberry Choco",
         7833,
         243
        ],
        [
         "Barr Faughny",
         "UK",
         "Spicy Special Slims",
         7651,
         213
        ],
        [
         "Ram Mahesh",
         "USA",
         "70% Dark Bites",
         2275,
         447
        ],
        [
         "Ram Mahesh",
         "Australia",
         "Milk Bars",
         5670,
         297
        ],
        [
         "Ches Bonnell",
         "USA",
         "Mint Chip Choco",
         2135,
         27
        ],
        [
         "Ram Mahesh",
         "India",
         "Fruit & Nut Bars",
         2779,
         75
        ],
        [
         "Oby Sorrel",
         "UK",
         "Peanut Butter Cubes",
         12950,
         30
        ],
        [
         "Ches Bonnell",
         "Canada",
         "Drinking Coco",
         2646,
         177
        ],
        [
         "Ram Mahesh",
         "India",
         "Peanut Butter Cubes",
         3794,
         159
        ],
        [
         "Gunar Cockshoot",
         "USA",
         "Peanut Butter Cubes",
         819,
         306
        ],
        [
         "Gunar Cockshoot",
         "India",
         "Orange Choco",
         2583,
         18
        ],
        [
         "Ches Bonnell",
         "USA",
         "99% Dark & Pure",
         4585,
         240
        ],
        [
         "Gigi Bohling",
         "India",
         "Peanut Butter Cubes",
         1652,
         93
        ],
        [
         "Oby Sorrel",
         "India",
         "Baker's Choco Chips",
         4991,
         9
        ],
        [
         "Brien Boise",
         "India",
         "Mint Chip Choco",
         2009,
         219
        ],
        [
         "Barr Faughny",
         "UK",
         "After Nines",
         1568,
         141
        ],
        [
         "Carla Molina",
         "New Zealand",
         "Orange Choco",
         3388,
         123
        ],
        [
         "Ram Mahesh",
         "Australia",
         "85% Dark Bars",
         623,
         51
        ],
        [
         "Curtice Advani",
         "Canada",
         "Almond Choco",
         10073,
         120
        ],
        [
         "Brien Boise",
         "UK",
         "Baker's Choco Chips",
         1561,
         27
        ],
        [
         "Husein Augar",
         "Canada",
         "Organic Choco Syrup",
         11522,
         204
        ],
        [
         "Curtice Advani",
         "Australia",
         "Milk Bars",
         2317,
         123
        ],
        [
         "Oby Sorrel",
         "New Zealand",
         "Caramel Stuffed Bars",
         3059,
         27
        ],
        [
         "Carla Molina",
         "New Zealand",
         "Baker's Choco Chips",
         2324,
         177
        ],
        [
         "Gunar Cockshoot",
         "UK",
         "Baker's Choco Chips",
         4956,
         171
        ],
        [
         "Oby Sorrel",
         "India",
         "99% Dark & Pure",
         5355,
         204
        ],
        [
         "Gunar Cockshoot",
         "India",
         "50% Dark Bites",
         7259,
         276
        ],
        [
         "Brien Boise",
         "New Zealand",
         "Baker's Choco Chips",
         6279,
         45
        ],
        [
         "Ram Mahesh",
         "Australia",
         "Manuka Honey Choco",
         2541,
         45
        ],
        [
         "Curtice Advani",
         "USA",
         "Organic Choco Syrup",
         3864,
         177
        ],
        [
         "Gigi Bohling",
         "Canada",
         "Milk Bars",
         6146,
         63
        ],
        [
         "Husein Augar",
         "UK",
         "Drinking Coco",
         2639,
         204
        ],
        [
         "Brien Boise",
         "New Zealand",
         "After Nines",
         1890,
         195
        ],
        [
         "Ches Bonnell",
         "India",
         "50% Dark Bites",
         1932,
         369
        ],
        [
         "Gunar Cockshoot",
         "India",
         "White Choc",
         6300,
         42
        ],
        [
         "Curtice Advani",
         "New Zealand",
         "70% Dark Bites",
         560,
         81
        ],
        [
         "Husein Augar",
         "New Zealand",
         "Baker's Choco Chips",
         2856,
         246
        ],
        [
         "Husein Augar",
         "India",
         "Eclairs",
         707,
         174
        ],
        [
         "Brien Boise",
         "USA",
         "70% Dark Bites",
         3598,
         81
        ],
        [
         "Ram Mahesh",
         "USA",
         "After Nines",
         6853,
         372
        ],
        [
         "Ram Mahesh",
         "USA",
         "Mint Chip Choco",
         4725,
         174
        ],
        [
         "Carla Molina",
         "Canada",
         "Choco Coated Almonds",
         10304,
         84
        ],
        [
         "Carla Molina",
         "India",
         "Mint Chip Choco",
         1274,
         225
        ],
        [
         "Gigi Bohling",
         "Canada",
         "70% Dark Bites",
         1526,
         105
        ],
        [
         "Ram Mahesh",
         "UK",
         "Caramel Stuffed Bars",
         3101,
         225
        ],
        [
         "Barr Faughny",
         "New Zealand",
         "50% Dark Bites",
         1057,
         54
        ],
        [
         "Ches Bonnell",
         "New Zealand",
         "Baker's Choco Chips",
         5306,
         0
        ],
        [
         "Gigi Bohling",
         "UK",
         "85% Dark Bars",
         4018,
         171
        ],
        [
         "Husein Augar",
         "India",
         "Mint Chip Choco",
         938,
         189
        ],
        [
         "Ches Bonnell",
         "Australia",
         "Drinking Coco",
         1778,
         270
        ],
        [
         "Curtice Advani",
         "UK",
         "70% Dark Bites",
         1638,
         63
        ],
        [
         "Carla Molina",
         "Australia",
         "White Choc",
         154,
         21
        ],
        [
         "Ches Bonnell",
         "New Zealand",
         "After Nines",
         9835,
         207
        ],
        [
         "Husein Augar",
         "New Zealand",
         "Orange Choco",
         7273,
         96
        ],
        [
         "Gigi Bohling",
         "UK",
         "After Nines",
         6909,
         81
        ],
        [
         "Husein Augar",
         "UK",
         "85% Dark Bars",
         3920,
         306
        ],
        [
         "Oby Sorrel",
         "UK",
         "Spicy Special Slims",
         4858,
         279
        ],
        [
         "Barr Faughny",
         "Australia",
         "Almond Choco",
         3549,
         3
        ],
        [
         "Ches Bonnell",
         "UK",
         "Organic Choco Syrup",
         966,
         198
        ],
        [
         "Gigi Bohling",
         "UK",
         "Drinking Coco",
         385,
         249
        ],
        [
         "Curtice Advani",
         "India",
         "Mint Chip Choco",
         2219,
         75
        ],
        [
         "Husein Augar",
         "Canada",
         "Choco Coated Almonds",
         2954,
         189
        ],
        [
         "Ches Bonnell",
         "Canada",
         "Choco Coated Almonds",
         280,
         87
        ],
        [
         "Carla Molina",
         "Canada",
         "70% Dark Bites",
         6118,
         174
        ],
        [
         "Barr Faughny",
         "UK",
         "Raspberry Choco",
         4802,
         36
        ],
        [
         "Husein Augar",
         "Australia",
         "85% Dark Bars",
         4137,
         60
        ],
        [
         "Gunar Cockshoot",
         "USA",
         "Fruit & Nut Bars",
         2023,
         78
        ],
        [
         "Husein Augar",
         "Canada",
         "70% Dark Bites",
         9051,
         57
        ],
        [
         "Husein Augar",
         "New Zealand",
         "Caramel Stuffed Bars",
         2919,
         45
        ],
        [
         "Carla Molina",
         "Australia",
         "After Nines",
         5915,
         3
        ],
        [
         "Oby Sorrel",
         "USA",
         "Raspberry Choco",
         2562,
         6
        ],
        [
         "Gigi Bohling",
         "New Zealand",
         "White Choc",
         8813,
         21
        ],
        [
         "Gigi Bohling",
         "Canada",
         "Drinking Coco",
         6111,
         3
        ],
        [
         "Brien Boise",
         "India",
         "Smooth Sliky Salty",
         3507,
         288
        ],
        [
         "Curtice Advani",
         "Canada",
         "Milk Bars",
         4319,
         30
        ],
        [
         "Ram Mahesh",
         "Australia",
         "Baker's Choco Chips",
         609,
         87
        ],
        [
         "Ram Mahesh",
         "UK",
         "Organic Choco Syrup",
         6370,
         30
        ],
        [
         "Gigi Bohling",
         "Australia",
         "99% Dark & Pure",
         5474,
         168
        ],
        [
         "Ram Mahesh",
         "Canada",
         "Organic Choco Syrup",
         3164,
         306
        ],
        [
         "Curtice Advani",
         "USA",
         "Almond Choco",
         1302,
         402
        ],
        [
         "Gunar Cockshoot",
         "New Zealand",
         "Caramel Stuffed Bars",
         7308,
         327
        ],
        [
         "Ram Mahesh",
         "New Zealand",
         "Organic Choco Syrup",
         6132,
         93
        ],
        [
         "Oby Sorrel",
         "USA",
         "50% Dark Bites",
         3472,
         96
        ],
        [
         "Brien Boise",
         "UK",
         "Drinking Coco",
         9660,
         27
        ],
        [
         "Husein Augar",
         "Australia",
         "Baker's Choco Chips",
         2436,
         99
        ],
        [
         "Husein Augar",
         "Australia",
         "Peanut Butter Cubes",
         9506,
         87
        ],
        [
         "Oby Sorrel",
         "New Zealand",
         "Spicy Special Slims",
         245,
         288
        ],
        [
         "Brien Boise",
         "USA",
         "Orange Choco",
         2702,
         363
        ],
        [
         "Oby Sorrel",
         "India",
         "Eclairs",
         700,
         87
        ],
        [
         "Curtice Advani",
         "India",
         "Eclairs",
         3759,
         150
        ],
        [
         "Barr Faughny",
         "USA",
         "Eclairs",
         1589,
         303
        ],
        [
         "Ches Bonnell",
         "USA",
         "Caramel Stuffed Bars",
         5194,
         288
        ],
        [
         "Oby Sorrel",
         "Canada",
         "Milk Bars",
         945,
         75
        ],
        [
         "Ram Mahesh",
         "Australia",
         "Smooth Sliky Salty",
         1988,
         39
        ],
        [
         "Curtice Advani",
         "India",
         "Choco Coated Almonds",
         6734,
         123
        ],
        [
         "Ram Mahesh",
         "Canada",
         "Almond Choco",
         217,
         36
        ],
        [
         "Gigi Bohling",
         "India",
         "After Nines",
         6279,
         237
        ],
        [
         "Ram Mahesh",
         "Canada",
         "Milk Bars",
         4424,
         201
        ],
        [
         "Barr Faughny",
         "Canada",
         "Eclairs",
         189,
         48
        ],
        [
         "Gigi Bohling",
         "USA",
         "After Nines",
         490,
         84
        ],
        [
         "Brien Boise",
         "New Zealand",
         "Spicy Special Slims",
         434,
         87
        ],
        [
         "Ches Bonnell",
         "Australia",
         "70% Dark Bites",
         10129,
         312
        ],
        [
         "Gunar Cockshoot",
         "UK",
         "Caramel Stuffed Bars",
         1652,
         102
        ],
        [
         "Brien Boise",
         "Australia",
         "Spicy Special Slims",
         6433,
         78
        ],
        [
         "Gunar Cockshoot",
         "India",
         "Fruit & Nut Bars",
         2212,
         117
        ],
        [
         "Carla Molina",
         "USA",
         "99% Dark & Pure",
         609,
         99
        ],
        [
         "Ram Mahesh",
         "USA",
         "85% Dark Bars",
         1638,
         48
        ],
        [
         "Ches Bonnell",
         "India",
         "Raspberry Choco",
         3829,
         24
        ],
        [
         "Ram Mahesh",
         "UK",
         "Raspberry Choco",
         5775,
         42
        ],
        [
         "Curtice Advani",
         "USA",
         "Orange Choco",
         1071,
         270
        ],
        [
         "Brien Boise",
         "Canada",
         "Fruit & Nut Bars",
         5019,
         150
        ],
        [
         "Barr Faughny",
         "New Zealand",
         "Raspberry Choco",
         2863,
         42
        ],
        [
         "Ram Mahesh",
         "USA",
         "Manuka Honey Choco",
         1617,
         126
        ],
        [
         "Curtice Advani",
         "New Zealand",
         "Baker's Choco Chips",
         6818,
         6
        ],
        [
         "Gunar Cockshoot",
         "USA",
         "Raspberry Choco",
         6657,
         276
        ],
        [
         "Gunar Cockshoot",
         "India",
         "Eclairs",
         2919,
         93
        ],
        [
         "Barr Faughny",
         "Canada",
         "Smooth Sliky Salty",
         3094,
         246
        ],
        [
         "Curtice Advani",
         "UK",
         "85% Dark Bars",
         2989,
         3
        ],
        [
         "Brien Boise",
         "Australia",
         "Organic Choco Syrup",
         2268,
         63
        ],
        [
         "Gigi Bohling",
         "USA",
         "Smooth Sliky Salty",
         4753,
         246
        ],
        [
         "Barr Faughny",
         "India",
         "99% Dark & Pure",
         7511,
         120
        ],
        [
         "Barr Faughny",
         "Australia",
         "Smooth Sliky Salty",
         4326,
         348
        ],
        [
         "Carla Molina",
         "India",
         "Fruit & Nut Bars",
         4935,
         126
        ],
        [
         "Curtice Advani",
         "USA",
         "70% Dark Bites",
         4781,
         123
        ],
        [
         "Gigi Bohling",
         "Australia",
         "White Choc",
         7483,
         45
        ],
        [
         "Oby Sorrel",
         "Australia",
         "Almond Choco",
         6860,
         126
        ],
        [
         "Ram Mahesh",
         "New Zealand",
         "Manuka Honey Choco",
         9002,
         72
        ],
        [
         "Curtice Advani",
         "Canada",
         "Manuka Honey Choco",
         1400,
         135
        ],
        [
         "Oby Sorrel",
         "India",
         "After Nines",
         4053,
         24
        ],
        [
         "Ches Bonnell",
         "Canada",
         "Smooth Sliky Salty",
         2149,
         117
        ],
        [
         "Gunar Cockshoot",
         "UK",
         "Manuka Honey Choco",
         3640,
         51
        ],
        [
         "Barr Faughny",
         "UK",
         "Fruit & Nut Bars",
         630,
         36
        ],
        [
         "Husein Augar",
         "USA",
         "Organic Choco Syrup",
         2429,
         144
        ],
        [
         "Husein Augar",
         "Canada",
         "White Choc",
         2142,
         114
        ],
        [
         "Ches Bonnell",
         "New Zealand",
         "70% Dark Bites",
         6454,
         54
        ],
        [
         "Ches Bonnell",
         "New Zealand",
         "Mint Chip Choco",
         4487,
         333
        ],
        [
         "Gunar Cockshoot",
         "New Zealand",
         "Almond Choco",
         938,
         366
        ],
        [
         "Gunar Cockshoot",
         "Australia",
         "Baker's Choco Chips",
         8841,
         303
        ],
        [
         "Barr Faughny",
         "UK",
         "Peanut Butter Cubes",
         4018,
         126
        ],
        [
         "Carla Molina",
         "New Zealand",
         "Raspberry Choco",
         714,
         231
        ],
        [
         "Husein Augar",
         "Australia",
         "White Choc",
         3850,
         102
        ]
       ],
       "datasetInfos": [],
       "dbfsResultPath": null,
       "isJsonSchema": true,
       "metadata": {},
       "overflow": false,
       "plotOptions": {
        "customPlotOptions": {},
        "displayType": "table",
        "pivotAggregation": null,
        "pivotColumns": null,
        "xColumns": null,
        "yColumns": null
       },
       "removedWidgets": [],
       "schema": [
        {
         "metadata": "{}",
         "name": "sales_person",
         "type": "\"string\""
        },
        {
         "metadata": "{}",
         "name": "geography",
         "type": "\"string\""
        },
        {
         "metadata": "{}",
         "name": "product_name",
         "type": "\"string\""
        },
        {
         "metadata": "{}",
         "name": "amount",
         "type": "\"integer\""
        },
        {
         "metadata": "{}",
         "name": "units",
         "type": "\"integer\""
        }
       ],
       "type": "table"
      }
     },
     "output_type": "display_data"
    }
   ],
   "source": [
    "bronze_df.display()"
   ]
  },
  {
   "cell_type": "code",
   "execution_count": 0,
   "metadata": {
    "application/vnd.databricks.v1+cell": {
     "cellMetadata": {
      "byteLimit": 2048000,
      "rowLimit": 10000
     },
     "inputWidgets": {},
     "nuid": "268bdcfe-98f8-48d6-a9e0-e08fee383ef8",
     "showTitle": false,
     "tableResultSettingsMap": {},
     "title": ""
    }
   },
   "outputs": [],
   "source": [
    "bronze_df.write.format(\"delta\").mode(\"overwrite\").save(\"/Volumes/sales_catalog/sales_schema/sales_volume/bronze/sales_data/\")"
   ]
  },
  {
   "cell_type": "markdown",
   "metadata": {
    "application/vnd.databricks.v1+cell": {
     "cellMetadata": {},
     "inputWidgets": {},
     "nuid": "2c961249-1c4a-47ef-b8a9-27a197aa794a",
     "showTitle": false,
     "tableResultSettingsMap": {},
     "title": ""
    }
   },
   "source": [
    "# Silver"
   ]
  },
  {
   "cell_type": "code",
   "execution_count": 0,
   "metadata": {
    "application/vnd.databricks.v1+cell": {
     "cellMetadata": {
      "byteLimit": 2048000,
      "rowLimit": 10000
     },
     "inputWidgets": {},
     "nuid": "cac25481-a024-4d21-8174-9f840ce99a6c",
     "showTitle": false,
     "tableResultSettingsMap": {},
     "title": ""
    }
   },
   "outputs": [
    {
     "output_type": "display_data",
     "data": {
      "text/html": [
       "<style scoped>\n",
       "  .table-result-container {\n",
       "    max-height: 300px;\n",
       "    overflow: auto;\n",
       "  }\n",
       "  table, th, td {\n",
       "    border: 1px solid black;\n",
       "    border-collapse: collapse;\n",
       "  }\n",
       "  th, td {\n",
       "    padding: 5px;\n",
       "  }\n",
       "  th {\n",
       "    text-align: left;\n",
       "  }\n",
       "</style><div class='table-result-container'><table class='table-result'><thead style='background-color: white'><tr><th>sales_person</th><th>geography</th><th>product_name</th><th>amount</th><th>units</th></tr></thead><tbody><tr><td>Ram Mahesh</td><td>New Zealand</td><td>70% Dark Bites</td><td>1624</td><td>114</td></tr><tr><td>Brien Boise</td><td>USA</td><td>Choco Coated Almonds</td><td>6706</td><td>459</td></tr><tr><td>Husein Augar</td><td>USA</td><td>Almond Choco</td><td>959</td><td>147</td></tr><tr><td>Carla Molina</td><td>Canada</td><td>Drinking Coco</td><td>9632</td><td>288</td></tr><tr><td>Curtice Advani</td><td>UK</td><td>White Choc</td><td>2100</td><td>414</td></tr><tr><td>Ram Mahesh</td><td>USA</td><td>Peanut Butter Cubes</td><td>8869</td><td>432</td></tr><tr><td>Curtice Advani</td><td>Australia</td><td>Smooth Sliky Salty</td><td>2681</td><td>54</td></tr><tr><td>Brien Boise</td><td>USA</td><td>After Nines</td><td>5012</td><td>210</td></tr><tr><td>Ches Bonnell</td><td>Australia</td><td>50% Dark Bites</td><td>1281</td><td>75</td></tr><tr><td>Gigi Bohling</td><td>New Zealand</td><td>50% Dark Bites</td><td>4991</td><td>12</td></tr><tr><td>Barr Faughny</td><td>UK</td><td>White Choc</td><td>1785</td><td>462</td></tr><tr><td>Gunar Cockshoot</td><td>New Zealand</td><td>Eclairs</td><td>3983</td><td>144</td></tr><tr><td>Husein Augar</td><td>Australia</td><td>Mint Chip Choco</td><td>2646</td><td>120</td></tr><tr><td>Barr Faughny</td><td>India</td><td>Milk Bars</td><td>252</td><td>54</td></tr><tr><td>Gunar Cockshoot</td><td>USA</td><td>White Choc</td><td>2464</td><td>234</td></tr><tr><td>Gunar Cockshoot</td><td>USA</td><td>Manuka Honey Choco</td><td>2114</td><td>66</td></tr><tr><td>Curtice Advani</td><td>New Zealand</td><td>Smooth Sliky Salty</td><td>7693</td><td>87</td></tr><tr><td>Gigi Bohling</td><td>India</td><td>Orange Choco</td><td>15610</td><td>339</td></tr><tr><td>Carla Molina</td><td>India</td><td>After Nines</td><td>336</td><td>144</td></tr><tr><td>Barr Faughny</td><td>UK</td><td>Orange Choco</td><td>9443</td><td>162</td></tr><tr><td>Husein Augar</td><td>India</td><td>Fruit & Nut Bars</td><td>8155</td><td>90</td></tr><tr><td>Brien Boise</td><td>Australia</td><td>Fruit & Nut Bars</td><td>1701</td><td>234</td></tr><tr><td>Oby Sorrel</td><td>Australia</td><td>After Nines</td><td>2205</td><td>141</td></tr><tr><td>Brien Boise</td><td>New Zealand</td><td>99% Dark & Pure</td><td>1771</td><td>204</td></tr><tr><td>Carla Molina</td><td>USA</td><td>Raspberry Choco</td><td>2114</td><td>186</td></tr><tr><td>Carla Molina</td><td>Canada</td><td>Milk Bars</td><td>10311</td><td>231</td></tr><tr><td>Gunar Cockshoot</td><td>UK</td><td>Mint Chip Choco</td><td>21</td><td>168</td></tr><tr><td>Oby Sorrel</td><td>USA</td><td>Orange Choco</td><td>1974</td><td>195</td></tr><tr><td>Gigi Bohling</td><td>Canada</td><td>Fruit & Nut Bars</td><td>6314</td><td>15</td></tr><tr><td>Oby Sorrel</td><td>New Zealand</td><td>Fruit & Nut Bars</td><td>4683</td><td>30</td></tr><tr><td>Carla Molina</td><td>New Zealand</td><td>85% Dark Bars</td><td>6398</td><td>102</td></tr><tr><td>Barr Faughny</td><td>USA</td><td>99% Dark & Pure</td><td>553</td><td>15</td></tr><tr><td>Brien Boise</td><td>UK</td><td>70% Dark Bites</td><td>7021</td><td>183</td></tr><tr><td>Ram Mahesh</td><td>UK</td><td>After Nines</td><td>5817</td><td>12</td></tr><tr><td>Carla Molina</td><td>UK</td><td>50% Dark Bites</td><td>3976</td><td>72</td></tr><tr><td>Curtice Advani</td><td>Australia</td><td>Organic Choco Syrup</td><td>1134</td><td>282</td></tr><tr><td>Barr Faughny</td><td>UK</td><td>Caramel Stuffed Bars</td><td>6027</td><td>144</td></tr><tr><td>Curtice Advani</td><td>New Zealand</td><td>Mint Chip Choco</td><td>1904</td><td>405</td></tr><tr><td>Ches Bonnell</td><td>India</td><td>Choco Coated Almonds</td><td>3262</td><td>75</td></tr><tr><td>Ram Mahesh</td><td>India</td><td>Organic Choco Syrup</td><td>2289</td><td>135</td></tr><tr><td>Gigi Bohling</td><td>India</td><td>Organic Choco Syrup</td><td>6986</td><td>21</td></tr><tr><td>Barr Faughny</td><td>Australia</td><td>Fruit & Nut Bars</td><td>4417</td><td>153</td></tr><tr><td>Curtice Advani</td><td>India</td><td>Raspberry Choco</td><td>1442</td><td>15</td></tr><tr><td>Gunar Cockshoot</td><td>USA</td><td>50% Dark Bites</td><td>2415</td><td>255</td></tr><tr><td>Barr Faughny</td><td>New Zealand</td><td>99% Dark & Pure</td><td>238</td><td>18</td></tr><tr><td>Curtice Advani</td><td>New Zealand</td><td>Fruit & Nut Bars</td><td>4949</td><td>189</td></tr><tr><td>Gigi Bohling</td><td>Australia</td><td>Choco Coated Almonds</td><td>5075</td><td>21</td></tr><tr><td>Gunar Cockshoot</td><td>Canada</td><td>Mint Chip Choco</td><td>9198</td><td>36</td></tr><tr><td>Curtice Advani</td><td>India</td><td>Manuka Honey Choco</td><td>3339</td><td>75</td></tr><tr><td>Ram Mahesh</td><td>India</td><td>Eclairs</td><td>5019</td><td>156</td></tr><tr><td>Gigi Bohling</td><td>Canada</td><td>Mint Chip Choco</td><td>16184</td><td>39</td></tr><tr><td>Curtice Advani</td><td>Canada</td><td>Spicy Special Slims</td><td>497</td><td>63</td></tr><tr><td>Barr Faughny</td><td>Canada</td><td>Manuka Honey Choco</td><td>8211</td><td>75</td></tr><tr><td>Barr Faughny</td><td>Australia</td><td>Caramel Stuffed Bars</td><td>6580</td><td>183</td></tr><tr><td>Carla Molina</td><td>USA</td><td>Milk Bars</td><td>4760</td><td>69</td></tr><tr><td>Ram Mahesh</td><td>Canada</td><td>White Choc</td><td>5439</td><td>30</td></tr><tr><td>Carla Molina</td><td>India</td><td>Eclairs</td><td>1463</td><td>39</td></tr><tr><td>Gunar Cockshoot</td><td>India</td><td>Choco Coated Almonds</td><td>7777</td><td>504</td></tr><tr><td>Husein Augar</td><td>New Zealand</td><td>Manuka Honey Choco</td><td>1085</td><td>273</td></tr><tr><td>Gigi Bohling</td><td>New Zealand</td><td>Smooth Sliky Salty</td><td>182</td><td>48</td></tr><tr><td>Curtice Advani</td><td>India</td><td>Organic Choco Syrup</td><td>4242</td><td>207</td></tr><tr><td>Curtice Advani</td><td>Canada</td><td>Choco Coated Almonds</td><td>6118</td><td>9</td></tr><tr><td>Oby Sorrel</td><td>Canada</td><td>Fruit & Nut Bars</td><td>2317</td><td>261</td></tr><tr><td>Curtice Advani</td><td>Australia</td><td>Mint Chip Choco</td><td>938</td><td>6</td></tr><tr><td>Brien Boise</td><td>New Zealand</td><td>Raspberry Choco</td><td>9709</td><td>30</td></tr><tr><td>Ches Bonnell</td><td>India</td><td>Orange Choco</td><td>2205</td><td>138</td></tr><tr><td>Ches Bonnell</td><td>New Zealand</td><td>Eclairs</td><td>4487</td><td>111</td></tr><tr><td>Gigi Bohling</td><td>USA</td><td>Drinking Coco</td><td>2415</td><td>15</td></tr><tr><td>Ram Mahesh</td><td>India</td><td>99% Dark & Pure</td><td>4018</td><td>162</td></tr><tr><td>Gigi Bohling</td><td>India</td><td>99% Dark & Pure</td><td>861</td><td>195</td></tr><tr><td>Oby Sorrel</td><td>Australia</td><td>50% Dark Bites</td><td>5586</td><td>525</td></tr><tr><td>Ches Bonnell</td><td>India</td><td>Peanut Butter Cubes</td><td>2226</td><td>48</td></tr><tr><td>Husein Augar</td><td>India</td><td>Caramel Stuffed Bars</td><td>14329</td><td>150</td></tr><tr><td>Husein Augar</td><td>India</td><td>Orange Choco</td><td>8463</td><td>492</td></tr><tr><td>Gigi Bohling</td><td>India</td><td>Manuka Honey Choco</td><td>2891</td><td>102</td></tr><tr><td>Gunar Cockshoot</td><td>Canada</td><td>Fruit & Nut Bars</td><td>3773</td><td>165</td></tr><tr><td>Carla Molina</td><td>Canada</td><td>Caramel Stuffed Bars</td><td>854</td><td>309</td></tr><tr><td>Curtice Advani</td><td>Canada</td><td>Eclairs</td><td>4970</td><td>156</td></tr><tr><td>Husein Augar</td><td>USA</td><td>Baker's Choco Chips</td><td>98</td><td>159</td></tr><tr><td>Gigi Bohling</td><td>USA</td><td>Raspberry Choco</td><td>13391</td><td>201</td></tr><tr><td>Brien Boise</td><td>UK</td><td>Smooth Sliky Salty</td><td>8890</td><td>210</td></tr><tr><td>Barr Faughny</td><td>Australia</td><td>Milk Bars</td><td>56</td><td>51</td></tr><tr><td>Gunar Cockshoot</td><td>Canada</td><td>White Choc</td><td>3339</td><td>39</td></tr><tr><td>Oby Sorrel</td><td>USA</td><td>Drinking Coco</td><td>3808</td><td>279</td></tr><tr><td>Oby Sorrel</td><td>Australia</td><td>Milk Bars</td><td>63</td><td>123</td></tr><tr><td>Barr Faughny</td><td>UK</td><td>Organic Choco Syrup</td><td>7812</td><td>81</td></tr><tr><td>Ram Mahesh</td><td>New Zealand</td><td>99% Dark & Pure</td><td>7693</td><td>21</td></tr><tr><td>Gunar Cockshoot</td><td>Canada</td><td>Caramel Stuffed Bars</td><td>973</td><td>162</td></tr><tr><td>Oby Sorrel</td><td>USA</td><td>Spicy Special Slims</td><td>567</td><td>228</td></tr><tr><td>Oby Sorrel</td><td>Canada</td><td>Manuka Honey Choco</td><td>2471</td><td>342</td></tr><tr><td>Gigi Bohling</td><td>Australia</td><td>Milk Bars</td><td>7189</td><td>54</td></tr><tr><td>Carla Molina</td><td>USA</td><td>Caramel Stuffed Bars</td><td>7455</td><td>216</td></tr><tr><td>Gunar Cockshoot</td><td>India</td><td>Baker's Choco Chips</td><td>3108</td><td>54</td></tr><tr><td>Curtice Advani</td><td>Australia</td><td>White Choc</td><td>469</td><td>75</td></tr><tr><td>Husein Augar</td><td>New Zealand</td><td>Fruit & Nut Bars</td><td>2737</td><td>93</td></tr><tr><td>Husein Augar</td><td>New Zealand</td><td>White Choc</td><td>4305</td><td>156</td></tr><tr><td>Husein Augar</td><td>Australia</td><td>Eclairs</td><td>2408</td><td>9</td></tr><tr><td>Gunar Cockshoot</td><td>Canada</td><td>99% Dark & Pure</td><td>1281</td><td>18</td></tr><tr><td>Ram Mahesh</td><td>USA</td><td>Choco Coated Almonds</td><td>12348</td><td>234</td></tr><tr><td>Gunar Cockshoot</td><td>India</td><td>Caramel Stuffed Bars</td><td>3689</td><td>312</td></tr><tr><td>Ches Bonnell</td><td>Canada</td><td>99% Dark & Pure</td><td>2870</td><td>300</td></tr><tr><td>Barr Faughny</td><td>Canada</td><td>Organic Choco Syrup</td><td>798</td><td>519</td></tr><tr><td>Carla Molina</td><td>New Zealand</td><td>Spicy Special Slims</td><td>2933</td><td>9</td></tr><tr><td>Gigi Bohling</td><td>USA</td><td>Almond Choco</td><td>2744</td><td>9</td></tr><tr><td>Ram Mahesh</td><td>Canada</td><td>Peanut Butter Cubes</td><td>9772</td><td>90</td></tr><tr><td>Ches Bonnell</td><td>India</td><td>White Choc</td><td>1568</td><td>96</td></tr><tr><td>Barr Faughny</td><td>Canada</td><td>Mint Chip Choco</td><td>11417</td><td>21</td></tr><tr><td>Ram Mahesh</td><td>India</td><td>Baker's Choco Chips</td><td>6748</td><td>48</td></tr><tr><td>Oby Sorrel</td><td>Canada</td><td>Organic Choco Syrup</td><td>1407</td><td>72</td></tr><tr><td>Brien Boise</td><td>USA</td><td>Manuka Honey Choco</td><td>2023</td><td>168</td></tr><tr><td>Gigi Bohling</td><td>UK</td><td>Baker's Choco Chips</td><td>5236</td><td>51</td></tr><tr><td>Carla Molina</td><td>Canada</td><td>99% Dark & Pure</td><td>1925</td><td>192</td></tr><tr><td>Ches Bonnell</td><td>New Zealand</td><td>50% Dark Bites</td><td>6608</td><td>225</td></tr><tr><td>Curtice Advani</td><td>India</td><td>Baker's Choco Chips</td><td>8008</td><td>456</td></tr><tr><td>Oby Sorrel</td><td>India</td><td>White Choc</td><td>1428</td><td>93</td></tr><tr><td>Curtice Advani</td><td>India</td><td>Almond Choco</td><td>525</td><td>48</td></tr><tr><td>Curtice Advani</td><td>New Zealand</td><td>Drinking Coco</td><td>1505</td><td>102</td></tr><tr><td>Ches Bonnell</td><td>USA</td><td>70% Dark Bites</td><td>6755</td><td>252</td></tr><tr><td>Barr Faughny</td><td>New Zealand</td><td>Drinking Coco</td><td>11571</td><td>138</td></tr><tr><td>Ram Mahesh</td><td>Australia</td><td>White Choc</td><td>2541</td><td>90</td></tr><tr><td>Carla Molina</td><td>New Zealand</td><td>70% Dark Bites</td><td>1526</td><td>240</td></tr><tr><td>Ram Mahesh</td><td>Australia</td><td>Almond Choco</td><td>6125</td><td>102</td></tr><tr><td>Carla Molina</td><td>USA</td><td>Organic Choco Syrup</td><td>847</td><td>129</td></tr><tr><td>Brien Boise</td><td>USA</td><td>Organic Choco Syrup</td><td>4753</td><td>300</td></tr><tr><td>Curtice Advani</td><td>Australia</td><td>Peanut Butter Cubes</td><td>959</td><td>135</td></tr><tr><td>Ches Bonnell</td><td>USA</td><td>85% Dark Bars</td><td>2793</td><td>114</td></tr><tr><td>Ches Bonnell</td><td>USA</td><td>50% Dark Bites</td><td>4606</td><td>63</td></tr><tr><td>Ches Bonnell</td><td>Canada</td><td>Manuka Honey Choco</td><td>5551</td><td>252</td></tr><tr><td>Oby Sorrel</td><td>Canada</td><td>Choco Coated Almonds</td><td>6657</td><td>303</td></tr><tr><td>Ches Bonnell</td><td>UK</td><td>Eclairs</td><td>4438</td><td>246</td></tr><tr><td>Brien Boise</td><td>Australia</td><td>After Nines</td><td>168</td><td>84</td></tr><tr><td>Ches Bonnell</td><td>India</td><td>Eclairs</td><td>7777</td><td>39</td></tr><tr><td>Gigi Bohling</td><td>Canada</td><td>Eclairs</td><td>3339</td><td>348</td></tr><tr><td>Ches Bonnell</td><td>New Zealand</td><td>Peanut Butter Cubes</td><td>6391</td><td>48</td></tr><tr><td>Gigi Bohling</td><td>New Zealand</td><td>After Nines</td><td>518</td><td>75</td></tr><tr><td>Ches Bonnell</td><td>Australia</td><td>Caramel Stuffed Bars</td><td>5677</td><td>258</td></tr><tr><td>Curtice Advani</td><td>UK</td><td>Eclairs</td><td>6048</td><td>27</td></tr><tr><td>Brien Boise</td><td>Australia</td><td>Choco Coated Almonds</td><td>3752</td><td>213</td></tr><tr><td>Gigi Bohling</td><td>USA</td><td>Manuka Honey Choco</td><td>4480</td><td>357</td></tr><tr><td>Husein Augar</td><td>New Zealand</td><td>Almond Choco</td><td>259</td><td>207</td></tr><tr><td>Brien Boise</td><td>New Zealand</td><td>70% Dark Bites</td><td>42</td><td>150</td></tr><tr><td>Carla Molina</td><td>Canada</td><td>Baker's Choco Chips</td><td>98</td><td>204</td></tr><tr><td>Ches Bonnell</td><td>USA</td><td>Organic Choco Syrup</td><td>2478</td><td>21</td></tr><tr><td>Carla Molina</td><td>India</td><td>Peanut Butter Cubes</td><td>7847</td><td>174</td></tr><tr><td>Barr Faughny</td><td>New Zealand</td><td>Eclairs</td><td>9926</td><td>201</td></tr><tr><td>Brien Boise</td><td>Australia</td><td>Milk Bars</td><td>819</td><td>510</td></tr><tr><td>Curtice Advani</td><td>UK</td><td>Manuka Honey Choco</td><td>3052</td><td>378</td></tr><tr><td>Husein Augar</td><td>India</td><td>Spicy Special Slims</td><td>6832</td><td>27</td></tr><tr><td>Barr Faughny</td><td>UK</td><td>Mint Chip Choco</td><td>2016</td><td>117</td></tr><tr><td>Curtice Advani</td><td>Australia</td><td>Spicy Special Slims</td><td>7322</td><td>36</td></tr><tr><td>Brien Boise</td><td>USA</td><td>Peanut Butter Cubes</td><td>357</td><td>126</td></tr><tr><td>Husein Augar</td><td>UK</td><td>White Choc</td><td>3192</td><td>72</td></tr><tr><td>Ches Bonnell</td><td>Canada</td><td>After Nines</td><td>8435</td><td>42</td></tr><tr><td>Ram Mahesh</td><td>UK</td><td>Manuka Honey Choco</td><td>0</td><td>135</td></tr><tr><td>Ches Bonnell</td><td>India</td><td>85% Dark Bars</td><td>8862</td><td>189</td></tr><tr><td>Curtice Advani</td><td>New Zealand</td><td>Caramel Stuffed Bars</td><td>3556</td><td>459</td></tr><tr><td>Gigi Bohling</td><td>India</td><td>Raspberry Choco</td><td>7280</td><td>201</td></tr><tr><td>Curtice Advani</td><td>India</td><td>70% Dark Bites</td><td>3402</td><td>366</td></tr><tr><td>Gunar Cockshoot</td><td>New Zealand</td><td>Manuka Honey Choco</td><td>4592</td><td>324</td></tr><tr><td>Husein Augar</td><td>USA</td><td>Raspberry Choco</td><td>7833</td><td>243</td></tr><tr><td>Barr Faughny</td><td>UK</td><td>Spicy Special Slims</td><td>7651</td><td>213</td></tr><tr><td>Ram Mahesh</td><td>USA</td><td>70% Dark Bites</td><td>2275</td><td>447</td></tr><tr><td>Ram Mahesh</td><td>Australia</td><td>Milk Bars</td><td>5670</td><td>297</td></tr><tr><td>Ches Bonnell</td><td>USA</td><td>Mint Chip Choco</td><td>2135</td><td>27</td></tr><tr><td>Ram Mahesh</td><td>India</td><td>Fruit & Nut Bars</td><td>2779</td><td>75</td></tr><tr><td>Oby Sorrel</td><td>UK</td><td>Peanut Butter Cubes</td><td>12950</td><td>30</td></tr><tr><td>Ches Bonnell</td><td>Canada</td><td>Drinking Coco</td><td>2646</td><td>177</td></tr><tr><td>Ram Mahesh</td><td>India</td><td>Peanut Butter Cubes</td><td>3794</td><td>159</td></tr><tr><td>Gunar Cockshoot</td><td>USA</td><td>Peanut Butter Cubes</td><td>819</td><td>306</td></tr><tr><td>Gunar Cockshoot</td><td>India</td><td>Orange Choco</td><td>2583</td><td>18</td></tr><tr><td>Ches Bonnell</td><td>USA</td><td>99% Dark & Pure</td><td>4585</td><td>240</td></tr><tr><td>Gigi Bohling</td><td>India</td><td>Peanut Butter Cubes</td><td>1652</td><td>93</td></tr><tr><td>Oby Sorrel</td><td>India</td><td>Baker's Choco Chips</td><td>4991</td><td>9</td></tr><tr><td>Brien Boise</td><td>India</td><td>Mint Chip Choco</td><td>2009</td><td>219</td></tr><tr><td>Barr Faughny</td><td>UK</td><td>After Nines</td><td>1568</td><td>141</td></tr><tr><td>Carla Molina</td><td>New Zealand</td><td>Orange Choco</td><td>3388</td><td>123</td></tr><tr><td>Ram Mahesh</td><td>Australia</td><td>85% Dark Bars</td><td>623</td><td>51</td></tr><tr><td>Curtice Advani</td><td>Canada</td><td>Almond Choco</td><td>10073</td><td>120</td></tr><tr><td>Brien Boise</td><td>UK</td><td>Baker's Choco Chips</td><td>1561</td><td>27</td></tr><tr><td>Husein Augar</td><td>Canada</td><td>Organic Choco Syrup</td><td>11522</td><td>204</td></tr><tr><td>Curtice Advani</td><td>Australia</td><td>Milk Bars</td><td>2317</td><td>123</td></tr><tr><td>Oby Sorrel</td><td>New Zealand</td><td>Caramel Stuffed Bars</td><td>3059</td><td>27</td></tr><tr><td>Carla Molina</td><td>New Zealand</td><td>Baker's Choco Chips</td><td>2324</td><td>177</td></tr><tr><td>Gunar Cockshoot</td><td>UK</td><td>Baker's Choco Chips</td><td>4956</td><td>171</td></tr><tr><td>Oby Sorrel</td><td>India</td><td>99% Dark & Pure</td><td>5355</td><td>204</td></tr><tr><td>Gunar Cockshoot</td><td>India</td><td>50% Dark Bites</td><td>7259</td><td>276</td></tr><tr><td>Brien Boise</td><td>New Zealand</td><td>Baker's Choco Chips</td><td>6279</td><td>45</td></tr><tr><td>Ram Mahesh</td><td>Australia</td><td>Manuka Honey Choco</td><td>2541</td><td>45</td></tr><tr><td>Curtice Advani</td><td>USA</td><td>Organic Choco Syrup</td><td>3864</td><td>177</td></tr><tr><td>Gigi Bohling</td><td>Canada</td><td>Milk Bars</td><td>6146</td><td>63</td></tr><tr><td>Husein Augar</td><td>UK</td><td>Drinking Coco</td><td>2639</td><td>204</td></tr><tr><td>Brien Boise</td><td>New Zealand</td><td>After Nines</td><td>1890</td><td>195</td></tr><tr><td>Ches Bonnell</td><td>India</td><td>50% Dark Bites</td><td>1932</td><td>369</td></tr><tr><td>Gunar Cockshoot</td><td>India</td><td>White Choc</td><td>6300</td><td>42</td></tr><tr><td>Curtice Advani</td><td>New Zealand</td><td>70% Dark Bites</td><td>560</td><td>81</td></tr><tr><td>Husein Augar</td><td>New Zealand</td><td>Baker's Choco Chips</td><td>2856</td><td>246</td></tr><tr><td>Husein Augar</td><td>India</td><td>Eclairs</td><td>707</td><td>174</td></tr><tr><td>Brien Boise</td><td>USA</td><td>70% Dark Bites</td><td>3598</td><td>81</td></tr><tr><td>Ram Mahesh</td><td>USA</td><td>After Nines</td><td>6853</td><td>372</td></tr><tr><td>Ram Mahesh</td><td>USA</td><td>Mint Chip Choco</td><td>4725</td><td>174</td></tr><tr><td>Carla Molina</td><td>Canada</td><td>Choco Coated Almonds</td><td>10304</td><td>84</td></tr><tr><td>Carla Molina</td><td>India</td><td>Mint Chip Choco</td><td>1274</td><td>225</td></tr><tr><td>Gigi Bohling</td><td>Canada</td><td>70% Dark Bites</td><td>1526</td><td>105</td></tr><tr><td>Ram Mahesh</td><td>UK</td><td>Caramel Stuffed Bars</td><td>3101</td><td>225</td></tr><tr><td>Barr Faughny</td><td>New Zealand</td><td>50% Dark Bites</td><td>1057</td><td>54</td></tr><tr><td>Ches Bonnell</td><td>New Zealand</td><td>Baker's Choco Chips</td><td>5306</td><td>0</td></tr><tr><td>Gigi Bohling</td><td>UK</td><td>85% Dark Bars</td><td>4018</td><td>171</td></tr><tr><td>Husein Augar</td><td>India</td><td>Mint Chip Choco</td><td>938</td><td>189</td></tr><tr><td>Ches Bonnell</td><td>Australia</td><td>Drinking Coco</td><td>1778</td><td>270</td></tr><tr><td>Curtice Advani</td><td>UK</td><td>70% Dark Bites</td><td>1638</td><td>63</td></tr><tr><td>Carla Molina</td><td>Australia</td><td>White Choc</td><td>154</td><td>21</td></tr><tr><td>Ches Bonnell</td><td>New Zealand</td><td>After Nines</td><td>9835</td><td>207</td></tr><tr><td>Husein Augar</td><td>New Zealand</td><td>Orange Choco</td><td>7273</td><td>96</td></tr><tr><td>Gigi Bohling</td><td>UK</td><td>After Nines</td><td>6909</td><td>81</td></tr><tr><td>Husein Augar</td><td>UK</td><td>85% Dark Bars</td><td>3920</td><td>306</td></tr><tr><td>Oby Sorrel</td><td>UK</td><td>Spicy Special Slims</td><td>4858</td><td>279</td></tr><tr><td>Barr Faughny</td><td>Australia</td><td>Almond Choco</td><td>3549</td><td>3</td></tr><tr><td>Ches Bonnell</td><td>UK</td><td>Organic Choco Syrup</td><td>966</td><td>198</td></tr><tr><td>Gigi Bohling</td><td>UK</td><td>Drinking Coco</td><td>385</td><td>249</td></tr><tr><td>Curtice Advani</td><td>India</td><td>Mint Chip Choco</td><td>2219</td><td>75</td></tr><tr><td>Husein Augar</td><td>Canada</td><td>Choco Coated Almonds</td><td>2954</td><td>189</td></tr><tr><td>Ches Bonnell</td><td>Canada</td><td>Choco Coated Almonds</td><td>280</td><td>87</td></tr><tr><td>Carla Molina</td><td>Canada</td><td>70% Dark Bites</td><td>6118</td><td>174</td></tr><tr><td>Barr Faughny</td><td>UK</td><td>Raspberry Choco</td><td>4802</td><td>36</td></tr><tr><td>Husein Augar</td><td>Australia</td><td>85% Dark Bars</td><td>4137</td><td>60</td></tr><tr><td>Gunar Cockshoot</td><td>USA</td><td>Fruit & Nut Bars</td><td>2023</td><td>78</td></tr><tr><td>Husein Augar</td><td>Canada</td><td>70% Dark Bites</td><td>9051</td><td>57</td></tr><tr><td>Husein Augar</td><td>New Zealand</td><td>Caramel Stuffed Bars</td><td>2919</td><td>45</td></tr><tr><td>Carla Molina</td><td>Australia</td><td>After Nines</td><td>5915</td><td>3</td></tr><tr><td>Oby Sorrel</td><td>USA</td><td>Raspberry Choco</td><td>2562</td><td>6</td></tr><tr><td>Gigi Bohling</td><td>New Zealand</td><td>White Choc</td><td>8813</td><td>21</td></tr><tr><td>Gigi Bohling</td><td>Canada</td><td>Drinking Coco</td><td>6111</td><td>3</td></tr><tr><td>Brien Boise</td><td>India</td><td>Smooth Sliky Salty</td><td>3507</td><td>288</td></tr><tr><td>Curtice Advani</td><td>Canada</td><td>Milk Bars</td><td>4319</td><td>30</td></tr><tr><td>Ram Mahesh</td><td>Australia</td><td>Baker's Choco Chips</td><td>609</td><td>87</td></tr><tr><td>Ram Mahesh</td><td>UK</td><td>Organic Choco Syrup</td><td>6370</td><td>30</td></tr><tr><td>Gigi Bohling</td><td>Australia</td><td>99% Dark & Pure</td><td>5474</td><td>168</td></tr><tr><td>Ram Mahesh</td><td>Canada</td><td>Organic Choco Syrup</td><td>3164</td><td>306</td></tr><tr><td>Curtice Advani</td><td>USA</td><td>Almond Choco</td><td>1302</td><td>402</td></tr><tr><td>Gunar Cockshoot</td><td>New Zealand</td><td>Caramel Stuffed Bars</td><td>7308</td><td>327</td></tr><tr><td>Ram Mahesh</td><td>New Zealand</td><td>Organic Choco Syrup</td><td>6132</td><td>93</td></tr><tr><td>Oby Sorrel</td><td>USA</td><td>50% Dark Bites</td><td>3472</td><td>96</td></tr><tr><td>Brien Boise</td><td>UK</td><td>Drinking Coco</td><td>9660</td><td>27</td></tr><tr><td>Husein Augar</td><td>Australia</td><td>Baker's Choco Chips</td><td>2436</td><td>99</td></tr><tr><td>Husein Augar</td><td>Australia</td><td>Peanut Butter Cubes</td><td>9506</td><td>87</td></tr><tr><td>Oby Sorrel</td><td>New Zealand</td><td>Spicy Special Slims</td><td>245</td><td>288</td></tr><tr><td>Brien Boise</td><td>USA</td><td>Orange Choco</td><td>2702</td><td>363</td></tr><tr><td>Oby Sorrel</td><td>India</td><td>Eclairs</td><td>700</td><td>87</td></tr><tr><td>Curtice Advani</td><td>India</td><td>Eclairs</td><td>3759</td><td>150</td></tr><tr><td>Barr Faughny</td><td>USA</td><td>Eclairs</td><td>1589</td><td>303</td></tr><tr><td>Ches Bonnell</td><td>USA</td><td>Caramel Stuffed Bars</td><td>5194</td><td>288</td></tr><tr><td>Oby Sorrel</td><td>Canada</td><td>Milk Bars</td><td>945</td><td>75</td></tr><tr><td>Ram Mahesh</td><td>Australia</td><td>Smooth Sliky Salty</td><td>1988</td><td>39</td></tr><tr><td>Curtice Advani</td><td>India</td><td>Choco Coated Almonds</td><td>6734</td><td>123</td></tr><tr><td>Ram Mahesh</td><td>Canada</td><td>Almond Choco</td><td>217</td><td>36</td></tr><tr><td>Gigi Bohling</td><td>India</td><td>After Nines</td><td>6279</td><td>237</td></tr><tr><td>Ram Mahesh</td><td>Canada</td><td>Milk Bars</td><td>4424</td><td>201</td></tr><tr><td>Barr Faughny</td><td>Canada</td><td>Eclairs</td><td>189</td><td>48</td></tr><tr><td>Gigi Bohling</td><td>USA</td><td>After Nines</td><td>490</td><td>84</td></tr><tr><td>Brien Boise</td><td>New Zealand</td><td>Spicy Special Slims</td><td>434</td><td>87</td></tr><tr><td>Ches Bonnell</td><td>Australia</td><td>70% Dark Bites</td><td>10129</td><td>312</td></tr><tr><td>Gunar Cockshoot</td><td>UK</td><td>Caramel Stuffed Bars</td><td>1652</td><td>102</td></tr><tr><td>Brien Boise</td><td>Australia</td><td>Spicy Special Slims</td><td>6433</td><td>78</td></tr><tr><td>Gunar Cockshoot</td><td>India</td><td>Fruit & Nut Bars</td><td>2212</td><td>117</td></tr><tr><td>Carla Molina</td><td>USA</td><td>99% Dark & Pure</td><td>609</td><td>99</td></tr><tr><td>Ram Mahesh</td><td>USA</td><td>85% Dark Bars</td><td>1638</td><td>48</td></tr><tr><td>Ches Bonnell</td><td>India</td><td>Raspberry Choco</td><td>3829</td><td>24</td></tr><tr><td>Ram Mahesh</td><td>UK</td><td>Raspberry Choco</td><td>5775</td><td>42</td></tr><tr><td>Curtice Advani</td><td>USA</td><td>Orange Choco</td><td>1071</td><td>270</td></tr><tr><td>Brien Boise</td><td>Canada</td><td>Fruit & Nut Bars</td><td>5019</td><td>150</td></tr><tr><td>Barr Faughny</td><td>New Zealand</td><td>Raspberry Choco</td><td>2863</td><td>42</td></tr><tr><td>Ram Mahesh</td><td>USA</td><td>Manuka Honey Choco</td><td>1617</td><td>126</td></tr><tr><td>Curtice Advani</td><td>New Zealand</td><td>Baker's Choco Chips</td><td>6818</td><td>6</td></tr><tr><td>Gunar Cockshoot</td><td>USA</td><td>Raspberry Choco</td><td>6657</td><td>276</td></tr><tr><td>Gunar Cockshoot</td><td>India</td><td>Eclairs</td><td>2919</td><td>93</td></tr><tr><td>Barr Faughny</td><td>Canada</td><td>Smooth Sliky Salty</td><td>3094</td><td>246</td></tr><tr><td>Curtice Advani</td><td>UK</td><td>85% Dark Bars</td><td>2989</td><td>3</td></tr><tr><td>Brien Boise</td><td>Australia</td><td>Organic Choco Syrup</td><td>2268</td><td>63</td></tr><tr><td>Gigi Bohling</td><td>USA</td><td>Smooth Sliky Salty</td><td>4753</td><td>246</td></tr><tr><td>Barr Faughny</td><td>India</td><td>99% Dark & Pure</td><td>7511</td><td>120</td></tr><tr><td>Barr Faughny</td><td>Australia</td><td>Smooth Sliky Salty</td><td>4326</td><td>348</td></tr><tr><td>Carla Molina</td><td>India</td><td>Fruit & Nut Bars</td><td>4935</td><td>126</td></tr><tr><td>Curtice Advani</td><td>USA</td><td>70% Dark Bites</td><td>4781</td><td>123</td></tr><tr><td>Gigi Bohling</td><td>Australia</td><td>White Choc</td><td>7483</td><td>45</td></tr><tr><td>Oby Sorrel</td><td>Australia</td><td>Almond Choco</td><td>6860</td><td>126</td></tr><tr><td>Ram Mahesh</td><td>New Zealand</td><td>Manuka Honey Choco</td><td>9002</td><td>72</td></tr><tr><td>Curtice Advani</td><td>Canada</td><td>Manuka Honey Choco</td><td>1400</td><td>135</td></tr><tr><td>Oby Sorrel</td><td>India</td><td>After Nines</td><td>4053</td><td>24</td></tr><tr><td>Ches Bonnell</td><td>Canada</td><td>Smooth Sliky Salty</td><td>2149</td><td>117</td></tr><tr><td>Gunar Cockshoot</td><td>UK</td><td>Manuka Honey Choco</td><td>3640</td><td>51</td></tr><tr><td>Barr Faughny</td><td>UK</td><td>Fruit & Nut Bars</td><td>630</td><td>36</td></tr><tr><td>Husein Augar</td><td>USA</td><td>Organic Choco Syrup</td><td>2429</td><td>144</td></tr><tr><td>Husein Augar</td><td>Canada</td><td>White Choc</td><td>2142</td><td>114</td></tr><tr><td>Ches Bonnell</td><td>New Zealand</td><td>70% Dark Bites</td><td>6454</td><td>54</td></tr><tr><td>Ches Bonnell</td><td>New Zealand</td><td>Mint Chip Choco</td><td>4487</td><td>333</td></tr><tr><td>Gunar Cockshoot</td><td>New Zealand</td><td>Almond Choco</td><td>938</td><td>366</td></tr><tr><td>Gunar Cockshoot</td><td>Australia</td><td>Baker's Choco Chips</td><td>8841</td><td>303</td></tr><tr><td>Barr Faughny</td><td>UK</td><td>Peanut Butter Cubes</td><td>4018</td><td>126</td></tr><tr><td>Carla Molina</td><td>New Zealand</td><td>Raspberry Choco</td><td>714</td><td>231</td></tr><tr><td>Husein Augar</td><td>Australia</td><td>White Choc</td><td>3850</td><td>102</td></tr></tbody></table></div>"
      ]
     },
     "metadata": {
      "application/vnd.databricks.v1+output": {
       "addedWidgets": {},
       "aggData": [],
       "aggError": "",
       "aggOverflow": false,
       "aggSchema": [],
       "aggSeriesLimitReached": false,
       "aggType": "",
       "arguments": {},
       "columnCustomDisplayInfos": {},
       "data": [
        [
         "Ram Mahesh",
         "New Zealand",
         "70% Dark Bites",
         1624,
         114
        ],
        [
         "Brien Boise",
         "USA",
         "Choco Coated Almonds",
         6706,
         459
        ],
        [
         "Husein Augar",
         "USA",
         "Almond Choco",
         959,
         147
        ],
        [
         "Carla Molina",
         "Canada",
         "Drinking Coco",
         9632,
         288
        ],
        [
         "Curtice Advani",
         "UK",
         "White Choc",
         2100,
         414
        ],
        [
         "Ram Mahesh",
         "USA",
         "Peanut Butter Cubes",
         8869,
         432
        ],
        [
         "Curtice Advani",
         "Australia",
         "Smooth Sliky Salty",
         2681,
         54
        ],
        [
         "Brien Boise",
         "USA",
         "After Nines",
         5012,
         210
        ],
        [
         "Ches Bonnell",
         "Australia",
         "50% Dark Bites",
         1281,
         75
        ],
        [
         "Gigi Bohling",
         "New Zealand",
         "50% Dark Bites",
         4991,
         12
        ],
        [
         "Barr Faughny",
         "UK",
         "White Choc",
         1785,
         462
        ],
        [
         "Gunar Cockshoot",
         "New Zealand",
         "Eclairs",
         3983,
         144
        ],
        [
         "Husein Augar",
         "Australia",
         "Mint Chip Choco",
         2646,
         120
        ],
        [
         "Barr Faughny",
         "India",
         "Milk Bars",
         252,
         54
        ],
        [
         "Gunar Cockshoot",
         "USA",
         "White Choc",
         2464,
         234
        ],
        [
         "Gunar Cockshoot",
         "USA",
         "Manuka Honey Choco",
         2114,
         66
        ],
        [
         "Curtice Advani",
         "New Zealand",
         "Smooth Sliky Salty",
         7693,
         87
        ],
        [
         "Gigi Bohling",
         "India",
         "Orange Choco",
         15610,
         339
        ],
        [
         "Carla Molina",
         "India",
         "After Nines",
         336,
         144
        ],
        [
         "Barr Faughny",
         "UK",
         "Orange Choco",
         9443,
         162
        ],
        [
         "Husein Augar",
         "India",
         "Fruit & Nut Bars",
         8155,
         90
        ],
        [
         "Brien Boise",
         "Australia",
         "Fruit & Nut Bars",
         1701,
         234
        ],
        [
         "Oby Sorrel",
         "Australia",
         "After Nines",
         2205,
         141
        ],
        [
         "Brien Boise",
         "New Zealand",
         "99% Dark & Pure",
         1771,
         204
        ],
        [
         "Carla Molina",
         "USA",
         "Raspberry Choco",
         2114,
         186
        ],
        [
         "Carla Molina",
         "Canada",
         "Milk Bars",
         10311,
         231
        ],
        [
         "Gunar Cockshoot",
         "UK",
         "Mint Chip Choco",
         21,
         168
        ],
        [
         "Oby Sorrel",
         "USA",
         "Orange Choco",
         1974,
         195
        ],
        [
         "Gigi Bohling",
         "Canada",
         "Fruit & Nut Bars",
         6314,
         15
        ],
        [
         "Oby Sorrel",
         "New Zealand",
         "Fruit & Nut Bars",
         4683,
         30
        ],
        [
         "Carla Molina",
         "New Zealand",
         "85% Dark Bars",
         6398,
         102
        ],
        [
         "Barr Faughny",
         "USA",
         "99% Dark & Pure",
         553,
         15
        ],
        [
         "Brien Boise",
         "UK",
         "70% Dark Bites",
         7021,
         183
        ],
        [
         "Ram Mahesh",
         "UK",
         "After Nines",
         5817,
         12
        ],
        [
         "Carla Molina",
         "UK",
         "50% Dark Bites",
         3976,
         72
        ],
        [
         "Curtice Advani",
         "Australia",
         "Organic Choco Syrup",
         1134,
         282
        ],
        [
         "Barr Faughny",
         "UK",
         "Caramel Stuffed Bars",
         6027,
         144
        ],
        [
         "Curtice Advani",
         "New Zealand",
         "Mint Chip Choco",
         1904,
         405
        ],
        [
         "Ches Bonnell",
         "India",
         "Choco Coated Almonds",
         3262,
         75
        ],
        [
         "Ram Mahesh",
         "India",
         "Organic Choco Syrup",
         2289,
         135
        ],
        [
         "Gigi Bohling",
         "India",
         "Organic Choco Syrup",
         6986,
         21
        ],
        [
         "Barr Faughny",
         "Australia",
         "Fruit & Nut Bars",
         4417,
         153
        ],
        [
         "Curtice Advani",
         "India",
         "Raspberry Choco",
         1442,
         15
        ],
        [
         "Gunar Cockshoot",
         "USA",
         "50% Dark Bites",
         2415,
         255
        ],
        [
         "Barr Faughny",
         "New Zealand",
         "99% Dark & Pure",
         238,
         18
        ],
        [
         "Curtice Advani",
         "New Zealand",
         "Fruit & Nut Bars",
         4949,
         189
        ],
        [
         "Gigi Bohling",
         "Australia",
         "Choco Coated Almonds",
         5075,
         21
        ],
        [
         "Gunar Cockshoot",
         "Canada",
         "Mint Chip Choco",
         9198,
         36
        ],
        [
         "Curtice Advani",
         "India",
         "Manuka Honey Choco",
         3339,
         75
        ],
        [
         "Ram Mahesh",
         "India",
         "Eclairs",
         5019,
         156
        ],
        [
         "Gigi Bohling",
         "Canada",
         "Mint Chip Choco",
         16184,
         39
        ],
        [
         "Curtice Advani",
         "Canada",
         "Spicy Special Slims",
         497,
         63
        ],
        [
         "Barr Faughny",
         "Canada",
         "Manuka Honey Choco",
         8211,
         75
        ],
        [
         "Barr Faughny",
         "Australia",
         "Caramel Stuffed Bars",
         6580,
         183
        ],
        [
         "Carla Molina",
         "USA",
         "Milk Bars",
         4760,
         69
        ],
        [
         "Ram Mahesh",
         "Canada",
         "White Choc",
         5439,
         30
        ],
        [
         "Carla Molina",
         "India",
         "Eclairs",
         1463,
         39
        ],
        [
         "Gunar Cockshoot",
         "India",
         "Choco Coated Almonds",
         7777,
         504
        ],
        [
         "Husein Augar",
         "New Zealand",
         "Manuka Honey Choco",
         1085,
         273
        ],
        [
         "Gigi Bohling",
         "New Zealand",
         "Smooth Sliky Salty",
         182,
         48
        ],
        [
         "Curtice Advani",
         "India",
         "Organic Choco Syrup",
         4242,
         207
        ],
        [
         "Curtice Advani",
         "Canada",
         "Choco Coated Almonds",
         6118,
         9
        ],
        [
         "Oby Sorrel",
         "Canada",
         "Fruit & Nut Bars",
         2317,
         261
        ],
        [
         "Curtice Advani",
         "Australia",
         "Mint Chip Choco",
         938,
         6
        ],
        [
         "Brien Boise",
         "New Zealand",
         "Raspberry Choco",
         9709,
         30
        ],
        [
         "Ches Bonnell",
         "India",
         "Orange Choco",
         2205,
         138
        ],
        [
         "Ches Bonnell",
         "New Zealand",
         "Eclairs",
         4487,
         111
        ],
        [
         "Gigi Bohling",
         "USA",
         "Drinking Coco",
         2415,
         15
        ],
        [
         "Ram Mahesh",
         "India",
         "99% Dark & Pure",
         4018,
         162
        ],
        [
         "Gigi Bohling",
         "India",
         "99% Dark & Pure",
         861,
         195
        ],
        [
         "Oby Sorrel",
         "Australia",
         "50% Dark Bites",
         5586,
         525
        ],
        [
         "Ches Bonnell",
         "India",
         "Peanut Butter Cubes",
         2226,
         48
        ],
        [
         "Husein Augar",
         "India",
         "Caramel Stuffed Bars",
         14329,
         150
        ],
        [
         "Husein Augar",
         "India",
         "Orange Choco",
         8463,
         492
        ],
        [
         "Gigi Bohling",
         "India",
         "Manuka Honey Choco",
         2891,
         102
        ],
        [
         "Gunar Cockshoot",
         "Canada",
         "Fruit & Nut Bars",
         3773,
         165
        ],
        [
         "Carla Molina",
         "Canada",
         "Caramel Stuffed Bars",
         854,
         309
        ],
        [
         "Curtice Advani",
         "Canada",
         "Eclairs",
         4970,
         156
        ],
        [
         "Husein Augar",
         "USA",
         "Baker's Choco Chips",
         98,
         159
        ],
        [
         "Gigi Bohling",
         "USA",
         "Raspberry Choco",
         13391,
         201
        ],
        [
         "Brien Boise",
         "UK",
         "Smooth Sliky Salty",
         8890,
         210
        ],
        [
         "Barr Faughny",
         "Australia",
         "Milk Bars",
         56,
         51
        ],
        [
         "Gunar Cockshoot",
         "Canada",
         "White Choc",
         3339,
         39
        ],
        [
         "Oby Sorrel",
         "USA",
         "Drinking Coco",
         3808,
         279
        ],
        [
         "Oby Sorrel",
         "Australia",
         "Milk Bars",
         63,
         123
        ],
        [
         "Barr Faughny",
         "UK",
         "Organic Choco Syrup",
         7812,
         81
        ],
        [
         "Ram Mahesh",
         "New Zealand",
         "99% Dark & Pure",
         7693,
         21
        ],
        [
         "Gunar Cockshoot",
         "Canada",
         "Caramel Stuffed Bars",
         973,
         162
        ],
        [
         "Oby Sorrel",
         "USA",
         "Spicy Special Slims",
         567,
         228
        ],
        [
         "Oby Sorrel",
         "Canada",
         "Manuka Honey Choco",
         2471,
         342
        ],
        [
         "Gigi Bohling",
         "Australia",
         "Milk Bars",
         7189,
         54
        ],
        [
         "Carla Molina",
         "USA",
         "Caramel Stuffed Bars",
         7455,
         216
        ],
        [
         "Gunar Cockshoot",
         "India",
         "Baker's Choco Chips",
         3108,
         54
        ],
        [
         "Curtice Advani",
         "Australia",
         "White Choc",
         469,
         75
        ],
        [
         "Husein Augar",
         "New Zealand",
         "Fruit & Nut Bars",
         2737,
         93
        ],
        [
         "Husein Augar",
         "New Zealand",
         "White Choc",
         4305,
         156
        ],
        [
         "Husein Augar",
         "Australia",
         "Eclairs",
         2408,
         9
        ],
        [
         "Gunar Cockshoot",
         "Canada",
         "99% Dark & Pure",
         1281,
         18
        ],
        [
         "Ram Mahesh",
         "USA",
         "Choco Coated Almonds",
         12348,
         234
        ],
        [
         "Gunar Cockshoot",
         "India",
         "Caramel Stuffed Bars",
         3689,
         312
        ],
        [
         "Ches Bonnell",
         "Canada",
         "99% Dark & Pure",
         2870,
         300
        ],
        [
         "Barr Faughny",
         "Canada",
         "Organic Choco Syrup",
         798,
         519
        ],
        [
         "Carla Molina",
         "New Zealand",
         "Spicy Special Slims",
         2933,
         9
        ],
        [
         "Gigi Bohling",
         "USA",
         "Almond Choco",
         2744,
         9
        ],
        [
         "Ram Mahesh",
         "Canada",
         "Peanut Butter Cubes",
         9772,
         90
        ],
        [
         "Ches Bonnell",
         "India",
         "White Choc",
         1568,
         96
        ],
        [
         "Barr Faughny",
         "Canada",
         "Mint Chip Choco",
         11417,
         21
        ],
        [
         "Ram Mahesh",
         "India",
         "Baker's Choco Chips",
         6748,
         48
        ],
        [
         "Oby Sorrel",
         "Canada",
         "Organic Choco Syrup",
         1407,
         72
        ],
        [
         "Brien Boise",
         "USA",
         "Manuka Honey Choco",
         2023,
         168
        ],
        [
         "Gigi Bohling",
         "UK",
         "Baker's Choco Chips",
         5236,
         51
        ],
        [
         "Carla Molina",
         "Canada",
         "99% Dark & Pure",
         1925,
         192
        ],
        [
         "Ches Bonnell",
         "New Zealand",
         "50% Dark Bites",
         6608,
         225
        ],
        [
         "Curtice Advani",
         "India",
         "Baker's Choco Chips",
         8008,
         456
        ],
        [
         "Oby Sorrel",
         "India",
         "White Choc",
         1428,
         93
        ],
        [
         "Curtice Advani",
         "India",
         "Almond Choco",
         525,
         48
        ],
        [
         "Curtice Advani",
         "New Zealand",
         "Drinking Coco",
         1505,
         102
        ],
        [
         "Ches Bonnell",
         "USA",
         "70% Dark Bites",
         6755,
         252
        ],
        [
         "Barr Faughny",
         "New Zealand",
         "Drinking Coco",
         11571,
         138
        ],
        [
         "Ram Mahesh",
         "Australia",
         "White Choc",
         2541,
         90
        ],
        [
         "Carla Molina",
         "New Zealand",
         "70% Dark Bites",
         1526,
         240
        ],
        [
         "Ram Mahesh",
         "Australia",
         "Almond Choco",
         6125,
         102
        ],
        [
         "Carla Molina",
         "USA",
         "Organic Choco Syrup",
         847,
         129
        ],
        [
         "Brien Boise",
         "USA",
         "Organic Choco Syrup",
         4753,
         300
        ],
        [
         "Curtice Advani",
         "Australia",
         "Peanut Butter Cubes",
         959,
         135
        ],
        [
         "Ches Bonnell",
         "USA",
         "85% Dark Bars",
         2793,
         114
        ],
        [
         "Ches Bonnell",
         "USA",
         "50% Dark Bites",
         4606,
         63
        ],
        [
         "Ches Bonnell",
         "Canada",
         "Manuka Honey Choco",
         5551,
         252
        ],
        [
         "Oby Sorrel",
         "Canada",
         "Choco Coated Almonds",
         6657,
         303
        ],
        [
         "Ches Bonnell",
         "UK",
         "Eclairs",
         4438,
         246
        ],
        [
         "Brien Boise",
         "Australia",
         "After Nines",
         168,
         84
        ],
        [
         "Ches Bonnell",
         "India",
         "Eclairs",
         7777,
         39
        ],
        [
         "Gigi Bohling",
         "Canada",
         "Eclairs",
         3339,
         348
        ],
        [
         "Ches Bonnell",
         "New Zealand",
         "Peanut Butter Cubes",
         6391,
         48
        ],
        [
         "Gigi Bohling",
         "New Zealand",
         "After Nines",
         518,
         75
        ],
        [
         "Ches Bonnell",
         "Australia",
         "Caramel Stuffed Bars",
         5677,
         258
        ],
        [
         "Curtice Advani",
         "UK",
         "Eclairs",
         6048,
         27
        ],
        [
         "Brien Boise",
         "Australia",
         "Choco Coated Almonds",
         3752,
         213
        ],
        [
         "Gigi Bohling",
         "USA",
         "Manuka Honey Choco",
         4480,
         357
        ],
        [
         "Husein Augar",
         "New Zealand",
         "Almond Choco",
         259,
         207
        ],
        [
         "Brien Boise",
         "New Zealand",
         "70% Dark Bites",
         42,
         150
        ],
        [
         "Carla Molina",
         "Canada",
         "Baker's Choco Chips",
         98,
         204
        ],
        [
         "Ches Bonnell",
         "USA",
         "Organic Choco Syrup",
         2478,
         21
        ],
        [
         "Carla Molina",
         "India",
         "Peanut Butter Cubes",
         7847,
         174
        ],
        [
         "Barr Faughny",
         "New Zealand",
         "Eclairs",
         9926,
         201
        ],
        [
         "Brien Boise",
         "Australia",
         "Milk Bars",
         819,
         510
        ],
        [
         "Curtice Advani",
         "UK",
         "Manuka Honey Choco",
         3052,
         378
        ],
        [
         "Husein Augar",
         "India",
         "Spicy Special Slims",
         6832,
         27
        ],
        [
         "Barr Faughny",
         "UK",
         "Mint Chip Choco",
         2016,
         117
        ],
        [
         "Curtice Advani",
         "Australia",
         "Spicy Special Slims",
         7322,
         36
        ],
        [
         "Brien Boise",
         "USA",
         "Peanut Butter Cubes",
         357,
         126
        ],
        [
         "Husein Augar",
         "UK",
         "White Choc",
         3192,
         72
        ],
        [
         "Ches Bonnell",
         "Canada",
         "After Nines",
         8435,
         42
        ],
        [
         "Ram Mahesh",
         "UK",
         "Manuka Honey Choco",
         0,
         135
        ],
        [
         "Ches Bonnell",
         "India",
         "85% Dark Bars",
         8862,
         189
        ],
        [
         "Curtice Advani",
         "New Zealand",
         "Caramel Stuffed Bars",
         3556,
         459
        ],
        [
         "Gigi Bohling",
         "India",
         "Raspberry Choco",
         7280,
         201
        ],
        [
         "Curtice Advani",
         "India",
         "70% Dark Bites",
         3402,
         366
        ],
        [
         "Gunar Cockshoot",
         "New Zealand",
         "Manuka Honey Choco",
         4592,
         324
        ],
        [
         "Husein Augar",
         "USA",
         "Raspberry Choco",
         7833,
         243
        ],
        [
         "Barr Faughny",
         "UK",
         "Spicy Special Slims",
         7651,
         213
        ],
        [
         "Ram Mahesh",
         "USA",
         "70% Dark Bites",
         2275,
         447
        ],
        [
         "Ram Mahesh",
         "Australia",
         "Milk Bars",
         5670,
         297
        ],
        [
         "Ches Bonnell",
         "USA",
         "Mint Chip Choco",
         2135,
         27
        ],
        [
         "Ram Mahesh",
         "India",
         "Fruit & Nut Bars",
         2779,
         75
        ],
        [
         "Oby Sorrel",
         "UK",
         "Peanut Butter Cubes",
         12950,
         30
        ],
        [
         "Ches Bonnell",
         "Canada",
         "Drinking Coco",
         2646,
         177
        ],
        [
         "Ram Mahesh",
         "India",
         "Peanut Butter Cubes",
         3794,
         159
        ],
        [
         "Gunar Cockshoot",
         "USA",
         "Peanut Butter Cubes",
         819,
         306
        ],
        [
         "Gunar Cockshoot",
         "India",
         "Orange Choco",
         2583,
         18
        ],
        [
         "Ches Bonnell",
         "USA",
         "99% Dark & Pure",
         4585,
         240
        ],
        [
         "Gigi Bohling",
         "India",
         "Peanut Butter Cubes",
         1652,
         93
        ],
        [
         "Oby Sorrel",
         "India",
         "Baker's Choco Chips",
         4991,
         9
        ],
        [
         "Brien Boise",
         "India",
         "Mint Chip Choco",
         2009,
         219
        ],
        [
         "Barr Faughny",
         "UK",
         "After Nines",
         1568,
         141
        ],
        [
         "Carla Molina",
         "New Zealand",
         "Orange Choco",
         3388,
         123
        ],
        [
         "Ram Mahesh",
         "Australia",
         "85% Dark Bars",
         623,
         51
        ],
        [
         "Curtice Advani",
         "Canada",
         "Almond Choco",
         10073,
         120
        ],
        [
         "Brien Boise",
         "UK",
         "Baker's Choco Chips",
         1561,
         27
        ],
        [
         "Husein Augar",
         "Canada",
         "Organic Choco Syrup",
         11522,
         204
        ],
        [
         "Curtice Advani",
         "Australia",
         "Milk Bars",
         2317,
         123
        ],
        [
         "Oby Sorrel",
         "New Zealand",
         "Caramel Stuffed Bars",
         3059,
         27
        ],
        [
         "Carla Molina",
         "New Zealand",
         "Baker's Choco Chips",
         2324,
         177
        ],
        [
         "Gunar Cockshoot",
         "UK",
         "Baker's Choco Chips",
         4956,
         171
        ],
        [
         "Oby Sorrel",
         "India",
         "99% Dark & Pure",
         5355,
         204
        ],
        [
         "Gunar Cockshoot",
         "India",
         "50% Dark Bites",
         7259,
         276
        ],
        [
         "Brien Boise",
         "New Zealand",
         "Baker's Choco Chips",
         6279,
         45
        ],
        [
         "Ram Mahesh",
         "Australia",
         "Manuka Honey Choco",
         2541,
         45
        ],
        [
         "Curtice Advani",
         "USA",
         "Organic Choco Syrup",
         3864,
         177
        ],
        [
         "Gigi Bohling",
         "Canada",
         "Milk Bars",
         6146,
         63
        ],
        [
         "Husein Augar",
         "UK",
         "Drinking Coco",
         2639,
         204
        ],
        [
         "Brien Boise",
         "New Zealand",
         "After Nines",
         1890,
         195
        ],
        [
         "Ches Bonnell",
         "India",
         "50% Dark Bites",
         1932,
         369
        ],
        [
         "Gunar Cockshoot",
         "India",
         "White Choc",
         6300,
         42
        ],
        [
         "Curtice Advani",
         "New Zealand",
         "70% Dark Bites",
         560,
         81
        ],
        [
         "Husein Augar",
         "New Zealand",
         "Baker's Choco Chips",
         2856,
         246
        ],
        [
         "Husein Augar",
         "India",
         "Eclairs",
         707,
         174
        ],
        [
         "Brien Boise",
         "USA",
         "70% Dark Bites",
         3598,
         81
        ],
        [
         "Ram Mahesh",
         "USA",
         "After Nines",
         6853,
         372
        ],
        [
         "Ram Mahesh",
         "USA",
         "Mint Chip Choco",
         4725,
         174
        ],
        [
         "Carla Molina",
         "Canada",
         "Choco Coated Almonds",
         10304,
         84
        ],
        [
         "Carla Molina",
         "India",
         "Mint Chip Choco",
         1274,
         225
        ],
        [
         "Gigi Bohling",
         "Canada",
         "70% Dark Bites",
         1526,
         105
        ],
        [
         "Ram Mahesh",
         "UK",
         "Caramel Stuffed Bars",
         3101,
         225
        ],
        [
         "Barr Faughny",
         "New Zealand",
         "50% Dark Bites",
         1057,
         54
        ],
        [
         "Ches Bonnell",
         "New Zealand",
         "Baker's Choco Chips",
         5306,
         0
        ],
        [
         "Gigi Bohling",
         "UK",
         "85% Dark Bars",
         4018,
         171
        ],
        [
         "Husein Augar",
         "India",
         "Mint Chip Choco",
         938,
         189
        ],
        [
         "Ches Bonnell",
         "Australia",
         "Drinking Coco",
         1778,
         270
        ],
        [
         "Curtice Advani",
         "UK",
         "70% Dark Bites",
         1638,
         63
        ],
        [
         "Carla Molina",
         "Australia",
         "White Choc",
         154,
         21
        ],
        [
         "Ches Bonnell",
         "New Zealand",
         "After Nines",
         9835,
         207
        ],
        [
         "Husein Augar",
         "New Zealand",
         "Orange Choco",
         7273,
         96
        ],
        [
         "Gigi Bohling",
         "UK",
         "After Nines",
         6909,
         81
        ],
        [
         "Husein Augar",
         "UK",
         "85% Dark Bars",
         3920,
         306
        ],
        [
         "Oby Sorrel",
         "UK",
         "Spicy Special Slims",
         4858,
         279
        ],
        [
         "Barr Faughny",
         "Australia",
         "Almond Choco",
         3549,
         3
        ],
        [
         "Ches Bonnell",
         "UK",
         "Organic Choco Syrup",
         966,
         198
        ],
        [
         "Gigi Bohling",
         "UK",
         "Drinking Coco",
         385,
         249
        ],
        [
         "Curtice Advani",
         "India",
         "Mint Chip Choco",
         2219,
         75
        ],
        [
         "Husein Augar",
         "Canada",
         "Choco Coated Almonds",
         2954,
         189
        ],
        [
         "Ches Bonnell",
         "Canada",
         "Choco Coated Almonds",
         280,
         87
        ],
        [
         "Carla Molina",
         "Canada",
         "70% Dark Bites",
         6118,
         174
        ],
        [
         "Barr Faughny",
         "UK",
         "Raspberry Choco",
         4802,
         36
        ],
        [
         "Husein Augar",
         "Australia",
         "85% Dark Bars",
         4137,
         60
        ],
        [
         "Gunar Cockshoot",
         "USA",
         "Fruit & Nut Bars",
         2023,
         78
        ],
        [
         "Husein Augar",
         "Canada",
         "70% Dark Bites",
         9051,
         57
        ],
        [
         "Husein Augar",
         "New Zealand",
         "Caramel Stuffed Bars",
         2919,
         45
        ],
        [
         "Carla Molina",
         "Australia",
         "After Nines",
         5915,
         3
        ],
        [
         "Oby Sorrel",
         "USA",
         "Raspberry Choco",
         2562,
         6
        ],
        [
         "Gigi Bohling",
         "New Zealand",
         "White Choc",
         8813,
         21
        ],
        [
         "Gigi Bohling",
         "Canada",
         "Drinking Coco",
         6111,
         3
        ],
        [
         "Brien Boise",
         "India",
         "Smooth Sliky Salty",
         3507,
         288
        ],
        [
         "Curtice Advani",
         "Canada",
         "Milk Bars",
         4319,
         30
        ],
        [
         "Ram Mahesh",
         "Australia",
         "Baker's Choco Chips",
         609,
         87
        ],
        [
         "Ram Mahesh",
         "UK",
         "Organic Choco Syrup",
         6370,
         30
        ],
        [
         "Gigi Bohling",
         "Australia",
         "99% Dark & Pure",
         5474,
         168
        ],
        [
         "Ram Mahesh",
         "Canada",
         "Organic Choco Syrup",
         3164,
         306
        ],
        [
         "Curtice Advani",
         "USA",
         "Almond Choco",
         1302,
         402
        ],
        [
         "Gunar Cockshoot",
         "New Zealand",
         "Caramel Stuffed Bars",
         7308,
         327
        ],
        [
         "Ram Mahesh",
         "New Zealand",
         "Organic Choco Syrup",
         6132,
         93
        ],
        [
         "Oby Sorrel",
         "USA",
         "50% Dark Bites",
         3472,
         96
        ],
        [
         "Brien Boise",
         "UK",
         "Drinking Coco",
         9660,
         27
        ],
        [
         "Husein Augar",
         "Australia",
         "Baker's Choco Chips",
         2436,
         99
        ],
        [
         "Husein Augar",
         "Australia",
         "Peanut Butter Cubes",
         9506,
         87
        ],
        [
         "Oby Sorrel",
         "New Zealand",
         "Spicy Special Slims",
         245,
         288
        ],
        [
         "Brien Boise",
         "USA",
         "Orange Choco",
         2702,
         363
        ],
        [
         "Oby Sorrel",
         "India",
         "Eclairs",
         700,
         87
        ],
        [
         "Curtice Advani",
         "India",
         "Eclairs",
         3759,
         150
        ],
        [
         "Barr Faughny",
         "USA",
         "Eclairs",
         1589,
         303
        ],
        [
         "Ches Bonnell",
         "USA",
         "Caramel Stuffed Bars",
         5194,
         288
        ],
        [
         "Oby Sorrel",
         "Canada",
         "Milk Bars",
         945,
         75
        ],
        [
         "Ram Mahesh",
         "Australia",
         "Smooth Sliky Salty",
         1988,
         39
        ],
        [
         "Curtice Advani",
         "India",
         "Choco Coated Almonds",
         6734,
         123
        ],
        [
         "Ram Mahesh",
         "Canada",
         "Almond Choco",
         217,
         36
        ],
        [
         "Gigi Bohling",
         "India",
         "After Nines",
         6279,
         237
        ],
        [
         "Ram Mahesh",
         "Canada",
         "Milk Bars",
         4424,
         201
        ],
        [
         "Barr Faughny",
         "Canada",
         "Eclairs",
         189,
         48
        ],
        [
         "Gigi Bohling",
         "USA",
         "After Nines",
         490,
         84
        ],
        [
         "Brien Boise",
         "New Zealand",
         "Spicy Special Slims",
         434,
         87
        ],
        [
         "Ches Bonnell",
         "Australia",
         "70% Dark Bites",
         10129,
         312
        ],
        [
         "Gunar Cockshoot",
         "UK",
         "Caramel Stuffed Bars",
         1652,
         102
        ],
        [
         "Brien Boise",
         "Australia",
         "Spicy Special Slims",
         6433,
         78
        ],
        [
         "Gunar Cockshoot",
         "India",
         "Fruit & Nut Bars",
         2212,
         117
        ],
        [
         "Carla Molina",
         "USA",
         "99% Dark & Pure",
         609,
         99
        ],
        [
         "Ram Mahesh",
         "USA",
         "85% Dark Bars",
         1638,
         48
        ],
        [
         "Ches Bonnell",
         "India",
         "Raspberry Choco",
         3829,
         24
        ],
        [
         "Ram Mahesh",
         "UK",
         "Raspberry Choco",
         5775,
         42
        ],
        [
         "Curtice Advani",
         "USA",
         "Orange Choco",
         1071,
         270
        ],
        [
         "Brien Boise",
         "Canada",
         "Fruit & Nut Bars",
         5019,
         150
        ],
        [
         "Barr Faughny",
         "New Zealand",
         "Raspberry Choco",
         2863,
         42
        ],
        [
         "Ram Mahesh",
         "USA",
         "Manuka Honey Choco",
         1617,
         126
        ],
        [
         "Curtice Advani",
         "New Zealand",
         "Baker's Choco Chips",
         6818,
         6
        ],
        [
         "Gunar Cockshoot",
         "USA",
         "Raspberry Choco",
         6657,
         276
        ],
        [
         "Gunar Cockshoot",
         "India",
         "Eclairs",
         2919,
         93
        ],
        [
         "Barr Faughny",
         "Canada",
         "Smooth Sliky Salty",
         3094,
         246
        ],
        [
         "Curtice Advani",
         "UK",
         "85% Dark Bars",
         2989,
         3
        ],
        [
         "Brien Boise",
         "Australia",
         "Organic Choco Syrup",
         2268,
         63
        ],
        [
         "Gigi Bohling",
         "USA",
         "Smooth Sliky Salty",
         4753,
         246
        ],
        [
         "Barr Faughny",
         "India",
         "99% Dark & Pure",
         7511,
         120
        ],
        [
         "Barr Faughny",
         "Australia",
         "Smooth Sliky Salty",
         4326,
         348
        ],
        [
         "Carla Molina",
         "India",
         "Fruit & Nut Bars",
         4935,
         126
        ],
        [
         "Curtice Advani",
         "USA",
         "70% Dark Bites",
         4781,
         123
        ],
        [
         "Gigi Bohling",
         "Australia",
         "White Choc",
         7483,
         45
        ],
        [
         "Oby Sorrel",
         "Australia",
         "Almond Choco",
         6860,
         126
        ],
        [
         "Ram Mahesh",
         "New Zealand",
         "Manuka Honey Choco",
         9002,
         72
        ],
        [
         "Curtice Advani",
         "Canada",
         "Manuka Honey Choco",
         1400,
         135
        ],
        [
         "Oby Sorrel",
         "India",
         "After Nines",
         4053,
         24
        ],
        [
         "Ches Bonnell",
         "Canada",
         "Smooth Sliky Salty",
         2149,
         117
        ],
        [
         "Gunar Cockshoot",
         "UK",
         "Manuka Honey Choco",
         3640,
         51
        ],
        [
         "Barr Faughny",
         "UK",
         "Fruit & Nut Bars",
         630,
         36
        ],
        [
         "Husein Augar",
         "USA",
         "Organic Choco Syrup",
         2429,
         144
        ],
        [
         "Husein Augar",
         "Canada",
         "White Choc",
         2142,
         114
        ],
        [
         "Ches Bonnell",
         "New Zealand",
         "70% Dark Bites",
         6454,
         54
        ],
        [
         "Ches Bonnell",
         "New Zealand",
         "Mint Chip Choco",
         4487,
         333
        ],
        [
         "Gunar Cockshoot",
         "New Zealand",
         "Almond Choco",
         938,
         366
        ],
        [
         "Gunar Cockshoot",
         "Australia",
         "Baker's Choco Chips",
         8841,
         303
        ],
        [
         "Barr Faughny",
         "UK",
         "Peanut Butter Cubes",
         4018,
         126
        ],
        [
         "Carla Molina",
         "New Zealand",
         "Raspberry Choco",
         714,
         231
        ],
        [
         "Husein Augar",
         "Australia",
         "White Choc",
         3850,
         102
        ]
       ],
       "datasetInfos": [],
       "dbfsResultPath": null,
       "isJsonSchema": true,
       "metadata": {},
       "overflow": false,
       "plotOptions": {
        "customPlotOptions": {},
        "displayType": "table",
        "pivotAggregation": null,
        "pivotColumns": null,
        "xColumns": null,
        "yColumns": null
       },
       "removedWidgets": [],
       "schema": [
        {
         "metadata": "{}",
         "name": "sales_person",
         "type": "\"string\""
        },
        {
         "metadata": "{}",
         "name": "geography",
         "type": "\"string\""
        },
        {
         "metadata": "{}",
         "name": "product_name",
         "type": "\"string\""
        },
        {
         "metadata": "{}",
         "name": "amount",
         "type": "\"integer\""
        },
        {
         "metadata": "{}",
         "name": "units",
         "type": "\"integer\""
        }
       ],
       "type": "table"
      }
     },
     "output_type": "display_data"
    }
   ],
   "source": [
    "silver_df = spark.read.format(\"delta\").load(\"/Volumes/sales_catalog/sales_schema/sales_volume/bronze/sales_data/\")\n",
    "silver_df.display()"
   ]
  },
  {
   "cell_type": "code",
   "execution_count": 0,
   "metadata": {
    "application/vnd.databricks.v1+cell": {
     "cellMetadata": {
      "byteLimit": 2048000,
      "rowLimit": 10000
     },
     "inputWidgets": {},
     "nuid": "0313b9b5-ae73-4495-8504-d9bd4608f361",
     "showTitle": false,
     "tableResultSettingsMap": {},
     "title": ""
    }
   },
   "outputs": [
    {
     "output_type": "display_data",
     "data": {
      "text/html": [
       "<style scoped>\n",
       "  .table-result-container {\n",
       "    max-height: 300px;\n",
       "    overflow: auto;\n",
       "  }\n",
       "  table, th, td {\n",
       "    border: 1px solid black;\n",
       "    border-collapse: collapse;\n",
       "  }\n",
       "  th, td {\n",
       "    padding: 5px;\n",
       "  }\n",
       "  th {\n",
       "    text-align: left;\n",
       "  }\n",
       "</style><div class='table-result-container'><table class='table-result'><thead style='background-color: white'><tr><th>sales_person</th><th>geography</th><th>product_name</th><th>amount</th><th>units</th></tr></thead><tbody><tr><td>Ram Mahesh</td><td>New Zealand</td><td>70% Dark Bites</td><td>1624</td><td>114</td></tr><tr><td>Brien Boise</td><td>USA</td><td>Choco Coated Almonds</td><td>6706</td><td>459</td></tr><tr><td>Husein Augar</td><td>USA</td><td>Almond Choco</td><td>959</td><td>147</td></tr><tr><td>Carla Molina</td><td>Canada</td><td>Drinking Coco</td><td>9632</td><td>288</td></tr><tr><td>Curtice Advani</td><td>UK</td><td>White Choc</td><td>2100</td><td>414</td></tr><tr><td>Ram Mahesh</td><td>USA</td><td>Peanut Butter Cubes</td><td>8869</td><td>432</td></tr><tr><td>Curtice Advani</td><td>Australia</td><td>Smooth Sliky Salty</td><td>2681</td><td>54</td></tr><tr><td>Brien Boise</td><td>USA</td><td>After Nines</td><td>5012</td><td>210</td></tr><tr><td>Ches Bonnell</td><td>Australia</td><td>50% Dark Bites</td><td>1281</td><td>75</td></tr><tr><td>Gigi Bohling</td><td>New Zealand</td><td>50% Dark Bites</td><td>4991</td><td>12</td></tr><tr><td>Barr Faughny</td><td>UK</td><td>White Choc</td><td>1785</td><td>462</td></tr><tr><td>Gunar Cockshoot</td><td>New Zealand</td><td>Eclairs</td><td>3983</td><td>144</td></tr><tr><td>Husein Augar</td><td>Australia</td><td>Mint Chip Choco</td><td>2646</td><td>120</td></tr><tr><td>Barr Faughny</td><td>India</td><td>Milk Bars</td><td>252</td><td>54</td></tr><tr><td>Gunar Cockshoot</td><td>USA</td><td>White Choc</td><td>2464</td><td>234</td></tr><tr><td>Gunar Cockshoot</td><td>USA</td><td>Manuka Honey Choco</td><td>2114</td><td>66</td></tr><tr><td>Curtice Advani</td><td>New Zealand</td><td>Smooth Sliky Salty</td><td>7693</td><td>87</td></tr><tr><td>Gigi Bohling</td><td>India</td><td>Orange Choco</td><td>15610</td><td>339</td></tr><tr><td>Carla Molina</td><td>India</td><td>After Nines</td><td>336</td><td>144</td></tr><tr><td>Barr Faughny</td><td>UK</td><td>Orange Choco</td><td>9443</td><td>162</td></tr><tr><td>Husein Augar</td><td>India</td><td>Fruit & Nut Bars</td><td>8155</td><td>90</td></tr><tr><td>Brien Boise</td><td>Australia</td><td>Fruit & Nut Bars</td><td>1701</td><td>234</td></tr><tr><td>Oby Sorrel</td><td>Australia</td><td>After Nines</td><td>2205</td><td>141</td></tr><tr><td>Brien Boise</td><td>New Zealand</td><td>99% Dark & Pure</td><td>1771</td><td>204</td></tr><tr><td>Carla Molina</td><td>USA</td><td>Raspberry Choco</td><td>2114</td><td>186</td></tr><tr><td>Carla Molina</td><td>Canada</td><td>Milk Bars</td><td>10311</td><td>231</td></tr><tr><td>Gunar Cockshoot</td><td>UK</td><td>Mint Chip Choco</td><td>21</td><td>168</td></tr><tr><td>Oby Sorrel</td><td>USA</td><td>Orange Choco</td><td>1974</td><td>195</td></tr><tr><td>Gigi Bohling</td><td>Canada</td><td>Fruit & Nut Bars</td><td>6314</td><td>15</td></tr><tr><td>Oby Sorrel</td><td>New Zealand</td><td>Fruit & Nut Bars</td><td>4683</td><td>30</td></tr><tr><td>Carla Molina</td><td>New Zealand</td><td>85% Dark Bars</td><td>6398</td><td>102</td></tr><tr><td>Barr Faughny</td><td>USA</td><td>99% Dark & Pure</td><td>553</td><td>15</td></tr><tr><td>Brien Boise</td><td>UK</td><td>70% Dark Bites</td><td>7021</td><td>183</td></tr><tr><td>Ram Mahesh</td><td>UK</td><td>After Nines</td><td>5817</td><td>12</td></tr><tr><td>Carla Molina</td><td>UK</td><td>50% Dark Bites</td><td>3976</td><td>72</td></tr><tr><td>Curtice Advani</td><td>Australia</td><td>Organic Choco Syrup</td><td>1134</td><td>282</td></tr><tr><td>Barr Faughny</td><td>UK</td><td>Caramel Stuffed Bars</td><td>6027</td><td>144</td></tr><tr><td>Curtice Advani</td><td>New Zealand</td><td>Mint Chip Choco</td><td>1904</td><td>405</td></tr><tr><td>Ches Bonnell</td><td>India</td><td>Choco Coated Almonds</td><td>3262</td><td>75</td></tr><tr><td>Ram Mahesh</td><td>India</td><td>Organic Choco Syrup</td><td>2289</td><td>135</td></tr><tr><td>Gigi Bohling</td><td>India</td><td>Organic Choco Syrup</td><td>6986</td><td>21</td></tr><tr><td>Barr Faughny</td><td>Australia</td><td>Fruit & Nut Bars</td><td>4417</td><td>153</td></tr><tr><td>Curtice Advani</td><td>India</td><td>Raspberry Choco</td><td>1442</td><td>15</td></tr><tr><td>Gunar Cockshoot</td><td>USA</td><td>50% Dark Bites</td><td>2415</td><td>255</td></tr><tr><td>Barr Faughny</td><td>New Zealand</td><td>99% Dark & Pure</td><td>238</td><td>18</td></tr><tr><td>Curtice Advani</td><td>New Zealand</td><td>Fruit & Nut Bars</td><td>4949</td><td>189</td></tr><tr><td>Gigi Bohling</td><td>Australia</td><td>Choco Coated Almonds</td><td>5075</td><td>21</td></tr><tr><td>Gunar Cockshoot</td><td>Canada</td><td>Mint Chip Choco</td><td>9198</td><td>36</td></tr><tr><td>Curtice Advani</td><td>India</td><td>Manuka Honey Choco</td><td>3339</td><td>75</td></tr><tr><td>Ram Mahesh</td><td>India</td><td>Eclairs</td><td>5019</td><td>156</td></tr><tr><td>Gigi Bohling</td><td>Canada</td><td>Mint Chip Choco</td><td>16184</td><td>39</td></tr><tr><td>Curtice Advani</td><td>Canada</td><td>Spicy Special Slims</td><td>497</td><td>63</td></tr><tr><td>Barr Faughny</td><td>Canada</td><td>Manuka Honey Choco</td><td>8211</td><td>75</td></tr><tr><td>Barr Faughny</td><td>Australia</td><td>Caramel Stuffed Bars</td><td>6580</td><td>183</td></tr><tr><td>Carla Molina</td><td>USA</td><td>Milk Bars</td><td>4760</td><td>69</td></tr><tr><td>Ram Mahesh</td><td>Canada</td><td>White Choc</td><td>5439</td><td>30</td></tr><tr><td>Carla Molina</td><td>India</td><td>Eclairs</td><td>1463</td><td>39</td></tr><tr><td>Gunar Cockshoot</td><td>India</td><td>Choco Coated Almonds</td><td>7777</td><td>504</td></tr><tr><td>Husein Augar</td><td>New Zealand</td><td>Manuka Honey Choco</td><td>1085</td><td>273</td></tr><tr><td>Gigi Bohling</td><td>New Zealand</td><td>Smooth Sliky Salty</td><td>182</td><td>48</td></tr><tr><td>Curtice Advani</td><td>India</td><td>Organic Choco Syrup</td><td>4242</td><td>207</td></tr><tr><td>Curtice Advani</td><td>Canada</td><td>Choco Coated Almonds</td><td>6118</td><td>9</td></tr><tr><td>Oby Sorrel</td><td>Canada</td><td>Fruit & Nut Bars</td><td>2317</td><td>261</td></tr><tr><td>Curtice Advani</td><td>Australia</td><td>Mint Chip Choco</td><td>938</td><td>6</td></tr><tr><td>Brien Boise</td><td>New Zealand</td><td>Raspberry Choco</td><td>9709</td><td>30</td></tr><tr><td>Ches Bonnell</td><td>India</td><td>Orange Choco</td><td>2205</td><td>138</td></tr><tr><td>Ches Bonnell</td><td>New Zealand</td><td>Eclairs</td><td>4487</td><td>111</td></tr><tr><td>Gigi Bohling</td><td>USA</td><td>Drinking Coco</td><td>2415</td><td>15</td></tr><tr><td>Ram Mahesh</td><td>India</td><td>99% Dark & Pure</td><td>4018</td><td>162</td></tr><tr><td>Gigi Bohling</td><td>India</td><td>99% Dark & Pure</td><td>861</td><td>195</td></tr><tr><td>Oby Sorrel</td><td>Australia</td><td>50% Dark Bites</td><td>5586</td><td>525</td></tr><tr><td>Ches Bonnell</td><td>India</td><td>Peanut Butter Cubes</td><td>2226</td><td>48</td></tr><tr><td>Husein Augar</td><td>India</td><td>Caramel Stuffed Bars</td><td>14329</td><td>150</td></tr><tr><td>Husein Augar</td><td>India</td><td>Orange Choco</td><td>8463</td><td>492</td></tr><tr><td>Gigi Bohling</td><td>India</td><td>Manuka Honey Choco</td><td>2891</td><td>102</td></tr><tr><td>Gunar Cockshoot</td><td>Canada</td><td>Fruit & Nut Bars</td><td>3773</td><td>165</td></tr><tr><td>Carla Molina</td><td>Canada</td><td>Caramel Stuffed Bars</td><td>854</td><td>309</td></tr><tr><td>Curtice Advani</td><td>Canada</td><td>Eclairs</td><td>4970</td><td>156</td></tr><tr><td>Husein Augar</td><td>USA</td><td>Baker's Choco Chips</td><td>98</td><td>159</td></tr><tr><td>Gigi Bohling</td><td>USA</td><td>Raspberry Choco</td><td>13391</td><td>201</td></tr><tr><td>Brien Boise</td><td>UK</td><td>Smooth Sliky Salty</td><td>8890</td><td>210</td></tr><tr><td>Barr Faughny</td><td>Australia</td><td>Milk Bars</td><td>56</td><td>51</td></tr><tr><td>Gunar Cockshoot</td><td>Canada</td><td>White Choc</td><td>3339</td><td>39</td></tr><tr><td>Oby Sorrel</td><td>USA</td><td>Drinking Coco</td><td>3808</td><td>279</td></tr><tr><td>Oby Sorrel</td><td>Australia</td><td>Milk Bars</td><td>63</td><td>123</td></tr><tr><td>Barr Faughny</td><td>UK</td><td>Organic Choco Syrup</td><td>7812</td><td>81</td></tr><tr><td>Ram Mahesh</td><td>New Zealand</td><td>99% Dark & Pure</td><td>7693</td><td>21</td></tr><tr><td>Gunar Cockshoot</td><td>Canada</td><td>Caramel Stuffed Bars</td><td>973</td><td>162</td></tr><tr><td>Oby Sorrel</td><td>USA</td><td>Spicy Special Slims</td><td>567</td><td>228</td></tr><tr><td>Oby Sorrel</td><td>Canada</td><td>Manuka Honey Choco</td><td>2471</td><td>342</td></tr><tr><td>Gigi Bohling</td><td>Australia</td><td>Milk Bars</td><td>7189</td><td>54</td></tr><tr><td>Carla Molina</td><td>USA</td><td>Caramel Stuffed Bars</td><td>7455</td><td>216</td></tr><tr><td>Gunar Cockshoot</td><td>India</td><td>Baker's Choco Chips</td><td>3108</td><td>54</td></tr><tr><td>Curtice Advani</td><td>Australia</td><td>White Choc</td><td>469</td><td>75</td></tr><tr><td>Husein Augar</td><td>New Zealand</td><td>Fruit & Nut Bars</td><td>2737</td><td>93</td></tr><tr><td>Husein Augar</td><td>New Zealand</td><td>White Choc</td><td>4305</td><td>156</td></tr><tr><td>Husein Augar</td><td>Australia</td><td>Eclairs</td><td>2408</td><td>9</td></tr><tr><td>Gunar Cockshoot</td><td>Canada</td><td>99% Dark & Pure</td><td>1281</td><td>18</td></tr><tr><td>Ram Mahesh</td><td>USA</td><td>Choco Coated Almonds</td><td>12348</td><td>234</td></tr><tr><td>Gunar Cockshoot</td><td>India</td><td>Caramel Stuffed Bars</td><td>3689</td><td>312</td></tr><tr><td>Ches Bonnell</td><td>Canada</td><td>99% Dark & Pure</td><td>2870</td><td>300</td></tr><tr><td>Barr Faughny</td><td>Canada</td><td>Organic Choco Syrup</td><td>798</td><td>519</td></tr><tr><td>Carla Molina</td><td>New Zealand</td><td>Spicy Special Slims</td><td>2933</td><td>9</td></tr><tr><td>Gigi Bohling</td><td>USA</td><td>Almond Choco</td><td>2744</td><td>9</td></tr><tr><td>Ram Mahesh</td><td>Canada</td><td>Peanut Butter Cubes</td><td>9772</td><td>90</td></tr><tr><td>Ches Bonnell</td><td>India</td><td>White Choc</td><td>1568</td><td>96</td></tr><tr><td>Barr Faughny</td><td>Canada</td><td>Mint Chip Choco</td><td>11417</td><td>21</td></tr><tr><td>Ram Mahesh</td><td>India</td><td>Baker's Choco Chips</td><td>6748</td><td>48</td></tr><tr><td>Oby Sorrel</td><td>Canada</td><td>Organic Choco Syrup</td><td>1407</td><td>72</td></tr><tr><td>Brien Boise</td><td>USA</td><td>Manuka Honey Choco</td><td>2023</td><td>168</td></tr><tr><td>Gigi Bohling</td><td>UK</td><td>Baker's Choco Chips</td><td>5236</td><td>51</td></tr><tr><td>Carla Molina</td><td>Canada</td><td>99% Dark & Pure</td><td>1925</td><td>192</td></tr><tr><td>Ches Bonnell</td><td>New Zealand</td><td>50% Dark Bites</td><td>6608</td><td>225</td></tr><tr><td>Curtice Advani</td><td>India</td><td>Baker's Choco Chips</td><td>8008</td><td>456</td></tr><tr><td>Oby Sorrel</td><td>India</td><td>White Choc</td><td>1428</td><td>93</td></tr><tr><td>Curtice Advani</td><td>India</td><td>Almond Choco</td><td>525</td><td>48</td></tr><tr><td>Curtice Advani</td><td>New Zealand</td><td>Drinking Coco</td><td>1505</td><td>102</td></tr><tr><td>Ches Bonnell</td><td>USA</td><td>70% Dark Bites</td><td>6755</td><td>252</td></tr><tr><td>Barr Faughny</td><td>New Zealand</td><td>Drinking Coco</td><td>11571</td><td>138</td></tr><tr><td>Ram Mahesh</td><td>Australia</td><td>White Choc</td><td>2541</td><td>90</td></tr><tr><td>Carla Molina</td><td>New Zealand</td><td>70% Dark Bites</td><td>1526</td><td>240</td></tr><tr><td>Ram Mahesh</td><td>Australia</td><td>Almond Choco</td><td>6125</td><td>102</td></tr><tr><td>Carla Molina</td><td>USA</td><td>Organic Choco Syrup</td><td>847</td><td>129</td></tr><tr><td>Brien Boise</td><td>USA</td><td>Organic Choco Syrup</td><td>4753</td><td>300</td></tr><tr><td>Curtice Advani</td><td>Australia</td><td>Peanut Butter Cubes</td><td>959</td><td>135</td></tr><tr><td>Ches Bonnell</td><td>USA</td><td>85% Dark Bars</td><td>2793</td><td>114</td></tr><tr><td>Ches Bonnell</td><td>USA</td><td>50% Dark Bites</td><td>4606</td><td>63</td></tr><tr><td>Ches Bonnell</td><td>Canada</td><td>Manuka Honey Choco</td><td>5551</td><td>252</td></tr><tr><td>Oby Sorrel</td><td>Canada</td><td>Choco Coated Almonds</td><td>6657</td><td>303</td></tr><tr><td>Ches Bonnell</td><td>UK</td><td>Eclairs</td><td>4438</td><td>246</td></tr><tr><td>Brien Boise</td><td>Australia</td><td>After Nines</td><td>168</td><td>84</td></tr><tr><td>Ches Bonnell</td><td>India</td><td>Eclairs</td><td>7777</td><td>39</td></tr><tr><td>Gigi Bohling</td><td>Canada</td><td>Eclairs</td><td>3339</td><td>348</td></tr><tr><td>Ches Bonnell</td><td>New Zealand</td><td>Peanut Butter Cubes</td><td>6391</td><td>48</td></tr><tr><td>Gigi Bohling</td><td>New Zealand</td><td>After Nines</td><td>518</td><td>75</td></tr><tr><td>Ches Bonnell</td><td>Australia</td><td>Caramel Stuffed Bars</td><td>5677</td><td>258</td></tr><tr><td>Curtice Advani</td><td>UK</td><td>Eclairs</td><td>6048</td><td>27</td></tr><tr><td>Brien Boise</td><td>Australia</td><td>Choco Coated Almonds</td><td>3752</td><td>213</td></tr><tr><td>Gigi Bohling</td><td>USA</td><td>Manuka Honey Choco</td><td>4480</td><td>357</td></tr><tr><td>Husein Augar</td><td>New Zealand</td><td>Almond Choco</td><td>259</td><td>207</td></tr><tr><td>Brien Boise</td><td>New Zealand</td><td>70% Dark Bites</td><td>42</td><td>150</td></tr><tr><td>Carla Molina</td><td>Canada</td><td>Baker's Choco Chips</td><td>98</td><td>204</td></tr><tr><td>Ches Bonnell</td><td>USA</td><td>Organic Choco Syrup</td><td>2478</td><td>21</td></tr><tr><td>Carla Molina</td><td>India</td><td>Peanut Butter Cubes</td><td>7847</td><td>174</td></tr><tr><td>Barr Faughny</td><td>New Zealand</td><td>Eclairs</td><td>9926</td><td>201</td></tr><tr><td>Brien Boise</td><td>Australia</td><td>Milk Bars</td><td>819</td><td>510</td></tr><tr><td>Curtice Advani</td><td>UK</td><td>Manuka Honey Choco</td><td>3052</td><td>378</td></tr><tr><td>Husein Augar</td><td>India</td><td>Spicy Special Slims</td><td>6832</td><td>27</td></tr><tr><td>Barr Faughny</td><td>UK</td><td>Mint Chip Choco</td><td>2016</td><td>117</td></tr><tr><td>Curtice Advani</td><td>Australia</td><td>Spicy Special Slims</td><td>7322</td><td>36</td></tr><tr><td>Brien Boise</td><td>USA</td><td>Peanut Butter Cubes</td><td>357</td><td>126</td></tr><tr><td>Husein Augar</td><td>UK</td><td>White Choc</td><td>3192</td><td>72</td></tr><tr><td>Ches Bonnell</td><td>Canada</td><td>After Nines</td><td>8435</td><td>42</td></tr><tr><td>Ram Mahesh</td><td>UK</td><td>Manuka Honey Choco</td><td>0</td><td>135</td></tr><tr><td>Ches Bonnell</td><td>India</td><td>85% Dark Bars</td><td>8862</td><td>189</td></tr><tr><td>Curtice Advani</td><td>New Zealand</td><td>Caramel Stuffed Bars</td><td>3556</td><td>459</td></tr><tr><td>Gigi Bohling</td><td>India</td><td>Raspberry Choco</td><td>7280</td><td>201</td></tr><tr><td>Curtice Advani</td><td>India</td><td>70% Dark Bites</td><td>3402</td><td>366</td></tr><tr><td>Gunar Cockshoot</td><td>New Zealand</td><td>Manuka Honey Choco</td><td>4592</td><td>324</td></tr><tr><td>Husein Augar</td><td>USA</td><td>Raspberry Choco</td><td>7833</td><td>243</td></tr><tr><td>Barr Faughny</td><td>UK</td><td>Spicy Special Slims</td><td>7651</td><td>213</td></tr><tr><td>Ram Mahesh</td><td>USA</td><td>70% Dark Bites</td><td>2275</td><td>447</td></tr><tr><td>Ram Mahesh</td><td>Australia</td><td>Milk Bars</td><td>5670</td><td>297</td></tr><tr><td>Ches Bonnell</td><td>USA</td><td>Mint Chip Choco</td><td>2135</td><td>27</td></tr><tr><td>Ram Mahesh</td><td>India</td><td>Fruit & Nut Bars</td><td>2779</td><td>75</td></tr><tr><td>Oby Sorrel</td><td>UK</td><td>Peanut Butter Cubes</td><td>12950</td><td>30</td></tr><tr><td>Ches Bonnell</td><td>Canada</td><td>Drinking Coco</td><td>2646</td><td>177</td></tr><tr><td>Ram Mahesh</td><td>India</td><td>Peanut Butter Cubes</td><td>3794</td><td>159</td></tr><tr><td>Gunar Cockshoot</td><td>USA</td><td>Peanut Butter Cubes</td><td>819</td><td>306</td></tr><tr><td>Gunar Cockshoot</td><td>India</td><td>Orange Choco</td><td>2583</td><td>18</td></tr><tr><td>Ches Bonnell</td><td>USA</td><td>99% Dark & Pure</td><td>4585</td><td>240</td></tr><tr><td>Gigi Bohling</td><td>India</td><td>Peanut Butter Cubes</td><td>1652</td><td>93</td></tr><tr><td>Oby Sorrel</td><td>India</td><td>Baker's Choco Chips</td><td>4991</td><td>9</td></tr><tr><td>Brien Boise</td><td>India</td><td>Mint Chip Choco</td><td>2009</td><td>219</td></tr><tr><td>Barr Faughny</td><td>UK</td><td>After Nines</td><td>1568</td><td>141</td></tr><tr><td>Carla Molina</td><td>New Zealand</td><td>Orange Choco</td><td>3388</td><td>123</td></tr><tr><td>Ram Mahesh</td><td>Australia</td><td>85% Dark Bars</td><td>623</td><td>51</td></tr><tr><td>Curtice Advani</td><td>Canada</td><td>Almond Choco</td><td>10073</td><td>120</td></tr><tr><td>Brien Boise</td><td>UK</td><td>Baker's Choco Chips</td><td>1561</td><td>27</td></tr><tr><td>Husein Augar</td><td>Canada</td><td>Organic Choco Syrup</td><td>11522</td><td>204</td></tr><tr><td>Curtice Advani</td><td>Australia</td><td>Milk Bars</td><td>2317</td><td>123</td></tr><tr><td>Oby Sorrel</td><td>New Zealand</td><td>Caramel Stuffed Bars</td><td>3059</td><td>27</td></tr><tr><td>Carla Molina</td><td>New Zealand</td><td>Baker's Choco Chips</td><td>2324</td><td>177</td></tr><tr><td>Gunar Cockshoot</td><td>UK</td><td>Baker's Choco Chips</td><td>4956</td><td>171</td></tr><tr><td>Oby Sorrel</td><td>India</td><td>99% Dark & Pure</td><td>5355</td><td>204</td></tr><tr><td>Gunar Cockshoot</td><td>India</td><td>50% Dark Bites</td><td>7259</td><td>276</td></tr><tr><td>Brien Boise</td><td>New Zealand</td><td>Baker's Choco Chips</td><td>6279</td><td>45</td></tr><tr><td>Ram Mahesh</td><td>Australia</td><td>Manuka Honey Choco</td><td>2541</td><td>45</td></tr><tr><td>Curtice Advani</td><td>USA</td><td>Organic Choco Syrup</td><td>3864</td><td>177</td></tr><tr><td>Gigi Bohling</td><td>Canada</td><td>Milk Bars</td><td>6146</td><td>63</td></tr><tr><td>Husein Augar</td><td>UK</td><td>Drinking Coco</td><td>2639</td><td>204</td></tr><tr><td>Brien Boise</td><td>New Zealand</td><td>After Nines</td><td>1890</td><td>195</td></tr><tr><td>Ches Bonnell</td><td>India</td><td>50% Dark Bites</td><td>1932</td><td>369</td></tr><tr><td>Gunar Cockshoot</td><td>India</td><td>White Choc</td><td>6300</td><td>42</td></tr><tr><td>Curtice Advani</td><td>New Zealand</td><td>70% Dark Bites</td><td>560</td><td>81</td></tr><tr><td>Husein Augar</td><td>New Zealand</td><td>Baker's Choco Chips</td><td>2856</td><td>246</td></tr><tr><td>Husein Augar</td><td>India</td><td>Eclairs</td><td>707</td><td>174</td></tr><tr><td>Brien Boise</td><td>USA</td><td>70% Dark Bites</td><td>3598</td><td>81</td></tr><tr><td>Ram Mahesh</td><td>USA</td><td>After Nines</td><td>6853</td><td>372</td></tr><tr><td>Ram Mahesh</td><td>USA</td><td>Mint Chip Choco</td><td>4725</td><td>174</td></tr><tr><td>Carla Molina</td><td>Canada</td><td>Choco Coated Almonds</td><td>10304</td><td>84</td></tr><tr><td>Carla Molina</td><td>India</td><td>Mint Chip Choco</td><td>1274</td><td>225</td></tr><tr><td>Gigi Bohling</td><td>Canada</td><td>70% Dark Bites</td><td>1526</td><td>105</td></tr><tr><td>Ram Mahesh</td><td>UK</td><td>Caramel Stuffed Bars</td><td>3101</td><td>225</td></tr><tr><td>Barr Faughny</td><td>New Zealand</td><td>50% Dark Bites</td><td>1057</td><td>54</td></tr><tr><td>Ches Bonnell</td><td>New Zealand</td><td>Baker's Choco Chips</td><td>5306</td><td>0</td></tr><tr><td>Gigi Bohling</td><td>UK</td><td>85% Dark Bars</td><td>4018</td><td>171</td></tr><tr><td>Husein Augar</td><td>India</td><td>Mint Chip Choco</td><td>938</td><td>189</td></tr><tr><td>Ches Bonnell</td><td>Australia</td><td>Drinking Coco</td><td>1778</td><td>270</td></tr><tr><td>Curtice Advani</td><td>UK</td><td>70% Dark Bites</td><td>1638</td><td>63</td></tr><tr><td>Carla Molina</td><td>Australia</td><td>White Choc</td><td>154</td><td>21</td></tr><tr><td>Ches Bonnell</td><td>New Zealand</td><td>After Nines</td><td>9835</td><td>207</td></tr><tr><td>Husein Augar</td><td>New Zealand</td><td>Orange Choco</td><td>7273</td><td>96</td></tr><tr><td>Gigi Bohling</td><td>UK</td><td>After Nines</td><td>6909</td><td>81</td></tr><tr><td>Husein Augar</td><td>UK</td><td>85% Dark Bars</td><td>3920</td><td>306</td></tr><tr><td>Oby Sorrel</td><td>UK</td><td>Spicy Special Slims</td><td>4858</td><td>279</td></tr><tr><td>Barr Faughny</td><td>Australia</td><td>Almond Choco</td><td>3549</td><td>3</td></tr><tr><td>Ches Bonnell</td><td>UK</td><td>Organic Choco Syrup</td><td>966</td><td>198</td></tr><tr><td>Gigi Bohling</td><td>UK</td><td>Drinking Coco</td><td>385</td><td>249</td></tr><tr><td>Curtice Advani</td><td>India</td><td>Mint Chip Choco</td><td>2219</td><td>75</td></tr><tr><td>Husein Augar</td><td>Canada</td><td>Choco Coated Almonds</td><td>2954</td><td>189</td></tr><tr><td>Ches Bonnell</td><td>Canada</td><td>Choco Coated Almonds</td><td>280</td><td>87</td></tr><tr><td>Carla Molina</td><td>Canada</td><td>70% Dark Bites</td><td>6118</td><td>174</td></tr><tr><td>Barr Faughny</td><td>UK</td><td>Raspberry Choco</td><td>4802</td><td>36</td></tr><tr><td>Husein Augar</td><td>Australia</td><td>85% Dark Bars</td><td>4137</td><td>60</td></tr><tr><td>Gunar Cockshoot</td><td>USA</td><td>Fruit & Nut Bars</td><td>2023</td><td>78</td></tr><tr><td>Husein Augar</td><td>Canada</td><td>70% Dark Bites</td><td>9051</td><td>57</td></tr><tr><td>Husein Augar</td><td>New Zealand</td><td>Caramel Stuffed Bars</td><td>2919</td><td>45</td></tr><tr><td>Carla Molina</td><td>Australia</td><td>After Nines</td><td>5915</td><td>3</td></tr><tr><td>Oby Sorrel</td><td>USA</td><td>Raspberry Choco</td><td>2562</td><td>6</td></tr><tr><td>Gigi Bohling</td><td>New Zealand</td><td>White Choc</td><td>8813</td><td>21</td></tr><tr><td>Gigi Bohling</td><td>Canada</td><td>Drinking Coco</td><td>6111</td><td>3</td></tr><tr><td>Brien Boise</td><td>India</td><td>Smooth Sliky Salty</td><td>3507</td><td>288</td></tr><tr><td>Curtice Advani</td><td>Canada</td><td>Milk Bars</td><td>4319</td><td>30</td></tr><tr><td>Ram Mahesh</td><td>Australia</td><td>Baker's Choco Chips</td><td>609</td><td>87</td></tr><tr><td>Ram Mahesh</td><td>UK</td><td>Organic Choco Syrup</td><td>6370</td><td>30</td></tr><tr><td>Gigi Bohling</td><td>Australia</td><td>99% Dark & Pure</td><td>5474</td><td>168</td></tr><tr><td>Ram Mahesh</td><td>Canada</td><td>Organic Choco Syrup</td><td>3164</td><td>306</td></tr><tr><td>Curtice Advani</td><td>USA</td><td>Almond Choco</td><td>1302</td><td>402</td></tr><tr><td>Gunar Cockshoot</td><td>New Zealand</td><td>Caramel Stuffed Bars</td><td>7308</td><td>327</td></tr><tr><td>Ram Mahesh</td><td>New Zealand</td><td>Organic Choco Syrup</td><td>6132</td><td>93</td></tr><tr><td>Oby Sorrel</td><td>USA</td><td>50% Dark Bites</td><td>3472</td><td>96</td></tr><tr><td>Brien Boise</td><td>UK</td><td>Drinking Coco</td><td>9660</td><td>27</td></tr><tr><td>Husein Augar</td><td>Australia</td><td>Baker's Choco Chips</td><td>2436</td><td>99</td></tr><tr><td>Husein Augar</td><td>Australia</td><td>Peanut Butter Cubes</td><td>9506</td><td>87</td></tr><tr><td>Oby Sorrel</td><td>New Zealand</td><td>Spicy Special Slims</td><td>245</td><td>288</td></tr><tr><td>Brien Boise</td><td>USA</td><td>Orange Choco</td><td>2702</td><td>363</td></tr><tr><td>Oby Sorrel</td><td>India</td><td>Eclairs</td><td>700</td><td>87</td></tr><tr><td>Curtice Advani</td><td>India</td><td>Eclairs</td><td>3759</td><td>150</td></tr><tr><td>Barr Faughny</td><td>USA</td><td>Eclairs</td><td>1589</td><td>303</td></tr><tr><td>Ches Bonnell</td><td>USA</td><td>Caramel Stuffed Bars</td><td>5194</td><td>288</td></tr><tr><td>Oby Sorrel</td><td>Canada</td><td>Milk Bars</td><td>945</td><td>75</td></tr><tr><td>Ram Mahesh</td><td>Australia</td><td>Smooth Sliky Salty</td><td>1988</td><td>39</td></tr><tr><td>Curtice Advani</td><td>India</td><td>Choco Coated Almonds</td><td>6734</td><td>123</td></tr><tr><td>Ram Mahesh</td><td>Canada</td><td>Almond Choco</td><td>217</td><td>36</td></tr><tr><td>Gigi Bohling</td><td>India</td><td>After Nines</td><td>6279</td><td>237</td></tr><tr><td>Ram Mahesh</td><td>Canada</td><td>Milk Bars</td><td>4424</td><td>201</td></tr><tr><td>Barr Faughny</td><td>Canada</td><td>Eclairs</td><td>189</td><td>48</td></tr><tr><td>Gigi Bohling</td><td>USA</td><td>After Nines</td><td>490</td><td>84</td></tr><tr><td>Brien Boise</td><td>New Zealand</td><td>Spicy Special Slims</td><td>434</td><td>87</td></tr><tr><td>Ches Bonnell</td><td>Australia</td><td>70% Dark Bites</td><td>10129</td><td>312</td></tr><tr><td>Gunar Cockshoot</td><td>UK</td><td>Caramel Stuffed Bars</td><td>1652</td><td>102</td></tr><tr><td>Brien Boise</td><td>Australia</td><td>Spicy Special Slims</td><td>6433</td><td>78</td></tr><tr><td>Gunar Cockshoot</td><td>India</td><td>Fruit & Nut Bars</td><td>2212</td><td>117</td></tr><tr><td>Carla Molina</td><td>USA</td><td>99% Dark & Pure</td><td>609</td><td>99</td></tr><tr><td>Ram Mahesh</td><td>USA</td><td>85% Dark Bars</td><td>1638</td><td>48</td></tr><tr><td>Ches Bonnell</td><td>India</td><td>Raspberry Choco</td><td>3829</td><td>24</td></tr><tr><td>Ram Mahesh</td><td>UK</td><td>Raspberry Choco</td><td>5775</td><td>42</td></tr><tr><td>Curtice Advani</td><td>USA</td><td>Orange Choco</td><td>1071</td><td>270</td></tr><tr><td>Brien Boise</td><td>Canada</td><td>Fruit & Nut Bars</td><td>5019</td><td>150</td></tr><tr><td>Barr Faughny</td><td>New Zealand</td><td>Raspberry Choco</td><td>2863</td><td>42</td></tr><tr><td>Ram Mahesh</td><td>USA</td><td>Manuka Honey Choco</td><td>1617</td><td>126</td></tr><tr><td>Curtice Advani</td><td>New Zealand</td><td>Baker's Choco Chips</td><td>6818</td><td>6</td></tr><tr><td>Gunar Cockshoot</td><td>USA</td><td>Raspberry Choco</td><td>6657</td><td>276</td></tr><tr><td>Gunar Cockshoot</td><td>India</td><td>Eclairs</td><td>2919</td><td>93</td></tr><tr><td>Barr Faughny</td><td>Canada</td><td>Smooth Sliky Salty</td><td>3094</td><td>246</td></tr><tr><td>Curtice Advani</td><td>UK</td><td>85% Dark Bars</td><td>2989</td><td>3</td></tr><tr><td>Brien Boise</td><td>Australia</td><td>Organic Choco Syrup</td><td>2268</td><td>63</td></tr><tr><td>Gigi Bohling</td><td>USA</td><td>Smooth Sliky Salty</td><td>4753</td><td>246</td></tr><tr><td>Barr Faughny</td><td>India</td><td>99% Dark & Pure</td><td>7511</td><td>120</td></tr><tr><td>Barr Faughny</td><td>Australia</td><td>Smooth Sliky Salty</td><td>4326</td><td>348</td></tr><tr><td>Carla Molina</td><td>India</td><td>Fruit & Nut Bars</td><td>4935</td><td>126</td></tr><tr><td>Curtice Advani</td><td>USA</td><td>70% Dark Bites</td><td>4781</td><td>123</td></tr><tr><td>Gigi Bohling</td><td>Australia</td><td>White Choc</td><td>7483</td><td>45</td></tr><tr><td>Oby Sorrel</td><td>Australia</td><td>Almond Choco</td><td>6860</td><td>126</td></tr><tr><td>Ram Mahesh</td><td>New Zealand</td><td>Manuka Honey Choco</td><td>9002</td><td>72</td></tr><tr><td>Curtice Advani</td><td>Canada</td><td>Manuka Honey Choco</td><td>1400</td><td>135</td></tr><tr><td>Oby Sorrel</td><td>India</td><td>After Nines</td><td>4053</td><td>24</td></tr><tr><td>Ches Bonnell</td><td>Canada</td><td>Smooth Sliky Salty</td><td>2149</td><td>117</td></tr><tr><td>Gunar Cockshoot</td><td>UK</td><td>Manuka Honey Choco</td><td>3640</td><td>51</td></tr><tr><td>Barr Faughny</td><td>UK</td><td>Fruit & Nut Bars</td><td>630</td><td>36</td></tr><tr><td>Husein Augar</td><td>USA</td><td>Organic Choco Syrup</td><td>2429</td><td>144</td></tr><tr><td>Husein Augar</td><td>Canada</td><td>White Choc</td><td>2142</td><td>114</td></tr><tr><td>Ches Bonnell</td><td>New Zealand</td><td>70% Dark Bites</td><td>6454</td><td>54</td></tr><tr><td>Ches Bonnell</td><td>New Zealand</td><td>Mint Chip Choco</td><td>4487</td><td>333</td></tr><tr><td>Gunar Cockshoot</td><td>New Zealand</td><td>Almond Choco</td><td>938</td><td>366</td></tr><tr><td>Gunar Cockshoot</td><td>Australia</td><td>Baker's Choco Chips</td><td>8841</td><td>303</td></tr><tr><td>Barr Faughny</td><td>UK</td><td>Peanut Butter Cubes</td><td>4018</td><td>126</td></tr><tr><td>Carla Molina</td><td>New Zealand</td><td>Raspberry Choco</td><td>714</td><td>231</td></tr><tr><td>Husein Augar</td><td>Australia</td><td>White Choc</td><td>3850</td><td>102</td></tr></tbody></table></div>"
      ]
     },
     "metadata": {
      "application/vnd.databricks.v1+output": {
       "addedWidgets": {},
       "aggData": [],
       "aggError": "",
       "aggOverflow": false,
       "aggSchema": [],
       "aggSeriesLimitReached": false,
       "aggType": "",
       "arguments": {},
       "columnCustomDisplayInfos": {},
       "data": [
        [
         "Ram Mahesh",
         "New Zealand",
         "70% Dark Bites",
         1624,
         114
        ],
        [
         "Brien Boise",
         "USA",
         "Choco Coated Almonds",
         6706,
         459
        ],
        [
         "Husein Augar",
         "USA",
         "Almond Choco",
         959,
         147
        ],
        [
         "Carla Molina",
         "Canada",
         "Drinking Coco",
         9632,
         288
        ],
        [
         "Curtice Advani",
         "UK",
         "White Choc",
         2100,
         414
        ],
        [
         "Ram Mahesh",
         "USA",
         "Peanut Butter Cubes",
         8869,
         432
        ],
        [
         "Curtice Advani",
         "Australia",
         "Smooth Sliky Salty",
         2681,
         54
        ],
        [
         "Brien Boise",
         "USA",
         "After Nines",
         5012,
         210
        ],
        [
         "Ches Bonnell",
         "Australia",
         "50% Dark Bites",
         1281,
         75
        ],
        [
         "Gigi Bohling",
         "New Zealand",
         "50% Dark Bites",
         4991,
         12
        ],
        [
         "Barr Faughny",
         "UK",
         "White Choc",
         1785,
         462
        ],
        [
         "Gunar Cockshoot",
         "New Zealand",
         "Eclairs",
         3983,
         144
        ],
        [
         "Husein Augar",
         "Australia",
         "Mint Chip Choco",
         2646,
         120
        ],
        [
         "Barr Faughny",
         "India",
         "Milk Bars",
         252,
         54
        ],
        [
         "Gunar Cockshoot",
         "USA",
         "White Choc",
         2464,
         234
        ],
        [
         "Gunar Cockshoot",
         "USA",
         "Manuka Honey Choco",
         2114,
         66
        ],
        [
         "Curtice Advani",
         "New Zealand",
         "Smooth Sliky Salty",
         7693,
         87
        ],
        [
         "Gigi Bohling",
         "India",
         "Orange Choco",
         15610,
         339
        ],
        [
         "Carla Molina",
         "India",
         "After Nines",
         336,
         144
        ],
        [
         "Barr Faughny",
         "UK",
         "Orange Choco",
         9443,
         162
        ],
        [
         "Husein Augar",
         "India",
         "Fruit & Nut Bars",
         8155,
         90
        ],
        [
         "Brien Boise",
         "Australia",
         "Fruit & Nut Bars",
         1701,
         234
        ],
        [
         "Oby Sorrel",
         "Australia",
         "After Nines",
         2205,
         141
        ],
        [
         "Brien Boise",
         "New Zealand",
         "99% Dark & Pure",
         1771,
         204
        ],
        [
         "Carla Molina",
         "USA",
         "Raspberry Choco",
         2114,
         186
        ],
        [
         "Carla Molina",
         "Canada",
         "Milk Bars",
         10311,
         231
        ],
        [
         "Gunar Cockshoot",
         "UK",
         "Mint Chip Choco",
         21,
         168
        ],
        [
         "Oby Sorrel",
         "USA",
         "Orange Choco",
         1974,
         195
        ],
        [
         "Gigi Bohling",
         "Canada",
         "Fruit & Nut Bars",
         6314,
         15
        ],
        [
         "Oby Sorrel",
         "New Zealand",
         "Fruit & Nut Bars",
         4683,
         30
        ],
        [
         "Carla Molina",
         "New Zealand",
         "85% Dark Bars",
         6398,
         102
        ],
        [
         "Barr Faughny",
         "USA",
         "99% Dark & Pure",
         553,
         15
        ],
        [
         "Brien Boise",
         "UK",
         "70% Dark Bites",
         7021,
         183
        ],
        [
         "Ram Mahesh",
         "UK",
         "After Nines",
         5817,
         12
        ],
        [
         "Carla Molina",
         "UK",
         "50% Dark Bites",
         3976,
         72
        ],
        [
         "Curtice Advani",
         "Australia",
         "Organic Choco Syrup",
         1134,
         282
        ],
        [
         "Barr Faughny",
         "UK",
         "Caramel Stuffed Bars",
         6027,
         144
        ],
        [
         "Curtice Advani",
         "New Zealand",
         "Mint Chip Choco",
         1904,
         405
        ],
        [
         "Ches Bonnell",
         "India",
         "Choco Coated Almonds",
         3262,
         75
        ],
        [
         "Ram Mahesh",
         "India",
         "Organic Choco Syrup",
         2289,
         135
        ],
        [
         "Gigi Bohling",
         "India",
         "Organic Choco Syrup",
         6986,
         21
        ],
        [
         "Barr Faughny",
         "Australia",
         "Fruit & Nut Bars",
         4417,
         153
        ],
        [
         "Curtice Advani",
         "India",
         "Raspberry Choco",
         1442,
         15
        ],
        [
         "Gunar Cockshoot",
         "USA",
         "50% Dark Bites",
         2415,
         255
        ],
        [
         "Barr Faughny",
         "New Zealand",
         "99% Dark & Pure",
         238,
         18
        ],
        [
         "Curtice Advani",
         "New Zealand",
         "Fruit & Nut Bars",
         4949,
         189
        ],
        [
         "Gigi Bohling",
         "Australia",
         "Choco Coated Almonds",
         5075,
         21
        ],
        [
         "Gunar Cockshoot",
         "Canada",
         "Mint Chip Choco",
         9198,
         36
        ],
        [
         "Curtice Advani",
         "India",
         "Manuka Honey Choco",
         3339,
         75
        ],
        [
         "Ram Mahesh",
         "India",
         "Eclairs",
         5019,
         156
        ],
        [
         "Gigi Bohling",
         "Canada",
         "Mint Chip Choco",
         16184,
         39
        ],
        [
         "Curtice Advani",
         "Canada",
         "Spicy Special Slims",
         497,
         63
        ],
        [
         "Barr Faughny",
         "Canada",
         "Manuka Honey Choco",
         8211,
         75
        ],
        [
         "Barr Faughny",
         "Australia",
         "Caramel Stuffed Bars",
         6580,
         183
        ],
        [
         "Carla Molina",
         "USA",
         "Milk Bars",
         4760,
         69
        ],
        [
         "Ram Mahesh",
         "Canada",
         "White Choc",
         5439,
         30
        ],
        [
         "Carla Molina",
         "India",
         "Eclairs",
         1463,
         39
        ],
        [
         "Gunar Cockshoot",
         "India",
         "Choco Coated Almonds",
         7777,
         504
        ],
        [
         "Husein Augar",
         "New Zealand",
         "Manuka Honey Choco",
         1085,
         273
        ],
        [
         "Gigi Bohling",
         "New Zealand",
         "Smooth Sliky Salty",
         182,
         48
        ],
        [
         "Curtice Advani",
         "India",
         "Organic Choco Syrup",
         4242,
         207
        ],
        [
         "Curtice Advani",
         "Canada",
         "Choco Coated Almonds",
         6118,
         9
        ],
        [
         "Oby Sorrel",
         "Canada",
         "Fruit & Nut Bars",
         2317,
         261
        ],
        [
         "Curtice Advani",
         "Australia",
         "Mint Chip Choco",
         938,
         6
        ],
        [
         "Brien Boise",
         "New Zealand",
         "Raspberry Choco",
         9709,
         30
        ],
        [
         "Ches Bonnell",
         "India",
         "Orange Choco",
         2205,
         138
        ],
        [
         "Ches Bonnell",
         "New Zealand",
         "Eclairs",
         4487,
         111
        ],
        [
         "Gigi Bohling",
         "USA",
         "Drinking Coco",
         2415,
         15
        ],
        [
         "Ram Mahesh",
         "India",
         "99% Dark & Pure",
         4018,
         162
        ],
        [
         "Gigi Bohling",
         "India",
         "99% Dark & Pure",
         861,
         195
        ],
        [
         "Oby Sorrel",
         "Australia",
         "50% Dark Bites",
         5586,
         525
        ],
        [
         "Ches Bonnell",
         "India",
         "Peanut Butter Cubes",
         2226,
         48
        ],
        [
         "Husein Augar",
         "India",
         "Caramel Stuffed Bars",
         14329,
         150
        ],
        [
         "Husein Augar",
         "India",
         "Orange Choco",
         8463,
         492
        ],
        [
         "Gigi Bohling",
         "India",
         "Manuka Honey Choco",
         2891,
         102
        ],
        [
         "Gunar Cockshoot",
         "Canada",
         "Fruit & Nut Bars",
         3773,
         165
        ],
        [
         "Carla Molina",
         "Canada",
         "Caramel Stuffed Bars",
         854,
         309
        ],
        [
         "Curtice Advani",
         "Canada",
         "Eclairs",
         4970,
         156
        ],
        [
         "Husein Augar",
         "USA",
         "Baker's Choco Chips",
         98,
         159
        ],
        [
         "Gigi Bohling",
         "USA",
         "Raspberry Choco",
         13391,
         201
        ],
        [
         "Brien Boise",
         "UK",
         "Smooth Sliky Salty",
         8890,
         210
        ],
        [
         "Barr Faughny",
         "Australia",
         "Milk Bars",
         56,
         51
        ],
        [
         "Gunar Cockshoot",
         "Canada",
         "White Choc",
         3339,
         39
        ],
        [
         "Oby Sorrel",
         "USA",
         "Drinking Coco",
         3808,
         279
        ],
        [
         "Oby Sorrel",
         "Australia",
         "Milk Bars",
         63,
         123
        ],
        [
         "Barr Faughny",
         "UK",
         "Organic Choco Syrup",
         7812,
         81
        ],
        [
         "Ram Mahesh",
         "New Zealand",
         "99% Dark & Pure",
         7693,
         21
        ],
        [
         "Gunar Cockshoot",
         "Canada",
         "Caramel Stuffed Bars",
         973,
         162
        ],
        [
         "Oby Sorrel",
         "USA",
         "Spicy Special Slims",
         567,
         228
        ],
        [
         "Oby Sorrel",
         "Canada",
         "Manuka Honey Choco",
         2471,
         342
        ],
        [
         "Gigi Bohling",
         "Australia",
         "Milk Bars",
         7189,
         54
        ],
        [
         "Carla Molina",
         "USA",
         "Caramel Stuffed Bars",
         7455,
         216
        ],
        [
         "Gunar Cockshoot",
         "India",
         "Baker's Choco Chips",
         3108,
         54
        ],
        [
         "Curtice Advani",
         "Australia",
         "White Choc",
         469,
         75
        ],
        [
         "Husein Augar",
         "New Zealand",
         "Fruit & Nut Bars",
         2737,
         93
        ],
        [
         "Husein Augar",
         "New Zealand",
         "White Choc",
         4305,
         156
        ],
        [
         "Husein Augar",
         "Australia",
         "Eclairs",
         2408,
         9
        ],
        [
         "Gunar Cockshoot",
         "Canada",
         "99% Dark & Pure",
         1281,
         18
        ],
        [
         "Ram Mahesh",
         "USA",
         "Choco Coated Almonds",
         12348,
         234
        ],
        [
         "Gunar Cockshoot",
         "India",
         "Caramel Stuffed Bars",
         3689,
         312
        ],
        [
         "Ches Bonnell",
         "Canada",
         "99% Dark & Pure",
         2870,
         300
        ],
        [
         "Barr Faughny",
         "Canada",
         "Organic Choco Syrup",
         798,
         519
        ],
        [
         "Carla Molina",
         "New Zealand",
         "Spicy Special Slims",
         2933,
         9
        ],
        [
         "Gigi Bohling",
         "USA",
         "Almond Choco",
         2744,
         9
        ],
        [
         "Ram Mahesh",
         "Canada",
         "Peanut Butter Cubes",
         9772,
         90
        ],
        [
         "Ches Bonnell",
         "India",
         "White Choc",
         1568,
         96
        ],
        [
         "Barr Faughny",
         "Canada",
         "Mint Chip Choco",
         11417,
         21
        ],
        [
         "Ram Mahesh",
         "India",
         "Baker's Choco Chips",
         6748,
         48
        ],
        [
         "Oby Sorrel",
         "Canada",
         "Organic Choco Syrup",
         1407,
         72
        ],
        [
         "Brien Boise",
         "USA",
         "Manuka Honey Choco",
         2023,
         168
        ],
        [
         "Gigi Bohling",
         "UK",
         "Baker's Choco Chips",
         5236,
         51
        ],
        [
         "Carla Molina",
         "Canada",
         "99% Dark & Pure",
         1925,
         192
        ],
        [
         "Ches Bonnell",
         "New Zealand",
         "50% Dark Bites",
         6608,
         225
        ],
        [
         "Curtice Advani",
         "India",
         "Baker's Choco Chips",
         8008,
         456
        ],
        [
         "Oby Sorrel",
         "India",
         "White Choc",
         1428,
         93
        ],
        [
         "Curtice Advani",
         "India",
         "Almond Choco",
         525,
         48
        ],
        [
         "Curtice Advani",
         "New Zealand",
         "Drinking Coco",
         1505,
         102
        ],
        [
         "Ches Bonnell",
         "USA",
         "70% Dark Bites",
         6755,
         252
        ],
        [
         "Barr Faughny",
         "New Zealand",
         "Drinking Coco",
         11571,
         138
        ],
        [
         "Ram Mahesh",
         "Australia",
         "White Choc",
         2541,
         90
        ],
        [
         "Carla Molina",
         "New Zealand",
         "70% Dark Bites",
         1526,
         240
        ],
        [
         "Ram Mahesh",
         "Australia",
         "Almond Choco",
         6125,
         102
        ],
        [
         "Carla Molina",
         "USA",
         "Organic Choco Syrup",
         847,
         129
        ],
        [
         "Brien Boise",
         "USA",
         "Organic Choco Syrup",
         4753,
         300
        ],
        [
         "Curtice Advani",
         "Australia",
         "Peanut Butter Cubes",
         959,
         135
        ],
        [
         "Ches Bonnell",
         "USA",
         "85% Dark Bars",
         2793,
         114
        ],
        [
         "Ches Bonnell",
         "USA",
         "50% Dark Bites",
         4606,
         63
        ],
        [
         "Ches Bonnell",
         "Canada",
         "Manuka Honey Choco",
         5551,
         252
        ],
        [
         "Oby Sorrel",
         "Canada",
         "Choco Coated Almonds",
         6657,
         303
        ],
        [
         "Ches Bonnell",
         "UK",
         "Eclairs",
         4438,
         246
        ],
        [
         "Brien Boise",
         "Australia",
         "After Nines",
         168,
         84
        ],
        [
         "Ches Bonnell",
         "India",
         "Eclairs",
         7777,
         39
        ],
        [
         "Gigi Bohling",
         "Canada",
         "Eclairs",
         3339,
         348
        ],
        [
         "Ches Bonnell",
         "New Zealand",
         "Peanut Butter Cubes",
         6391,
         48
        ],
        [
         "Gigi Bohling",
         "New Zealand",
         "After Nines",
         518,
         75
        ],
        [
         "Ches Bonnell",
         "Australia",
         "Caramel Stuffed Bars",
         5677,
         258
        ],
        [
         "Curtice Advani",
         "UK",
         "Eclairs",
         6048,
         27
        ],
        [
         "Brien Boise",
         "Australia",
         "Choco Coated Almonds",
         3752,
         213
        ],
        [
         "Gigi Bohling",
         "USA",
         "Manuka Honey Choco",
         4480,
         357
        ],
        [
         "Husein Augar",
         "New Zealand",
         "Almond Choco",
         259,
         207
        ],
        [
         "Brien Boise",
         "New Zealand",
         "70% Dark Bites",
         42,
         150
        ],
        [
         "Carla Molina",
         "Canada",
         "Baker's Choco Chips",
         98,
         204
        ],
        [
         "Ches Bonnell",
         "USA",
         "Organic Choco Syrup",
         2478,
         21
        ],
        [
         "Carla Molina",
         "India",
         "Peanut Butter Cubes",
         7847,
         174
        ],
        [
         "Barr Faughny",
         "New Zealand",
         "Eclairs",
         9926,
         201
        ],
        [
         "Brien Boise",
         "Australia",
         "Milk Bars",
         819,
         510
        ],
        [
         "Curtice Advani",
         "UK",
         "Manuka Honey Choco",
         3052,
         378
        ],
        [
         "Husein Augar",
         "India",
         "Spicy Special Slims",
         6832,
         27
        ],
        [
         "Barr Faughny",
         "UK",
         "Mint Chip Choco",
         2016,
         117
        ],
        [
         "Curtice Advani",
         "Australia",
         "Spicy Special Slims",
         7322,
         36
        ],
        [
         "Brien Boise",
         "USA",
         "Peanut Butter Cubes",
         357,
         126
        ],
        [
         "Husein Augar",
         "UK",
         "White Choc",
         3192,
         72
        ],
        [
         "Ches Bonnell",
         "Canada",
         "After Nines",
         8435,
         42
        ],
        [
         "Ram Mahesh",
         "UK",
         "Manuka Honey Choco",
         0,
         135
        ],
        [
         "Ches Bonnell",
         "India",
         "85% Dark Bars",
         8862,
         189
        ],
        [
         "Curtice Advani",
         "New Zealand",
         "Caramel Stuffed Bars",
         3556,
         459
        ],
        [
         "Gigi Bohling",
         "India",
         "Raspberry Choco",
         7280,
         201
        ],
        [
         "Curtice Advani",
         "India",
         "70% Dark Bites",
         3402,
         366
        ],
        [
         "Gunar Cockshoot",
         "New Zealand",
         "Manuka Honey Choco",
         4592,
         324
        ],
        [
         "Husein Augar",
         "USA",
         "Raspberry Choco",
         7833,
         243
        ],
        [
         "Barr Faughny",
         "UK",
         "Spicy Special Slims",
         7651,
         213
        ],
        [
         "Ram Mahesh",
         "USA",
         "70% Dark Bites",
         2275,
         447
        ],
        [
         "Ram Mahesh",
         "Australia",
         "Milk Bars",
         5670,
         297
        ],
        [
         "Ches Bonnell",
         "USA",
         "Mint Chip Choco",
         2135,
         27
        ],
        [
         "Ram Mahesh",
         "India",
         "Fruit & Nut Bars",
         2779,
         75
        ],
        [
         "Oby Sorrel",
         "UK",
         "Peanut Butter Cubes",
         12950,
         30
        ],
        [
         "Ches Bonnell",
         "Canada",
         "Drinking Coco",
         2646,
         177
        ],
        [
         "Ram Mahesh",
         "India",
         "Peanut Butter Cubes",
         3794,
         159
        ],
        [
         "Gunar Cockshoot",
         "USA",
         "Peanut Butter Cubes",
         819,
         306
        ],
        [
         "Gunar Cockshoot",
         "India",
         "Orange Choco",
         2583,
         18
        ],
        [
         "Ches Bonnell",
         "USA",
         "99% Dark & Pure",
         4585,
         240
        ],
        [
         "Gigi Bohling",
         "India",
         "Peanut Butter Cubes",
         1652,
         93
        ],
        [
         "Oby Sorrel",
         "India",
         "Baker's Choco Chips",
         4991,
         9
        ],
        [
         "Brien Boise",
         "India",
         "Mint Chip Choco",
         2009,
         219
        ],
        [
         "Barr Faughny",
         "UK",
         "After Nines",
         1568,
         141
        ],
        [
         "Carla Molina",
         "New Zealand",
         "Orange Choco",
         3388,
         123
        ],
        [
         "Ram Mahesh",
         "Australia",
         "85% Dark Bars",
         623,
         51
        ],
        [
         "Curtice Advani",
         "Canada",
         "Almond Choco",
         10073,
         120
        ],
        [
         "Brien Boise",
         "UK",
         "Baker's Choco Chips",
         1561,
         27
        ],
        [
         "Husein Augar",
         "Canada",
         "Organic Choco Syrup",
         11522,
         204
        ],
        [
         "Curtice Advani",
         "Australia",
         "Milk Bars",
         2317,
         123
        ],
        [
         "Oby Sorrel",
         "New Zealand",
         "Caramel Stuffed Bars",
         3059,
         27
        ],
        [
         "Carla Molina",
         "New Zealand",
         "Baker's Choco Chips",
         2324,
         177
        ],
        [
         "Gunar Cockshoot",
         "UK",
         "Baker's Choco Chips",
         4956,
         171
        ],
        [
         "Oby Sorrel",
         "India",
         "99% Dark & Pure",
         5355,
         204
        ],
        [
         "Gunar Cockshoot",
         "India",
         "50% Dark Bites",
         7259,
         276
        ],
        [
         "Brien Boise",
         "New Zealand",
         "Baker's Choco Chips",
         6279,
         45
        ],
        [
         "Ram Mahesh",
         "Australia",
         "Manuka Honey Choco",
         2541,
         45
        ],
        [
         "Curtice Advani",
         "USA",
         "Organic Choco Syrup",
         3864,
         177
        ],
        [
         "Gigi Bohling",
         "Canada",
         "Milk Bars",
         6146,
         63
        ],
        [
         "Husein Augar",
         "UK",
         "Drinking Coco",
         2639,
         204
        ],
        [
         "Brien Boise",
         "New Zealand",
         "After Nines",
         1890,
         195
        ],
        [
         "Ches Bonnell",
         "India",
         "50% Dark Bites",
         1932,
         369
        ],
        [
         "Gunar Cockshoot",
         "India",
         "White Choc",
         6300,
         42
        ],
        [
         "Curtice Advani",
         "New Zealand",
         "70% Dark Bites",
         560,
         81
        ],
        [
         "Husein Augar",
         "New Zealand",
         "Baker's Choco Chips",
         2856,
         246
        ],
        [
         "Husein Augar",
         "India",
         "Eclairs",
         707,
         174
        ],
        [
         "Brien Boise",
         "USA",
         "70% Dark Bites",
         3598,
         81
        ],
        [
         "Ram Mahesh",
         "USA",
         "After Nines",
         6853,
         372
        ],
        [
         "Ram Mahesh",
         "USA",
         "Mint Chip Choco",
         4725,
         174
        ],
        [
         "Carla Molina",
         "Canada",
         "Choco Coated Almonds",
         10304,
         84
        ],
        [
         "Carla Molina",
         "India",
         "Mint Chip Choco",
         1274,
         225
        ],
        [
         "Gigi Bohling",
         "Canada",
         "70% Dark Bites",
         1526,
         105
        ],
        [
         "Ram Mahesh",
         "UK",
         "Caramel Stuffed Bars",
         3101,
         225
        ],
        [
         "Barr Faughny",
         "New Zealand",
         "50% Dark Bites",
         1057,
         54
        ],
        [
         "Ches Bonnell",
         "New Zealand",
         "Baker's Choco Chips",
         5306,
         0
        ],
        [
         "Gigi Bohling",
         "UK",
         "85% Dark Bars",
         4018,
         171
        ],
        [
         "Husein Augar",
         "India",
         "Mint Chip Choco",
         938,
         189
        ],
        [
         "Ches Bonnell",
         "Australia",
         "Drinking Coco",
         1778,
         270
        ],
        [
         "Curtice Advani",
         "UK",
         "70% Dark Bites",
         1638,
         63
        ],
        [
         "Carla Molina",
         "Australia",
         "White Choc",
         154,
         21
        ],
        [
         "Ches Bonnell",
         "New Zealand",
         "After Nines",
         9835,
         207
        ],
        [
         "Husein Augar",
         "New Zealand",
         "Orange Choco",
         7273,
         96
        ],
        [
         "Gigi Bohling",
         "UK",
         "After Nines",
         6909,
         81
        ],
        [
         "Husein Augar",
         "UK",
         "85% Dark Bars",
         3920,
         306
        ],
        [
         "Oby Sorrel",
         "UK",
         "Spicy Special Slims",
         4858,
         279
        ],
        [
         "Barr Faughny",
         "Australia",
         "Almond Choco",
         3549,
         3
        ],
        [
         "Ches Bonnell",
         "UK",
         "Organic Choco Syrup",
         966,
         198
        ],
        [
         "Gigi Bohling",
         "UK",
         "Drinking Coco",
         385,
         249
        ],
        [
         "Curtice Advani",
         "India",
         "Mint Chip Choco",
         2219,
         75
        ],
        [
         "Husein Augar",
         "Canada",
         "Choco Coated Almonds",
         2954,
         189
        ],
        [
         "Ches Bonnell",
         "Canada",
         "Choco Coated Almonds",
         280,
         87
        ],
        [
         "Carla Molina",
         "Canada",
         "70% Dark Bites",
         6118,
         174
        ],
        [
         "Barr Faughny",
         "UK",
         "Raspberry Choco",
         4802,
         36
        ],
        [
         "Husein Augar",
         "Australia",
         "85% Dark Bars",
         4137,
         60
        ],
        [
         "Gunar Cockshoot",
         "USA",
         "Fruit & Nut Bars",
         2023,
         78
        ],
        [
         "Husein Augar",
         "Canada",
         "70% Dark Bites",
         9051,
         57
        ],
        [
         "Husein Augar",
         "New Zealand",
         "Caramel Stuffed Bars",
         2919,
         45
        ],
        [
         "Carla Molina",
         "Australia",
         "After Nines",
         5915,
         3
        ],
        [
         "Oby Sorrel",
         "USA",
         "Raspberry Choco",
         2562,
         6
        ],
        [
         "Gigi Bohling",
         "New Zealand",
         "White Choc",
         8813,
         21
        ],
        [
         "Gigi Bohling",
         "Canada",
         "Drinking Coco",
         6111,
         3
        ],
        [
         "Brien Boise",
         "India",
         "Smooth Sliky Salty",
         3507,
         288
        ],
        [
         "Curtice Advani",
         "Canada",
         "Milk Bars",
         4319,
         30
        ],
        [
         "Ram Mahesh",
         "Australia",
         "Baker's Choco Chips",
         609,
         87
        ],
        [
         "Ram Mahesh",
         "UK",
         "Organic Choco Syrup",
         6370,
         30
        ],
        [
         "Gigi Bohling",
         "Australia",
         "99% Dark & Pure",
         5474,
         168
        ],
        [
         "Ram Mahesh",
         "Canada",
         "Organic Choco Syrup",
         3164,
         306
        ],
        [
         "Curtice Advani",
         "USA",
         "Almond Choco",
         1302,
         402
        ],
        [
         "Gunar Cockshoot",
         "New Zealand",
         "Caramel Stuffed Bars",
         7308,
         327
        ],
        [
         "Ram Mahesh",
         "New Zealand",
         "Organic Choco Syrup",
         6132,
         93
        ],
        [
         "Oby Sorrel",
         "USA",
         "50% Dark Bites",
         3472,
         96
        ],
        [
         "Brien Boise",
         "UK",
         "Drinking Coco",
         9660,
         27
        ],
        [
         "Husein Augar",
         "Australia",
         "Baker's Choco Chips",
         2436,
         99
        ],
        [
         "Husein Augar",
         "Australia",
         "Peanut Butter Cubes",
         9506,
         87
        ],
        [
         "Oby Sorrel",
         "New Zealand",
         "Spicy Special Slims",
         245,
         288
        ],
        [
         "Brien Boise",
         "USA",
         "Orange Choco",
         2702,
         363
        ],
        [
         "Oby Sorrel",
         "India",
         "Eclairs",
         700,
         87
        ],
        [
         "Curtice Advani",
         "India",
         "Eclairs",
         3759,
         150
        ],
        [
         "Barr Faughny",
         "USA",
         "Eclairs",
         1589,
         303
        ],
        [
         "Ches Bonnell",
         "USA",
         "Caramel Stuffed Bars",
         5194,
         288
        ],
        [
         "Oby Sorrel",
         "Canada",
         "Milk Bars",
         945,
         75
        ],
        [
         "Ram Mahesh",
         "Australia",
         "Smooth Sliky Salty",
         1988,
         39
        ],
        [
         "Curtice Advani",
         "India",
         "Choco Coated Almonds",
         6734,
         123
        ],
        [
         "Ram Mahesh",
         "Canada",
         "Almond Choco",
         217,
         36
        ],
        [
         "Gigi Bohling",
         "India",
         "After Nines",
         6279,
         237
        ],
        [
         "Ram Mahesh",
         "Canada",
         "Milk Bars",
         4424,
         201
        ],
        [
         "Barr Faughny",
         "Canada",
         "Eclairs",
         189,
         48
        ],
        [
         "Gigi Bohling",
         "USA",
         "After Nines",
         490,
         84
        ],
        [
         "Brien Boise",
         "New Zealand",
         "Spicy Special Slims",
         434,
         87
        ],
        [
         "Ches Bonnell",
         "Australia",
         "70% Dark Bites",
         10129,
         312
        ],
        [
         "Gunar Cockshoot",
         "UK",
         "Caramel Stuffed Bars",
         1652,
         102
        ],
        [
         "Brien Boise",
         "Australia",
         "Spicy Special Slims",
         6433,
         78
        ],
        [
         "Gunar Cockshoot",
         "India",
         "Fruit & Nut Bars",
         2212,
         117
        ],
        [
         "Carla Molina",
         "USA",
         "99% Dark & Pure",
         609,
         99
        ],
        [
         "Ram Mahesh",
         "USA",
         "85% Dark Bars",
         1638,
         48
        ],
        [
         "Ches Bonnell",
         "India",
         "Raspberry Choco",
         3829,
         24
        ],
        [
         "Ram Mahesh",
         "UK",
         "Raspberry Choco",
         5775,
         42
        ],
        [
         "Curtice Advani",
         "USA",
         "Orange Choco",
         1071,
         270
        ],
        [
         "Brien Boise",
         "Canada",
         "Fruit & Nut Bars",
         5019,
         150
        ],
        [
         "Barr Faughny",
         "New Zealand",
         "Raspberry Choco",
         2863,
         42
        ],
        [
         "Ram Mahesh",
         "USA",
         "Manuka Honey Choco",
         1617,
         126
        ],
        [
         "Curtice Advani",
         "New Zealand",
         "Baker's Choco Chips",
         6818,
         6
        ],
        [
         "Gunar Cockshoot",
         "USA",
         "Raspberry Choco",
         6657,
         276
        ],
        [
         "Gunar Cockshoot",
         "India",
         "Eclairs",
         2919,
         93
        ],
        [
         "Barr Faughny",
         "Canada",
         "Smooth Sliky Salty",
         3094,
         246
        ],
        [
         "Curtice Advani",
         "UK",
         "85% Dark Bars",
         2989,
         3
        ],
        [
         "Brien Boise",
         "Australia",
         "Organic Choco Syrup",
         2268,
         63
        ],
        [
         "Gigi Bohling",
         "USA",
         "Smooth Sliky Salty",
         4753,
         246
        ],
        [
         "Barr Faughny",
         "India",
         "99% Dark & Pure",
         7511,
         120
        ],
        [
         "Barr Faughny",
         "Australia",
         "Smooth Sliky Salty",
         4326,
         348
        ],
        [
         "Carla Molina",
         "India",
         "Fruit & Nut Bars",
         4935,
         126
        ],
        [
         "Curtice Advani",
         "USA",
         "70% Dark Bites",
         4781,
         123
        ],
        [
         "Gigi Bohling",
         "Australia",
         "White Choc",
         7483,
         45
        ],
        [
         "Oby Sorrel",
         "Australia",
         "Almond Choco",
         6860,
         126
        ],
        [
         "Ram Mahesh",
         "New Zealand",
         "Manuka Honey Choco",
         9002,
         72
        ],
        [
         "Curtice Advani",
         "Canada",
         "Manuka Honey Choco",
         1400,
         135
        ],
        [
         "Oby Sorrel",
         "India",
         "After Nines",
         4053,
         24
        ],
        [
         "Ches Bonnell",
         "Canada",
         "Smooth Sliky Salty",
         2149,
         117
        ],
        [
         "Gunar Cockshoot",
         "UK",
         "Manuka Honey Choco",
         3640,
         51
        ],
        [
         "Barr Faughny",
         "UK",
         "Fruit & Nut Bars",
         630,
         36
        ],
        [
         "Husein Augar",
         "USA",
         "Organic Choco Syrup",
         2429,
         144
        ],
        [
         "Husein Augar",
         "Canada",
         "White Choc",
         2142,
         114
        ],
        [
         "Ches Bonnell",
         "New Zealand",
         "70% Dark Bites",
         6454,
         54
        ],
        [
         "Ches Bonnell",
         "New Zealand",
         "Mint Chip Choco",
         4487,
         333
        ],
        [
         "Gunar Cockshoot",
         "New Zealand",
         "Almond Choco",
         938,
         366
        ],
        [
         "Gunar Cockshoot",
         "Australia",
         "Baker's Choco Chips",
         8841,
         303
        ],
        [
         "Barr Faughny",
         "UK",
         "Peanut Butter Cubes",
         4018,
         126
        ],
        [
         "Carla Molina",
         "New Zealand",
         "Raspberry Choco",
         714,
         231
        ],
        [
         "Husein Augar",
         "Australia",
         "White Choc",
         3850,
         102
        ]
       ],
       "datasetInfos": [],
       "dbfsResultPath": null,
       "isJsonSchema": true,
       "metadata": {},
       "overflow": false,
       "plotOptions": {
        "customPlotOptions": {},
        "displayType": "table",
        "pivotAggregation": null,
        "pivotColumns": null,
        "xColumns": null,
        "yColumns": null
       },
       "removedWidgets": [],
       "schema": [
        {
         "metadata": "{}",
         "name": "sales_person",
         "type": "\"string\""
        },
        {
         "metadata": "{}",
         "name": "geography",
         "type": "\"string\""
        },
        {
         "metadata": "{}",
         "name": "product_name",
         "type": "\"string\""
        },
        {
         "metadata": "{}",
         "name": "amount",
         "type": "\"integer\""
        },
        {
         "metadata": "{}",
         "name": "units",
         "type": "\"integer\""
        }
       ],
       "type": "table"
      }
     },
     "output_type": "display_data"
    }
   ],
   "source": [
    "silver_df.filter(col(\"sales_person\").isNotNull()).display()"
   ]
  },
  {
   "cell_type": "code",
   "execution_count": 0,
   "metadata": {
    "application/vnd.databricks.v1+cell": {
     "cellMetadata": {
      "byteLimit": 2048000,
      "rowLimit": 10000
     },
     "inputWidgets": {},
     "nuid": "81d9efa1-80bb-4547-adc8-1623a337716d",
     "showTitle": false,
     "tableResultSettingsMap": {},
     "title": ""
    }
   },
   "outputs": [],
   "source": [
    "silver_df.write.format(\"delta\").mode(\"overwrite\").save(\"/Volumes/sales_catalog/sales_schema/sales_volume/silver/sales_data/\")"
   ]
  },
  {
   "cell_type": "markdown",
   "metadata": {
    "application/vnd.databricks.v1+cell": {
     "cellMetadata": {},
     "inputWidgets": {},
     "nuid": "0932ff82-3d67-4a9a-a99e-a236029cb231",
     "showTitle": false,
     "tableResultSettingsMap": {},
     "title": ""
    }
   },
   "source": [
    "# Gold"
   ]
  },
  {
   "cell_type": "code",
   "execution_count": 0,
   "metadata": {
    "application/vnd.databricks.v1+cell": {
     "cellMetadata": {
      "byteLimit": 2048000,
      "rowLimit": 10000
     },
     "inputWidgets": {},
     "nuid": "9f8f6b5d-5b3e-463e-a2ed-c0259df2e762",
     "showTitle": false,
     "tableResultSettingsMap": {},
     "title": ""
    }
   },
   "outputs": [],
   "source": [
    "silver_df = spark.read.format(\"delta\").load(\"/Volumes/sales_catalog/sales_schema/sales_volume/silver/sales_data/\")"
   ]
  },
  {
   "cell_type": "code",
   "execution_count": 0,
   "metadata": {
    "application/vnd.databricks.v1+cell": {
     "cellMetadata": {
      "byteLimit": 2048000,
      "rowLimit": 10000
     },
     "inputWidgets": {},
     "nuid": "f9004de6-d4bc-44e5-8d6e-6b356cf5dc03",
     "showTitle": false,
     "tableResultSettingsMap": {},
     "title": ""
    }
   },
   "outputs": [],
   "source": [
    "sales_person = silver_df.groupBy(\"sales_person\")\\\n",
    "                    .agg({\"amount\": \"sum\", \"units\": \"sum\"})\\\n",
    "                    .withColumnRenamed(\"sum(amount)\", \"total_amount\") \\\n",
    "                    .withColumnRenamed(\"sum(units)\", \"total_units\")"
   ]
  },
  {
   "cell_type": "code",
   "execution_count": 0,
   "metadata": {
    "application/vnd.databricks.v1+cell": {
     "cellMetadata": {
      "byteLimit": 2048000,
      "rowLimit": 10000
     },
     "inputWidgets": {},
     "nuid": "ec7120df-e91d-4deb-a007-8d6bca1d4687",
     "showTitle": false,
     "tableResultSettingsMap": {},
     "title": ""
    }
   },
   "outputs": [],
   "source": [
    "geography_info = silver_df.groupBy(\"geography\")\\\n",
    "                    .agg({\"amount\": \"sum\", \"units\": \"sum\"})\\\n",
    "                    .withColumnRenamed(\"sum(amount)\", \"total_amount\") \\\n",
    "                    .withColumnRenamed(\"sum(units)\", \"total_units\")"
   ]
  },
  {
   "cell_type": "code",
   "execution_count": 0,
   "metadata": {
    "application/vnd.databricks.v1+cell": {
     "cellMetadata": {
      "byteLimit": 2048000,
      "rowLimit": 10000
     },
     "inputWidgets": {},
     "nuid": "501264fe-bb07-4479-bab1-8b1de4544937",
     "showTitle": false,
     "tableResultSettingsMap": {},
     "title": ""
    }
   },
   "outputs": [],
   "source": [
    "product_info = silver_df.groupBy(\"product_name\")\\\n",
    "                    .agg({\"amount\": \"sum\", \"units\": \"sum\"})\\\n",
    "                    .withColumnRenamed(\"sum(amount)\", \"total_amount\") \\\n",
    "                    .withColumnRenamed(\"sum(units)\", \"total_units\")"
   ]
  },
  {
   "cell_type": "markdown",
   "metadata": {
    "application/vnd.databricks.v1+cell": {
     "cellMetadata": {},
     "inputWidgets": {},
     "nuid": "bdb44499-39fc-4a40-8055-94f0d44f8a67",
     "showTitle": false,
     "tableResultSettingsMap": {},
     "title": ""
    }
   },
   "source": [
    "## Creating DELTA Tables (Managed Tables) in the unity catalog metastore"
   ]
  },
  {
   "cell_type": "code",
   "execution_count": 0,
   "metadata": {
    "application/vnd.databricks.v1+cell": {
     "cellMetadata": {
      "byteLimit": 2048000,
      "implicitDf": true,
      "rowLimit": 10000
     },
     "inputWidgets": {},
     "nuid": "529ba546-4096-4761-9709-ad0fc7b6682c",
     "showTitle": false,
     "tableResultSettingsMap": {},
     "title": ""
    }
   },
   "outputs": [
    {
     "output_type": "display_data",
     "data": {
      "text/html": [
       "<style scoped>\n",
       "  .table-result-container {\n",
       "    max-height: 300px;\n",
       "    overflow: auto;\n",
       "  }\n",
       "  table, th, td {\n",
       "    border: 1px solid black;\n",
       "    border-collapse: collapse;\n",
       "  }\n",
       "  th, td {\n",
       "    padding: 5px;\n",
       "  }\n",
       "  th {\n",
       "    text-align: left;\n",
       "  }\n",
       "</style><div class='table-result-container'><table class='table-result'><thead style='background-color: white'><tr></tr></thead><tbody></tbody></table></div>"
      ]
     },
     "metadata": {
      "application/vnd.databricks.v1+output": {
       "addedWidgets": {},
       "aggData": [],
       "aggError": "",
       "aggOverflow": false,
       "aggSchema": [],
       "aggSeriesLimitReached": false,
       "aggType": "",
       "arguments": {},
       "columnCustomDisplayInfos": {},
       "data": [],
       "datasetInfos": [],
       "dbfsResultPath": null,
       "isJsonSchema": true,
       "metadata": {
        "dataframeName": null
       },
       "overflow": false,
       "plotOptions": {
        "customPlotOptions": {},
        "displayType": "table",
        "pivotAggregation": null,
        "pivotColumns": null,
        "xColumns": null,
        "yColumns": null
       },
       "removedWidgets": [],
       "schema": [],
       "type": "table"
      }
     },
     "output_type": "display_data"
    }
   ],
   "source": [
    "%sql\n",
    "create Table Sales_Catalog.sales_schema.sales_person (sales_person string, total_amount long, total_units long) using DELTA;\n",
    "create Table Sales_Catalog.sales_schema.geography_info (geography string, total_amount long, total_units long) using DELTA;\n",
    "create Table Sales_Catalog.sales_schema.product_info (product_name string, total_amount long, total_units long) using DELTA;"
   ]
  },
  {
   "cell_type": "markdown",
   "metadata": {
    "application/vnd.databricks.v1+cell": {
     "cellMetadata": {},
     "inputWidgets": {},
     "nuid": "a2c9dd03-aef0-4465-b4ad-60f10955c983",
     "showTitle": false,
     "tableResultSettingsMap": {},
     "title": ""
    }
   },
   "source": [
    "# writing the data into the tables that we created in the unity catalog metastore"
   ]
  },
  {
   "cell_type": "code",
   "execution_count": 0,
   "metadata": {
    "application/vnd.databricks.v1+cell": {
     "cellMetadata": {
      "byteLimit": 2048000,
      "rowLimit": 10000
     },
     "inputWidgets": {},
     "nuid": "de3153eb-2d20-4996-95d4-77c1320f76a5",
     "showTitle": false,
     "tableResultSettingsMap": {},
     "title": ""
    }
   },
   "outputs": [],
   "source": [
    "sales_person.write.format(\"delta\").mode(\"overwrite\").saveAsTable(\"Sales_Catalog.sales_schema.sales_person\")\n",
    "geography_info.write.format(\"delta\").mode(\"overwrite\").saveAsTable(\"Sales_Catalog.sales_schema.geography_info\")\n",
    "product_info.write.format(\"delta\").mode(\"overwrite\").saveAsTable(\"Sales_Catalog.sales_schema.product_info\")"
   ]
  },
  {
   "cell_type": "markdown",
   "metadata": {
    "application/vnd.databricks.v1+cell": {
     "cellMetadata": {},
     "inputWidgets": {},
     "nuid": "959c8f3d-2216-40c2-b847-58289ddb6822",
     "showTitle": false,
     "tableResultSettingsMap": {},
     "title": ""
    }
   },
   "source": [
    "## creating External DELTA Tables (which will be created in our ADLS container)"
   ]
  },
  {
   "cell_type": "markdown",
   "metadata": {
    "application/vnd.databricks.v1+cell": {
     "cellMetadata": {},
     "inputWidgets": {},
     "nuid": "04499bb4-3161-46ae-a48e-668be484b549",
     "showTitle": false,
     "tableResultSettingsMap": {},
     "title": ""
    }
   },
   "source": [
    "Since our Volume is in the location `abfss://mychocloatesalescontainer@mychocolatesalessa.dfs.core.windows.net/mysales/` our external tables should not be in the same path of the volume, so we will create another external location and store the gold external tables in that path which `abfss://mychocloatesalescontainer@mychocolatesalessa.dfs.core.windows.net/goldTables/` "
   ]
  },
  {
   "cell_type": "code",
   "execution_count": 0,
   "metadata": {
    "application/vnd.databricks.v1+cell": {
     "cellMetadata": {
      "byteLimit": 2048000,
      "implicitDf": true,
      "rowLimit": 10000
     },
     "inputWidgets": {},
     "nuid": "8b5c01d5-00dc-4abf-8fbe-104845469977",
     "showTitle": false,
     "tableResultSettingsMap": {},
     "title": ""
    }
   },
   "outputs": [
    {
     "output_type": "display_data",
     "data": {
      "text/html": [
       "<style scoped>\n",
       "  .table-result-container {\n",
       "    max-height: 300px;\n",
       "    overflow: auto;\n",
       "  }\n",
       "  table, th, td {\n",
       "    border: 1px solid black;\n",
       "    border-collapse: collapse;\n",
       "  }\n",
       "  th, td {\n",
       "    padding: 5px;\n",
       "  }\n",
       "  th {\n",
       "    text-align: left;\n",
       "  }\n",
       "</style><div class='table-result-container'><table class='table-result'><thead style='background-color: white'><tr></tr></thead><tbody></tbody></table></div>"
      ]
     },
     "metadata": {
      "application/vnd.databricks.v1+output": {
       "addedWidgets": {},
       "aggData": [],
       "aggError": "",
       "aggOverflow": false,
       "aggSchema": [],
       "aggSeriesLimitReached": false,
       "aggType": "",
       "arguments": {},
       "columnCustomDisplayInfos": {},
       "data": [],
       "datasetInfos": [],
       "dbfsResultPath": null,
       "isJsonSchema": true,
       "metadata": {
        "dataframeName": null
       },
       "overflow": false,
       "plotOptions": {
        "customPlotOptions": {},
        "displayType": "table",
        "pivotAggregation": null,
        "pivotColumns": null,
        "xColumns": null,
        "yColumns": null
       },
       "removedWidgets": [],
       "schema": [],
       "type": "table"
      }
     },
     "output_type": "display_data"
    }
   ],
   "source": [
    "%sql\n",
    "create Table IF NOT EXISTS Sales_Catalog.sales_schema.sales_person_external_table (sales_person string, total_amount long, total_units long) \n",
    "using DELTA location 'abfss://mychocloatesalescontainer@mychocolatesalessa.dfs.core.windows.net/goldTables/salesperson';"
   ]
  },
  {
   "cell_type": "code",
   "execution_count": 0,
   "metadata": {
    "application/vnd.databricks.v1+cell": {
     "cellMetadata": {
      "byteLimit": 2048000,
      "implicitDf": true,
      "rowLimit": 10000
     },
     "inputWidgets": {},
     "nuid": "8a565f79-9304-41ab-8139-e9ca6ef4c2f7",
     "showTitle": false,
     "tableResultSettingsMap": {},
     "title": ""
    }
   },
   "outputs": [
    {
     "output_type": "display_data",
     "data": {
      "text/html": [
       "<style scoped>\n",
       "  .table-result-container {\n",
       "    max-height: 300px;\n",
       "    overflow: auto;\n",
       "  }\n",
       "  table, th, td {\n",
       "    border: 1px solid black;\n",
       "    border-collapse: collapse;\n",
       "  }\n",
       "  th, td {\n",
       "    padding: 5px;\n",
       "  }\n",
       "  th {\n",
       "    text-align: left;\n",
       "  }\n",
       "</style><div class='table-result-container'><table class='table-result'><thead style='background-color: white'><tr></tr></thead><tbody></tbody></table></div>"
      ]
     },
     "metadata": {
      "application/vnd.databricks.v1+output": {
       "addedWidgets": {},
       "aggData": [],
       "aggError": "",
       "aggOverflow": false,
       "aggSchema": [],
       "aggSeriesLimitReached": false,
       "aggType": "",
       "arguments": {},
       "columnCustomDisplayInfos": {},
       "data": [],
       "datasetInfos": [],
       "dbfsResultPath": null,
       "isJsonSchema": true,
       "metadata": {
        "dataframeName": null
       },
       "overflow": false,
       "plotOptions": {
        "customPlotOptions": {},
        "displayType": "table",
        "pivotAggregation": null,
        "pivotColumns": null,
        "xColumns": null,
        "yColumns": null
       },
       "removedWidgets": [],
       "schema": [],
       "type": "table"
      }
     },
     "output_type": "display_data"
    }
   ],
   "source": [
    "%sql\n",
    "create Table IF NOT EXISTS Sales_Catalog.sales_schema.geography_info_external_table (geography string, total_amount long, total_units long) using DELTA location 'abfss://mychocloatesalescontainer@mychocolatesalessa.dfs.core.windows.net/goldTables/geography_info';"
   ]
  },
  {
   "cell_type": "code",
   "execution_count": 0,
   "metadata": {
    "application/vnd.databricks.v1+cell": {
     "cellMetadata": {
      "byteLimit": 2048000,
      "implicitDf": true,
      "rowLimit": 10000
     },
     "inputWidgets": {},
     "nuid": "37915a70-88c8-45d5-81fc-c40925f99a28",
     "showTitle": false,
     "tableResultSettingsMap": {},
     "title": ""
    }
   },
   "outputs": [
    {
     "output_type": "display_data",
     "data": {
      "text/html": [
       "<style scoped>\n",
       "  .table-result-container {\n",
       "    max-height: 300px;\n",
       "    overflow: auto;\n",
       "  }\n",
       "  table, th, td {\n",
       "    border: 1px solid black;\n",
       "    border-collapse: collapse;\n",
       "  }\n",
       "  th, td {\n",
       "    padding: 5px;\n",
       "  }\n",
       "  th {\n",
       "    text-align: left;\n",
       "  }\n",
       "</style><div class='table-result-container'><table class='table-result'><thead style='background-color: white'><tr></tr></thead><tbody></tbody></table></div>"
      ]
     },
     "metadata": {
      "application/vnd.databricks.v1+output": {
       "addedWidgets": {},
       "aggData": [],
       "aggError": "",
       "aggOverflow": false,
       "aggSchema": [],
       "aggSeriesLimitReached": false,
       "aggType": "",
       "arguments": {},
       "columnCustomDisplayInfos": {},
       "data": [],
       "datasetInfos": [],
       "dbfsResultPath": null,
       "isJsonSchema": true,
       "metadata": {
        "dataframeName": null
       },
       "overflow": false,
       "plotOptions": {
        "customPlotOptions": {},
        "displayType": "table",
        "pivotAggregation": null,
        "pivotColumns": null,
        "xColumns": null,
        "yColumns": null
       },
       "removedWidgets": [],
       "schema": [],
       "type": "table"
      }
     },
     "output_type": "display_data"
    }
   ],
   "source": [
    "%sql\n",
    "create table if not exists Sales_Catalog.sales_schema.product_info_external_table (product_name string, total_amount long, total_units long) using DELTA location 'abfss://mychocloatesalescontainer@mychocolatesalessa.dfs.core.windows.net/goldTables/product_info'"
   ]
  },
  {
   "cell_type": "markdown",
   "metadata": {
    "application/vnd.databricks.v1+cell": {
     "cellMetadata": {},
     "inputWidgets": {},
     "nuid": "0895fdc1-8f76-4af1-a4ea-26a7b3bc972a",
     "showTitle": false,
     "tableResultSettingsMap": {},
     "title": ""
    }
   },
   "source": [
    "# writing the data in the external tables that we created"
   ]
  },
  {
   "cell_type": "code",
   "execution_count": 0,
   "metadata": {
    "application/vnd.databricks.v1+cell": {
     "cellMetadata": {
      "byteLimit": 2048000,
      "rowLimit": 10000
     },
     "inputWidgets": {},
     "nuid": "95b6f754-84d5-4af9-b0b1-a2d52999d686",
     "showTitle": false,
     "tableResultSettingsMap": {},
     "title": ""
    }
   },
   "outputs": [],
   "source": [
    "sales_person.write.format(\"delta\").mode(\"overwrite\").saveAsTable(\"Sales_Catalog.sales_schema.sales_person_external_table\")"
   ]
  },
  {
   "cell_type": "code",
   "execution_count": 0,
   "metadata": {
    "application/vnd.databricks.v1+cell": {
     "cellMetadata": {
      "byteLimit": 2048000,
      "rowLimit": 10000
     },
     "inputWidgets": {},
     "nuid": "4b9a6b09-c5ec-462a-8cde-009a1a9acb95",
     "showTitle": false,
     "tableResultSettingsMap": {},
     "title": ""
    }
   },
   "outputs": [],
   "source": [
    "geography_info.write.format(\"delta\").mode(\"overwrite\").saveAsTable(\"Sales_Catalog.sales_schema.geography_info_external_table\")"
   ]
  },
  {
   "cell_type": "code",
   "execution_count": 0,
   "metadata": {
    "application/vnd.databricks.v1+cell": {
     "cellMetadata": {
      "byteLimit": 2048000,
      "rowLimit": 10000
     },
     "inputWidgets": {},
     "nuid": "0ea836fc-7cfa-4697-bc72-ecbb6ed16c5c",
     "showTitle": false,
     "tableResultSettingsMap": {},
     "title": ""
    }
   },
   "outputs": [],
   "source": [
    "product_info.write.format(\"delta\").mode(\"overwrite\").saveAsTable(\"Sales_Catalog.sales_schema.product_info_external_table\")"
   ]
  }
 ],
 "metadata": {
  "application/vnd.databricks.v1+notebook": {
   "computePreferences": null,
   "dashboards": [],
   "environmentMetadata": {
    "base_environment": "",
    "environment_version": "2"
   },
   "inputWidgetPreferences": null,
   "language": "python",
   "notebookMetadata": {
    "mostRecentlyExecutedCommandWithImplicitDF": {
     "commandId": 8474473996932621,
     "dataframes": [
      "_sqldf"
     ]
    },
    "pythonIndentUnit": 4
   },
   "notebookName": "AcessingDataUsingUnityCatalog",
   "widgets": {}
  },
  "language_info": {
   "name": "python"
  }
 },
 "nbformat": 4,
 "nbformat_minor": 0
}